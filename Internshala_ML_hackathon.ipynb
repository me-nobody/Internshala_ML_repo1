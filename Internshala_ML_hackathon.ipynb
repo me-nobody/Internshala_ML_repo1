{
  "nbformat": 4,
  "nbformat_minor": 5,
  "metadata": {
    "kernelspec": {
      "display_name": "Python 3",
      "language": "python",
      "name": "python3"
    },
    "language_info": {
      "codemirror_mode": {
        "name": "ipython",
        "version": 3
      },
      "file_extension": ".py",
      "mimetype": "text/x-python",
      "name": "python",
      "nbconvert_exporter": "python",
      "pygments_lexer": "ipython3",
      "version": "3.7.6"
    },
    "colab": {
      "name": "contest_uns_randomforest_ent060621.ipynb",
      "provenance": [],
      "collapsed_sections": [
        "b305dc1e-ef82-47cf-8f7f-dcc94cdb871a",
        "c893afa2-af19-4654-a3cf-eedf1167d963",
        "0d2af4b7-25c7-4ce6-a519-e650d73d21e4",
        "e7a76895-6009-4186-a7eb-9c1b77df98f0"
      ],
      "toc_visible": true
    }
  },
  "cells": [
    {
      "cell_type": "code",
      "metadata": {
        "id": "866a263e"
      },
      "source": [
        "# load libraries\n",
        "import numpy as np\n",
        "import pandas as pd\n",
        "import matplotlib\n",
        "import matplotlib.pyplot as plt\n",
        "import seaborn as sns\n",
        "%matplotlib inline\n",
        "from scipy import stats\n",
        "sns.set(color_codes=True)\n",
        "from sklearn.impute import SimpleImputer\n",
        "from sklearn.preprocessing import StandardScaler\n",
        "from sklearn.model_selection import train_test_split as tts\n",
        "from sklearn.linear_model import LogisticRegression\n",
        "from sklearn.tree import DecisionTreeClassifier\n",
        "from sklearn.ensemble import RandomForestClassifier\n",
        "from sklearn.metrics import f1_score, roc_auc_score , precision_score, recall_score\n",
        "from sklearn.metrics import classification_report\n",
        "from sklearn.metrics import roc_curve,roc_auc_score\n",
        "from datetime import datetime"
      ],
      "id": "866a263e",
      "execution_count": 1,
      "outputs": []
    },
    {
      "cell_type": "code",
      "metadata": {
        "id": "xWo7P9KVum84"
      },
      "source": [
        ""
      ],
      "id": "xWo7P9KVum84",
      "execution_count": null,
      "outputs": []
    },
    {
      "cell_type": "code",
      "metadata": {
        "tags": [],
        "id": "669842dc"
      },
      "source": [
        "pd.set_option('display.max_columns', None)\n",
        "import warnings\n",
        "warnings.simplefilter(action='ignore')"
      ],
      "id": "669842dc",
      "execution_count": 2,
      "outputs": []
    },
    {
      "cell_type": "markdown",
      "metadata": {
        "id": "d4e2daea"
      },
      "source": [
        "#### based on prior inspection of the train.csv file, we are parsing the date columns as datetime objects "
      ],
      "id": "d4e2daea"
    },
    {
      "cell_type": "code",
      "metadata": {
        "id": "5ab8092c"
      },
      "source": [
        "train=pd.read_csv('train.csv',parse_dates=['Application_Receipt_Date','Applicant_BirthDate','Manager_DOJ','Manager_DoB'])"
      ],
      "id": "5ab8092c",
      "execution_count": 3,
      "outputs": []
    },
    {
      "cell_type": "code",
      "metadata": {
        "id": "efe4fa48-dd65-4235-ad0a-d363f7a2feb2"
      },
      "source": [
        ""
      ],
      "id": "efe4fa48-dd65-4235-ad0a-d363f7a2feb2",
      "execution_count": 3,
      "outputs": []
    },
    {
      "cell_type": "code",
      "metadata": {
        "colab": {
          "base_uri": "https://localhost:8080/",
          "height": 396
        },
        "id": "8232fd6c",
        "outputId": "0109d69e-d9c4-46ee-cdbc-e53c245033e2"
      },
      "source": [
        "train.sample(10)"
      ],
      "id": "8232fd6c",
      "execution_count": 4,
      "outputs": [
        {
          "output_type": "execute_result",
          "data": {
            "text/html": [
              "<div>\n",
              "<style scoped>\n",
              "    .dataframe tbody tr th:only-of-type {\n",
              "        vertical-align: middle;\n",
              "    }\n",
              "\n",
              "    .dataframe tbody tr th {\n",
              "        vertical-align: top;\n",
              "    }\n",
              "\n",
              "    .dataframe thead th {\n",
              "        text-align: right;\n",
              "    }\n",
              "</style>\n",
              "<table border=\"1\" class=\"dataframe\">\n",
              "  <thead>\n",
              "    <tr style=\"text-align: right;\">\n",
              "      <th></th>\n",
              "      <th>ID</th>\n",
              "      <th>Office_PIN</th>\n",
              "      <th>Application_Receipt_Date</th>\n",
              "      <th>Applicant_City_PIN</th>\n",
              "      <th>Applicant_Gender</th>\n",
              "      <th>Applicant_BirthDate</th>\n",
              "      <th>Applicant_Marital_Status</th>\n",
              "      <th>Applicant_Occupation</th>\n",
              "      <th>Applicant_Qualification</th>\n",
              "      <th>Manager_DOJ</th>\n",
              "      <th>Manager_Joining_Designation</th>\n",
              "      <th>Manager_Current_Designation</th>\n",
              "      <th>Manager_Grade</th>\n",
              "      <th>Manager_Status</th>\n",
              "      <th>Manager_Gender</th>\n",
              "      <th>Manager_DoB</th>\n",
              "      <th>Manager_Num_Application</th>\n",
              "      <th>Manager_Num_Coded</th>\n",
              "      <th>Manager_Business</th>\n",
              "      <th>Manager_Num_Products</th>\n",
              "      <th>Manager_Business2</th>\n",
              "      <th>Manager_Num_Products2</th>\n",
              "      <th>Business_Sourced</th>\n",
              "    </tr>\n",
              "  </thead>\n",
              "  <tbody>\n",
              "    <tr>\n",
              "      <th>4700</th>\n",
              "      <td>FIN1004701</td>\n",
              "      <td>492001</td>\n",
              "      <td>2007-11-05</td>\n",
              "      <td>492099.0</td>\n",
              "      <td>M</td>\n",
              "      <td>1967-04-15</td>\n",
              "      <td>M</td>\n",
              "      <td>Others</td>\n",
              "      <td>Class XII</td>\n",
              "      <td>2006-08-22</td>\n",
              "      <td>Level 1</td>\n",
              "      <td>Level 1</td>\n",
              "      <td>2.0</td>\n",
              "      <td>Confirmation</td>\n",
              "      <td>M</td>\n",
              "      <td>1966-12-08</td>\n",
              "      <td>2.0</td>\n",
              "      <td>1.0</td>\n",
              "      <td>188831.0</td>\n",
              "      <td>6.0</td>\n",
              "      <td>188831.0</td>\n",
              "      <td>6.0</td>\n",
              "      <td>1</td>\n",
              "    </tr>\n",
              "    <tr>\n",
              "      <th>717</th>\n",
              "      <td>FIN1000718</td>\n",
              "      <td>474008</td>\n",
              "      <td>2007-05-04</td>\n",
              "      <td>474009.0</td>\n",
              "      <td>M</td>\n",
              "      <td>1984-01-25</td>\n",
              "      <td>S</td>\n",
              "      <td>Others</td>\n",
              "      <td>Class XII</td>\n",
              "      <td>2005-08-29</td>\n",
              "      <td>Level 1</td>\n",
              "      <td>Level 2</td>\n",
              "      <td>3.0</td>\n",
              "      <td>Confirmation</td>\n",
              "      <td>M</td>\n",
              "      <td>1979-03-02</td>\n",
              "      <td>0.0</td>\n",
              "      <td>0.0</td>\n",
              "      <td>74777.0</td>\n",
              "      <td>6.0</td>\n",
              "      <td>74777.0</td>\n",
              "      <td>6.0</td>\n",
              "      <td>0</td>\n",
              "    </tr>\n",
              "    <tr>\n",
              "      <th>1799</th>\n",
              "      <td>FIN1001800</td>\n",
              "      <td>560001</td>\n",
              "      <td>2007-06-11</td>\n",
              "      <td>560043.0</td>\n",
              "      <td>M</td>\n",
              "      <td>1944-02-15</td>\n",
              "      <td>M</td>\n",
              "      <td>Salaried</td>\n",
              "      <td>Class XII</td>\n",
              "      <td>2007-04-12</td>\n",
              "      <td>Level 2</td>\n",
              "      <td>Level 4</td>\n",
              "      <td>5.0</td>\n",
              "      <td>Probation</td>\n",
              "      <td>M</td>\n",
              "      <td>1975-06-15</td>\n",
              "      <td>4.0</td>\n",
              "      <td>0.0</td>\n",
              "      <td>0.0</td>\n",
              "      <td>0.0</td>\n",
              "      <td>0.0</td>\n",
              "      <td>0.0</td>\n",
              "      <td>1</td>\n",
              "    </tr>\n",
              "    <tr>\n",
              "      <th>2657</th>\n",
              "      <td>FIN1002658</td>\n",
              "      <td>380015</td>\n",
              "      <td>2007-07-21</td>\n",
              "      <td>380052.0</td>\n",
              "      <td>M</td>\n",
              "      <td>1981-08-25</td>\n",
              "      <td>M</td>\n",
              "      <td>Salaried</td>\n",
              "      <td>Class XII</td>\n",
              "      <td>2001-10-01</td>\n",
              "      <td>Level 2</td>\n",
              "      <td>Level 3</td>\n",
              "      <td>4.0</td>\n",
              "      <td>Confirmation</td>\n",
              "      <td>M</td>\n",
              "      <td>1961-03-24</td>\n",
              "      <td>5.0</td>\n",
              "      <td>1.0</td>\n",
              "      <td>10400.0</td>\n",
              "      <td>1.0</td>\n",
              "      <td>10400.0</td>\n",
              "      <td>1.0</td>\n",
              "      <td>0</td>\n",
              "    </tr>\n",
              "    <tr>\n",
              "      <th>373</th>\n",
              "      <td>FIN1000374</td>\n",
              "      <td>209625</td>\n",
              "      <td>2007-04-24</td>\n",
              "      <td>209743.0</td>\n",
              "      <td>M</td>\n",
              "      <td>1980-07-04</td>\n",
              "      <td>M</td>\n",
              "      <td>Business</td>\n",
              "      <td>Class XII</td>\n",
              "      <td>2004-05-04</td>\n",
              "      <td>Level 1</td>\n",
              "      <td>Level 3</td>\n",
              "      <td>4.0</td>\n",
              "      <td>Confirmation</td>\n",
              "      <td>M</td>\n",
              "      <td>1967-09-16</td>\n",
              "      <td>0.0</td>\n",
              "      <td>0.0</td>\n",
              "      <td>239089.0</td>\n",
              "      <td>17.0</td>\n",
              "      <td>239089.0</td>\n",
              "      <td>17.0</td>\n",
              "      <td>0</td>\n",
              "    </tr>\n",
              "    <tr>\n",
              "      <th>3830</th>\n",
              "      <td>FIN1003831</td>\n",
              "      <td>530003</td>\n",
              "      <td>2007-09-17</td>\n",
              "      <td>532214.0</td>\n",
              "      <td>M</td>\n",
              "      <td>1985-06-08</td>\n",
              "      <td>S</td>\n",
              "      <td>Salaried</td>\n",
              "      <td>Class XII</td>\n",
              "      <td>2007-06-13</td>\n",
              "      <td>Level 1</td>\n",
              "      <td>Level 1</td>\n",
              "      <td>2.0</td>\n",
              "      <td>Probation</td>\n",
              "      <td>M</td>\n",
              "      <td>1972-06-16</td>\n",
              "      <td>6.0</td>\n",
              "      <td>2.0</td>\n",
              "      <td>34402.0</td>\n",
              "      <td>2.0</td>\n",
              "      <td>34402.0</td>\n",
              "      <td>2.0</td>\n",
              "      <td>1</td>\n",
              "    </tr>\n",
              "    <tr>\n",
              "      <th>7873</th>\n",
              "      <td>FIN1007874</td>\n",
              "      <td>476001</td>\n",
              "      <td>2008-04-26</td>\n",
              "      <td>474003.0</td>\n",
              "      <td>M</td>\n",
              "      <td>1979-10-07</td>\n",
              "      <td>M</td>\n",
              "      <td>NaN</td>\n",
              "      <td>Graduate</td>\n",
              "      <td>2008-01-19</td>\n",
              "      <td>Level 2</td>\n",
              "      <td>Level 2</td>\n",
              "      <td>3.0</td>\n",
              "      <td>Probation</td>\n",
              "      <td>M</td>\n",
              "      <td>1976-06-12</td>\n",
              "      <td>0.0</td>\n",
              "      <td>1.0</td>\n",
              "      <td>30113.0</td>\n",
              "      <td>2.0</td>\n",
              "      <td>30113.0</td>\n",
              "      <td>2.0</td>\n",
              "      <td>0</td>\n",
              "    </tr>\n",
              "    <tr>\n",
              "      <th>6366</th>\n",
              "      <td>FIN1006367</td>\n",
              "      <td>250001</td>\n",
              "      <td>2007-12-29</td>\n",
              "      <td>250001.0</td>\n",
              "      <td>M</td>\n",
              "      <td>1979-09-30</td>\n",
              "      <td>M</td>\n",
              "      <td>Business</td>\n",
              "      <td>Masters of Business Administration</td>\n",
              "      <td>2006-06-23</td>\n",
              "      <td>Level 1</td>\n",
              "      <td>Level 1</td>\n",
              "      <td>2.0</td>\n",
              "      <td>Confirmation</td>\n",
              "      <td>M</td>\n",
              "      <td>1972-03-20</td>\n",
              "      <td>1.0</td>\n",
              "      <td>0.0</td>\n",
              "      <td>91850.0</td>\n",
              "      <td>4.0</td>\n",
              "      <td>91850.0</td>\n",
              "      <td>4.0</td>\n",
              "      <td>0</td>\n",
              "    </tr>\n",
              "    <tr>\n",
              "      <th>6346</th>\n",
              "      <td>FIN1006347</td>\n",
              "      <td>841428</td>\n",
              "      <td>2007-12-28</td>\n",
              "      <td>841437.0</td>\n",
              "      <td>M</td>\n",
              "      <td>1981-08-12</td>\n",
              "      <td>M</td>\n",
              "      <td>Business</td>\n",
              "      <td>Graduate</td>\n",
              "      <td>2007-11-06</td>\n",
              "      <td>Level 1</td>\n",
              "      <td>Level 1</td>\n",
              "      <td>2.0</td>\n",
              "      <td>Probation</td>\n",
              "      <td>M</td>\n",
              "      <td>1982-12-27</td>\n",
              "      <td>2.0</td>\n",
              "      <td>0.0</td>\n",
              "      <td>0.0</td>\n",
              "      <td>0.0</td>\n",
              "      <td>0.0</td>\n",
              "      <td>0.0</td>\n",
              "      <td>1</td>\n",
              "    </tr>\n",
              "    <tr>\n",
              "      <th>6590</th>\n",
              "      <td>FIN1006591</td>\n",
              "      <td>202001</td>\n",
              "      <td>2008-01-09</td>\n",
              "      <td>203132.0</td>\n",
              "      <td>M</td>\n",
              "      <td>1984-09-09</td>\n",
              "      <td>S</td>\n",
              "      <td>Others</td>\n",
              "      <td>Graduate</td>\n",
              "      <td>2003-10-20</td>\n",
              "      <td>Level 2</td>\n",
              "      <td>Level 3</td>\n",
              "      <td>4.0</td>\n",
              "      <td>Confirmation</td>\n",
              "      <td>M</td>\n",
              "      <td>1974-07-07</td>\n",
              "      <td>3.0</td>\n",
              "      <td>0.0</td>\n",
              "      <td>177572.0</td>\n",
              "      <td>6.0</td>\n",
              "      <td>177572.0</td>\n",
              "      <td>6.0</td>\n",
              "      <td>1</td>\n",
              "    </tr>\n",
              "  </tbody>\n",
              "</table>\n",
              "</div>"
            ],
            "text/plain": [
              "              ID  Office_PIN Application_Receipt_Date  Applicant_City_PIN  \\\n",
              "4700  FIN1004701      492001               2007-11-05            492099.0   \n",
              "717   FIN1000718      474008               2007-05-04            474009.0   \n",
              "1799  FIN1001800      560001               2007-06-11            560043.0   \n",
              "2657  FIN1002658      380015               2007-07-21            380052.0   \n",
              "373   FIN1000374      209625               2007-04-24            209743.0   \n",
              "3830  FIN1003831      530003               2007-09-17            532214.0   \n",
              "7873  FIN1007874      476001               2008-04-26            474003.0   \n",
              "6366  FIN1006367      250001               2007-12-29            250001.0   \n",
              "6346  FIN1006347      841428               2007-12-28            841437.0   \n",
              "6590  FIN1006591      202001               2008-01-09            203132.0   \n",
              "\n",
              "     Applicant_Gender Applicant_BirthDate Applicant_Marital_Status  \\\n",
              "4700                M          1967-04-15                        M   \n",
              "717                 M          1984-01-25                        S   \n",
              "1799                M          1944-02-15                        M   \n",
              "2657                M          1981-08-25                        M   \n",
              "373                 M          1980-07-04                        M   \n",
              "3830                M          1985-06-08                        S   \n",
              "7873                M          1979-10-07                        M   \n",
              "6366                M          1979-09-30                        M   \n",
              "6346                M          1981-08-12                        M   \n",
              "6590                M          1984-09-09                        S   \n",
              "\n",
              "     Applicant_Occupation             Applicant_Qualification Manager_DOJ  \\\n",
              "4700               Others                           Class XII  2006-08-22   \n",
              "717                Others                           Class XII  2005-08-29   \n",
              "1799             Salaried                           Class XII  2007-04-12   \n",
              "2657             Salaried                           Class XII  2001-10-01   \n",
              "373              Business                           Class XII  2004-05-04   \n",
              "3830             Salaried                           Class XII  2007-06-13   \n",
              "7873                  NaN                            Graduate  2008-01-19   \n",
              "6366             Business  Masters of Business Administration  2006-06-23   \n",
              "6346             Business                            Graduate  2007-11-06   \n",
              "6590               Others                            Graduate  2003-10-20   \n",
              "\n",
              "     Manager_Joining_Designation Manager_Current_Designation  Manager_Grade  \\\n",
              "4700                     Level 1                     Level 1            2.0   \n",
              "717                      Level 1                     Level 2            3.0   \n",
              "1799                     Level 2                     Level 4            5.0   \n",
              "2657                     Level 2                     Level 3            4.0   \n",
              "373                      Level 1                     Level 3            4.0   \n",
              "3830                     Level 1                     Level 1            2.0   \n",
              "7873                     Level 2                     Level 2            3.0   \n",
              "6366                     Level 1                     Level 1            2.0   \n",
              "6346                     Level 1                     Level 1            2.0   \n",
              "6590                     Level 2                     Level 3            4.0   \n",
              "\n",
              "     Manager_Status Manager_Gender Manager_DoB  Manager_Num_Application  \\\n",
              "4700   Confirmation              M  1966-12-08                      2.0   \n",
              "717    Confirmation              M  1979-03-02                      0.0   \n",
              "1799      Probation              M  1975-06-15                      4.0   \n",
              "2657   Confirmation              M  1961-03-24                      5.0   \n",
              "373    Confirmation              M  1967-09-16                      0.0   \n",
              "3830      Probation              M  1972-06-16                      6.0   \n",
              "7873      Probation              M  1976-06-12                      0.0   \n",
              "6366   Confirmation              M  1972-03-20                      1.0   \n",
              "6346      Probation              M  1982-12-27                      2.0   \n",
              "6590   Confirmation              M  1974-07-07                      3.0   \n",
              "\n",
              "      Manager_Num_Coded  Manager_Business  Manager_Num_Products  \\\n",
              "4700                1.0          188831.0                   6.0   \n",
              "717                 0.0           74777.0                   6.0   \n",
              "1799                0.0               0.0                   0.0   \n",
              "2657                1.0           10400.0                   1.0   \n",
              "373                 0.0          239089.0                  17.0   \n",
              "3830                2.0           34402.0                   2.0   \n",
              "7873                1.0           30113.0                   2.0   \n",
              "6366                0.0           91850.0                   4.0   \n",
              "6346                0.0               0.0                   0.0   \n",
              "6590                0.0          177572.0                   6.0   \n",
              "\n",
              "      Manager_Business2  Manager_Num_Products2  Business_Sourced  \n",
              "4700           188831.0                    6.0                 1  \n",
              "717             74777.0                    6.0                 0  \n",
              "1799                0.0                    0.0                 1  \n",
              "2657            10400.0                    1.0                 0  \n",
              "373            239089.0                   17.0                 0  \n",
              "3830            34402.0                    2.0                 1  \n",
              "7873            30113.0                    2.0                 0  \n",
              "6366            91850.0                    4.0                 0  \n",
              "6346                0.0                    0.0                 1  \n",
              "6590           177572.0                    6.0                 1  "
            ]
          },
          "metadata": {
            "tags": []
          },
          "execution_count": 4
        }
      ]
    },
    {
      "cell_type": "code",
      "metadata": {
        "colab": {
          "base_uri": "https://localhost:8080/"
        },
        "id": "fbd42960",
        "outputId": "846e1daa-bee0-4d32-d025-5592028c4860"
      },
      "source": [
        "train.info()"
      ],
      "id": "fbd42960",
      "execution_count": 5,
      "outputs": [
        {
          "output_type": "stream",
          "text": [
            "<class 'pandas.core.frame.DataFrame'>\n",
            "RangeIndex: 9527 entries, 0 to 9526\n",
            "Data columns (total 23 columns):\n",
            " #   Column                       Non-Null Count  Dtype         \n",
            "---  ------                       --------------  -----         \n",
            " 0   ID                           9527 non-null   object        \n",
            " 1   Office_PIN                   9527 non-null   int64         \n",
            " 2   Application_Receipt_Date     9527 non-null   datetime64[ns]\n",
            " 3   Applicant_City_PIN           9430 non-null   float64       \n",
            " 4   Applicant_Gender             9460 non-null   object        \n",
            " 5   Applicant_BirthDate          9454 non-null   datetime64[ns]\n",
            " 6   Applicant_Marital_Status     9454 non-null   object        \n",
            " 7   Applicant_Occupation         8306 non-null   object        \n",
            " 8   Applicant_Qualification      9441 non-null   object        \n",
            " 9   Manager_DOJ                  8844 non-null   datetime64[ns]\n",
            " 10  Manager_Joining_Designation  8844 non-null   object        \n",
            " 11  Manager_Current_Designation  8844 non-null   object        \n",
            " 12  Manager_Grade                8844 non-null   float64       \n",
            " 13  Manager_Status               8844 non-null   object        \n",
            " 14  Manager_Gender               8844 non-null   object        \n",
            " 15  Manager_DoB                  8844 non-null   datetime64[ns]\n",
            " 16  Manager_Num_Application      8844 non-null   float64       \n",
            " 17  Manager_Num_Coded            8844 non-null   float64       \n",
            " 18  Manager_Business             8844 non-null   float64       \n",
            " 19  Manager_Num_Products         8844 non-null   float64       \n",
            " 20  Manager_Business2            8844 non-null   float64       \n",
            " 21  Manager_Num_Products2        8844 non-null   float64       \n",
            " 22  Business_Sourced             9527 non-null   int64         \n",
            "dtypes: datetime64[ns](4), float64(8), int64(2), object(9)\n",
            "memory usage: 1.7+ MB\n"
          ],
          "name": "stdout"
        }
      ]
    },
    {
      "cell_type": "markdown",
      "metadata": {
        "id": "cddcdaf6"
      },
      "source": [
        "#### since the ID column is an identifier, it is not important for classfication purpose"
      ],
      "id": "cddcdaf6"
    },
    {
      "cell_type": "raw",
      "metadata": {
        "id": "0ecd9663"
      },
      "source": [
        "set the ID column as index"
      ],
      "id": "0ecd9663"
    },
    {
      "cell_type": "code",
      "metadata": {
        "id": "895f70d6"
      },
      "source": [
        "train.set_index('ID',drop=True,inplace=True)"
      ],
      "id": "895f70d6",
      "execution_count": 6,
      "outputs": []
    },
    {
      "cell_type": "code",
      "metadata": {
        "colab": {
          "base_uri": "https://localhost:8080/",
          "height": 162
        },
        "id": "7453de74",
        "outputId": "94870f89-5577-4184-da41-09cb92e047e1"
      },
      "source": [
        "train.head(n=2)"
      ],
      "id": "7453de74",
      "execution_count": 7,
      "outputs": [
        {
          "output_type": "execute_result",
          "data": {
            "text/html": [
              "<div>\n",
              "<style scoped>\n",
              "    .dataframe tbody tr th:only-of-type {\n",
              "        vertical-align: middle;\n",
              "    }\n",
              "\n",
              "    .dataframe tbody tr th {\n",
              "        vertical-align: top;\n",
              "    }\n",
              "\n",
              "    .dataframe thead th {\n",
              "        text-align: right;\n",
              "    }\n",
              "</style>\n",
              "<table border=\"1\" class=\"dataframe\">\n",
              "  <thead>\n",
              "    <tr style=\"text-align: right;\">\n",
              "      <th></th>\n",
              "      <th>Office_PIN</th>\n",
              "      <th>Application_Receipt_Date</th>\n",
              "      <th>Applicant_City_PIN</th>\n",
              "      <th>Applicant_Gender</th>\n",
              "      <th>Applicant_BirthDate</th>\n",
              "      <th>Applicant_Marital_Status</th>\n",
              "      <th>Applicant_Occupation</th>\n",
              "      <th>Applicant_Qualification</th>\n",
              "      <th>Manager_DOJ</th>\n",
              "      <th>Manager_Joining_Designation</th>\n",
              "      <th>Manager_Current_Designation</th>\n",
              "      <th>Manager_Grade</th>\n",
              "      <th>Manager_Status</th>\n",
              "      <th>Manager_Gender</th>\n",
              "      <th>Manager_DoB</th>\n",
              "      <th>Manager_Num_Application</th>\n",
              "      <th>Manager_Num_Coded</th>\n",
              "      <th>Manager_Business</th>\n",
              "      <th>Manager_Num_Products</th>\n",
              "      <th>Manager_Business2</th>\n",
              "      <th>Manager_Num_Products2</th>\n",
              "      <th>Business_Sourced</th>\n",
              "    </tr>\n",
              "    <tr>\n",
              "      <th>ID</th>\n",
              "      <th></th>\n",
              "      <th></th>\n",
              "      <th></th>\n",
              "      <th></th>\n",
              "      <th></th>\n",
              "      <th></th>\n",
              "      <th></th>\n",
              "      <th></th>\n",
              "      <th></th>\n",
              "      <th></th>\n",
              "      <th></th>\n",
              "      <th></th>\n",
              "      <th></th>\n",
              "      <th></th>\n",
              "      <th></th>\n",
              "      <th></th>\n",
              "      <th></th>\n",
              "      <th></th>\n",
              "      <th></th>\n",
              "      <th></th>\n",
              "      <th></th>\n",
              "      <th></th>\n",
              "    </tr>\n",
              "  </thead>\n",
              "  <tbody>\n",
              "    <tr>\n",
              "      <th>FIN1000001</th>\n",
              "      <td>842001</td>\n",
              "      <td>2007-04-16</td>\n",
              "      <td>844120.0</td>\n",
              "      <td>M</td>\n",
              "      <td>1971-12-19</td>\n",
              "      <td>M</td>\n",
              "      <td>Others</td>\n",
              "      <td>Graduate</td>\n",
              "      <td>2005-11-10</td>\n",
              "      <td>Level 1</td>\n",
              "      <td>Level 2</td>\n",
              "      <td>3.0</td>\n",
              "      <td>Confirmation</td>\n",
              "      <td>M</td>\n",
              "      <td>1978-02-17</td>\n",
              "      <td>2.0</td>\n",
              "      <td>1.0</td>\n",
              "      <td>335249.0</td>\n",
              "      <td>28.0</td>\n",
              "      <td>335249.0</td>\n",
              "      <td>28.0</td>\n",
              "      <td>0</td>\n",
              "    </tr>\n",
              "    <tr>\n",
              "      <th>FIN1000002</th>\n",
              "      <td>842001</td>\n",
              "      <td>2007-04-16</td>\n",
              "      <td>844111.0</td>\n",
              "      <td>M</td>\n",
              "      <td>1983-02-17</td>\n",
              "      <td>S</td>\n",
              "      <td>Others</td>\n",
              "      <td>Class XII</td>\n",
              "      <td>2005-11-10</td>\n",
              "      <td>Level 1</td>\n",
              "      <td>Level 2</td>\n",
              "      <td>3.0</td>\n",
              "      <td>Confirmation</td>\n",
              "      <td>M</td>\n",
              "      <td>1978-02-17</td>\n",
              "      <td>2.0</td>\n",
              "      <td>1.0</td>\n",
              "      <td>335249.0</td>\n",
              "      <td>28.0</td>\n",
              "      <td>335249.0</td>\n",
              "      <td>28.0</td>\n",
              "      <td>1</td>\n",
              "    </tr>\n",
              "  </tbody>\n",
              "</table>\n",
              "</div>"
            ],
            "text/plain": [
              "            Office_PIN Application_Receipt_Date  Applicant_City_PIN  \\\n",
              "ID                                                                    \n",
              "FIN1000001      842001               2007-04-16            844120.0   \n",
              "FIN1000002      842001               2007-04-16            844111.0   \n",
              "\n",
              "           Applicant_Gender Applicant_BirthDate Applicant_Marital_Status  \\\n",
              "ID                                                                         \n",
              "FIN1000001                M          1971-12-19                        M   \n",
              "FIN1000002                M          1983-02-17                        S   \n",
              "\n",
              "           Applicant_Occupation Applicant_Qualification Manager_DOJ  \\\n",
              "ID                                                                    \n",
              "FIN1000001               Others                Graduate  2005-11-10   \n",
              "FIN1000002               Others               Class XII  2005-11-10   \n",
              "\n",
              "           Manager_Joining_Designation Manager_Current_Designation  \\\n",
              "ID                                                                   \n",
              "FIN1000001                     Level 1                     Level 2   \n",
              "FIN1000002                     Level 1                     Level 2   \n",
              "\n",
              "            Manager_Grade Manager_Status Manager_Gender Manager_DoB  \\\n",
              "ID                                                                    \n",
              "FIN1000001            3.0   Confirmation              M  1978-02-17   \n",
              "FIN1000002            3.0   Confirmation              M  1978-02-17   \n",
              "\n",
              "            Manager_Num_Application  Manager_Num_Coded  Manager_Business  \\\n",
              "ID                                                                         \n",
              "FIN1000001                      2.0                1.0          335249.0   \n",
              "FIN1000002                      2.0                1.0          335249.0   \n",
              "\n",
              "            Manager_Num_Products  Manager_Business2  Manager_Num_Products2  \\\n",
              "ID                                                                           \n",
              "FIN1000001                  28.0           335249.0                   28.0   \n",
              "FIN1000002                  28.0           335249.0                   28.0   \n",
              "\n",
              "            Business_Sourced  \n",
              "ID                            \n",
              "FIN1000001                 0  \n",
              "FIN1000002                 1  "
            ]
          },
          "metadata": {
            "tags": []
          },
          "execution_count": 7
        }
      ]
    },
    {
      "cell_type": "markdown",
      "metadata": {
        "id": "0764c328"
      },
      "source": [
        "we can see that most of the Manager related columns have missing values and also the Applicant columns have missing values. Also many of the categorical values are encoded as floats and integers. Let us rectify these issues. "
      ],
      "id": "0764c328"
    },
    {
      "cell_type": "code",
      "metadata": {
        "colab": {
          "base_uri": "https://localhost:8080/"
        },
        "id": "5ec596fc-1303-4b06-95df-d841d158dee8",
        "outputId": "cef25694-7ff0-4570-d28d-4b7aa0357a32"
      },
      "source": [
        "pd.value_counts(train.Business_Sourced)/len(train)"
      ],
      "id": "5ec596fc-1303-4b06-95df-d841d158dee8",
      "execution_count": 8,
      "outputs": [
        {
          "output_type": "execute_result",
          "data": {
            "text/plain": [
              "0    0.65708\n",
              "1    0.34292\n",
              "Name: Business_Sourced, dtype: float64"
            ]
          },
          "metadata": {
            "tags": []
          },
          "execution_count": 8
        }
      ]
    },
    {
      "cell_type": "markdown",
      "metadata": {
        "id": "78701737-d5f9-4069-b5fa-d544246b4129"
      },
      "source": [
        "this is an imbalanced dataset"
      ],
      "id": "78701737-d5f9-4069-b5fa-d544246b4129"
    },
    {
      "cell_type": "code",
      "metadata": {
        "colab": {
          "base_uri": "https://localhost:8080/"
        },
        "id": "f0665976-2796-40ef-aedf-a636ee5a5153",
        "outputId": "5c4d44ca-4664-4418-a63b-8a74ae5b21a0"
      },
      "source": [
        "len(train.Business_Sourced)"
      ],
      "id": "f0665976-2796-40ef-aedf-a636ee5a5153",
      "execution_count": 9,
      "outputs": [
        {
          "output_type": "execute_result",
          "data": {
            "text/plain": [
              "9527"
            ]
          },
          "metadata": {
            "tags": []
          },
          "execution_count": 9
        }
      ]
    },
    {
      "cell_type": "code",
      "metadata": {
        "colab": {
          "base_uri": "https://localhost:8080/"
        },
        "id": "c2955d05-8dd5-4891-848c-3e9fa00aa5bc",
        "outputId": "bf0a7e0e-a983-49f5-f323-6def32ff2b10"
      },
      "source": [
        "train.columns"
      ],
      "id": "c2955d05-8dd5-4891-848c-3e9fa00aa5bc",
      "execution_count": 10,
      "outputs": [
        {
          "output_type": "execute_result",
          "data": {
            "text/plain": [
              "Index(['Office_PIN', 'Application_Receipt_Date', 'Applicant_City_PIN',\n",
              "       'Applicant_Gender', 'Applicant_BirthDate', 'Applicant_Marital_Status',\n",
              "       'Applicant_Occupation', 'Applicant_Qualification', 'Manager_DOJ',\n",
              "       'Manager_Joining_Designation', 'Manager_Current_Designation',\n",
              "       'Manager_Grade', 'Manager_Status', 'Manager_Gender', 'Manager_DoB',\n",
              "       'Manager_Num_Application', 'Manager_Num_Coded', 'Manager_Business',\n",
              "       'Manager_Num_Products', 'Manager_Business2', 'Manager_Num_Products2',\n",
              "       'Business_Sourced'],\n",
              "      dtype='object')"
            ]
          },
          "metadata": {
            "tags": []
          },
          "execution_count": 10
        }
      ]
    },
    {
      "cell_type": "code",
      "metadata": {
        "id": "b6f362be-dd49-4962-9fd2-4750f7f9ffd7"
      },
      "source": [
        "manager_numerical_cols=['Manager_Grade','Manager_Num_Application', 'Manager_Num_Coded', 'Manager_Business','Manager_Num_Products',\n",
        "              'Manager_Business2', 'Manager_Num_Products2']"
      ],
      "id": "b6f362be-dd49-4962-9fd2-4750f7f9ffd7",
      "execution_count": 11,
      "outputs": []
    },
    {
      "cell_type": "markdown",
      "metadata": {
        "id": "c7d371f4"
      },
      "source": [
        "Let us investigate the numerical missing values for the manager subset"
      ],
      "id": "c7d371f4"
    },
    {
      "cell_type": "code",
      "metadata": {
        "colab": {
          "base_uri": "https://localhost:8080/"
        },
        "id": "f20ecaa9",
        "outputId": "5f6aaf34-63c4-498b-bb95-d0349012705e"
      },
      "source": [
        " for col in manager_numerical_cols:\n",
        "        print(f'{col} \\t number missing  {train[col].isnull().sum()} \\t \\t % missing {(train[col].isnull().sum()/len(train))*100:.2f}')  \n",
        "    "
      ],
      "id": "f20ecaa9",
      "execution_count": 12,
      "outputs": [
        {
          "output_type": "stream",
          "text": [
            "Manager_Grade \t number missing  683 \t \t % missing 7.17\n",
            "Manager_Num_Application \t number missing  683 \t \t % missing 7.17\n",
            "Manager_Num_Coded \t number missing  683 \t \t % missing 7.17\n",
            "Manager_Business \t number missing  683 \t \t % missing 7.17\n",
            "Manager_Num_Products \t number missing  683 \t \t % missing 7.17\n",
            "Manager_Business2 \t number missing  683 \t \t % missing 7.17\n",
            "Manager_Num_Products2 \t number missing  683 \t \t % missing 7.17\n"
          ],
          "name": "stdout"
        }
      ]
    },
    {
      "cell_type": "raw",
      "metadata": {
        "id": "cf1b52ff-3aa4-4fac-869d-bdc70c14bc58"
      },
      "source": [
        "there are 683 values missing and they form 7 % of the dataset"
      ],
      "id": "cf1b52ff-3aa4-4fac-869d-bdc70c14bc58"
    },
    {
      "cell_type": "code",
      "metadata": {
        "colab": {
          "base_uri": "https://localhost:8080/",
          "height": 255
        },
        "id": "73a09084",
        "outputId": "ebb4c2cf-2ea0-46b1-d78d-fc10003f7440"
      },
      "source": [
        "manager_grade_null=train[train.Manager_Grade.isnull()]\n",
        "manager_grade_null.head()"
      ],
      "id": "73a09084",
      "execution_count": 13,
      "outputs": [
        {
          "output_type": "execute_result",
          "data": {
            "text/html": [
              "<div>\n",
              "<style scoped>\n",
              "    .dataframe tbody tr th:only-of-type {\n",
              "        vertical-align: middle;\n",
              "    }\n",
              "\n",
              "    .dataframe tbody tr th {\n",
              "        vertical-align: top;\n",
              "    }\n",
              "\n",
              "    .dataframe thead th {\n",
              "        text-align: right;\n",
              "    }\n",
              "</style>\n",
              "<table border=\"1\" class=\"dataframe\">\n",
              "  <thead>\n",
              "    <tr style=\"text-align: right;\">\n",
              "      <th></th>\n",
              "      <th>Office_PIN</th>\n",
              "      <th>Application_Receipt_Date</th>\n",
              "      <th>Applicant_City_PIN</th>\n",
              "      <th>Applicant_Gender</th>\n",
              "      <th>Applicant_BirthDate</th>\n",
              "      <th>Applicant_Marital_Status</th>\n",
              "      <th>Applicant_Occupation</th>\n",
              "      <th>Applicant_Qualification</th>\n",
              "      <th>Manager_DOJ</th>\n",
              "      <th>Manager_Joining_Designation</th>\n",
              "      <th>Manager_Current_Designation</th>\n",
              "      <th>Manager_Grade</th>\n",
              "      <th>Manager_Status</th>\n",
              "      <th>Manager_Gender</th>\n",
              "      <th>Manager_DoB</th>\n",
              "      <th>Manager_Num_Application</th>\n",
              "      <th>Manager_Num_Coded</th>\n",
              "      <th>Manager_Business</th>\n",
              "      <th>Manager_Num_Products</th>\n",
              "      <th>Manager_Business2</th>\n",
              "      <th>Manager_Num_Products2</th>\n",
              "      <th>Business_Sourced</th>\n",
              "    </tr>\n",
              "    <tr>\n",
              "      <th>ID</th>\n",
              "      <th></th>\n",
              "      <th></th>\n",
              "      <th></th>\n",
              "      <th></th>\n",
              "      <th></th>\n",
              "      <th></th>\n",
              "      <th></th>\n",
              "      <th></th>\n",
              "      <th></th>\n",
              "      <th></th>\n",
              "      <th></th>\n",
              "      <th></th>\n",
              "      <th></th>\n",
              "      <th></th>\n",
              "      <th></th>\n",
              "      <th></th>\n",
              "      <th></th>\n",
              "      <th></th>\n",
              "      <th></th>\n",
              "      <th></th>\n",
              "      <th></th>\n",
              "      <th></th>\n",
              "    </tr>\n",
              "  </thead>\n",
              "  <tbody>\n",
              "    <tr>\n",
              "      <th>FIN1000025</th>\n",
              "      <td>209625</td>\n",
              "      <td>2007-04-16</td>\n",
              "      <td>205262.0</td>\n",
              "      <td>M</td>\n",
              "      <td>1982-07-13</td>\n",
              "      <td>S</td>\n",
              "      <td>Business</td>\n",
              "      <td>Class XII</td>\n",
              "      <td>NaT</td>\n",
              "      <td>NaN</td>\n",
              "      <td>NaN</td>\n",
              "      <td>NaN</td>\n",
              "      <td>NaN</td>\n",
              "      <td>NaN</td>\n",
              "      <td>NaT</td>\n",
              "      <td>NaN</td>\n",
              "      <td>NaN</td>\n",
              "      <td>NaN</td>\n",
              "      <td>NaN</td>\n",
              "      <td>NaN</td>\n",
              "      <td>NaN</td>\n",
              "      <td>1</td>\n",
              "    </tr>\n",
              "    <tr>\n",
              "      <th>FIN1000035</th>\n",
              "      <td>851101</td>\n",
              "      <td>2007-04-16</td>\n",
              "      <td>851120.0</td>\n",
              "      <td>M</td>\n",
              "      <td>1970-05-04</td>\n",
              "      <td>M</td>\n",
              "      <td>Business</td>\n",
              "      <td>Graduate</td>\n",
              "      <td>NaT</td>\n",
              "      <td>NaN</td>\n",
              "      <td>NaN</td>\n",
              "      <td>NaN</td>\n",
              "      <td>NaN</td>\n",
              "      <td>NaN</td>\n",
              "      <td>NaT</td>\n",
              "      <td>NaN</td>\n",
              "      <td>NaN</td>\n",
              "      <td>NaN</td>\n",
              "      <td>NaN</td>\n",
              "      <td>NaN</td>\n",
              "      <td>NaN</td>\n",
              "      <td>1</td>\n",
              "    </tr>\n",
              "    <tr>\n",
              "      <th>FIN1000054</th>\n",
              "      <td>803101</td>\n",
              "      <td>2007-04-16</td>\n",
              "      <td>803111.0</td>\n",
              "      <td>M</td>\n",
              "      <td>1988-01-14</td>\n",
              "      <td>S</td>\n",
              "      <td>Others</td>\n",
              "      <td>Class X</td>\n",
              "      <td>NaT</td>\n",
              "      <td>NaN</td>\n",
              "      <td>NaN</td>\n",
              "      <td>NaN</td>\n",
              "      <td>NaN</td>\n",
              "      <td>NaN</td>\n",
              "      <td>NaT</td>\n",
              "      <td>NaN</td>\n",
              "      <td>NaN</td>\n",
              "      <td>NaN</td>\n",
              "      <td>NaN</td>\n",
              "      <td>NaN</td>\n",
              "      <td>NaN</td>\n",
              "      <td>0</td>\n",
              "    </tr>\n",
              "    <tr>\n",
              "      <th>FIN1000055</th>\n",
              "      <td>803101</td>\n",
              "      <td>2007-04-16</td>\n",
              "      <td>803111.0</td>\n",
              "      <td>M</td>\n",
              "      <td>1978-01-03</td>\n",
              "      <td>S</td>\n",
              "      <td>Salaried</td>\n",
              "      <td>Class XII</td>\n",
              "      <td>NaT</td>\n",
              "      <td>NaN</td>\n",
              "      <td>NaN</td>\n",
              "      <td>NaN</td>\n",
              "      <td>NaN</td>\n",
              "      <td>NaN</td>\n",
              "      <td>NaT</td>\n",
              "      <td>NaN</td>\n",
              "      <td>NaN</td>\n",
              "      <td>NaN</td>\n",
              "      <td>NaN</td>\n",
              "      <td>NaN</td>\n",
              "      <td>NaN</td>\n",
              "      <td>0</td>\n",
              "    </tr>\n",
              "    <tr>\n",
              "      <th>FIN1000084</th>\n",
              "      <td>284001</td>\n",
              "      <td>2007-04-17</td>\n",
              "      <td>284403.0</td>\n",
              "      <td>M</td>\n",
              "      <td>1986-09-06</td>\n",
              "      <td>S</td>\n",
              "      <td>Others</td>\n",
              "      <td>Graduate</td>\n",
              "      <td>NaT</td>\n",
              "      <td>NaN</td>\n",
              "      <td>NaN</td>\n",
              "      <td>NaN</td>\n",
              "      <td>NaN</td>\n",
              "      <td>NaN</td>\n",
              "      <td>NaT</td>\n",
              "      <td>NaN</td>\n",
              "      <td>NaN</td>\n",
              "      <td>NaN</td>\n",
              "      <td>NaN</td>\n",
              "      <td>NaN</td>\n",
              "      <td>NaN</td>\n",
              "      <td>1</td>\n",
              "    </tr>\n",
              "  </tbody>\n",
              "</table>\n",
              "</div>"
            ],
            "text/plain": [
              "            Office_PIN Application_Receipt_Date  Applicant_City_PIN  \\\n",
              "ID                                                                    \n",
              "FIN1000025      209625               2007-04-16            205262.0   \n",
              "FIN1000035      851101               2007-04-16            851120.0   \n",
              "FIN1000054      803101               2007-04-16            803111.0   \n",
              "FIN1000055      803101               2007-04-16            803111.0   \n",
              "FIN1000084      284001               2007-04-17            284403.0   \n",
              "\n",
              "           Applicant_Gender Applicant_BirthDate Applicant_Marital_Status  \\\n",
              "ID                                                                         \n",
              "FIN1000025                M          1982-07-13                        S   \n",
              "FIN1000035                M          1970-05-04                        M   \n",
              "FIN1000054                M          1988-01-14                        S   \n",
              "FIN1000055                M          1978-01-03                        S   \n",
              "FIN1000084                M          1986-09-06                        S   \n",
              "\n",
              "           Applicant_Occupation Applicant_Qualification Manager_DOJ  \\\n",
              "ID                                                                    \n",
              "FIN1000025             Business               Class XII         NaT   \n",
              "FIN1000035             Business                Graduate         NaT   \n",
              "FIN1000054               Others                 Class X         NaT   \n",
              "FIN1000055             Salaried               Class XII         NaT   \n",
              "FIN1000084               Others                Graduate         NaT   \n",
              "\n",
              "           Manager_Joining_Designation Manager_Current_Designation  \\\n",
              "ID                                                                   \n",
              "FIN1000025                         NaN                         NaN   \n",
              "FIN1000035                         NaN                         NaN   \n",
              "FIN1000054                         NaN                         NaN   \n",
              "FIN1000055                         NaN                         NaN   \n",
              "FIN1000084                         NaN                         NaN   \n",
              "\n",
              "            Manager_Grade Manager_Status Manager_Gender Manager_DoB  \\\n",
              "ID                                                                    \n",
              "FIN1000025            NaN            NaN            NaN         NaT   \n",
              "FIN1000035            NaN            NaN            NaN         NaT   \n",
              "FIN1000054            NaN            NaN            NaN         NaT   \n",
              "FIN1000055            NaN            NaN            NaN         NaT   \n",
              "FIN1000084            NaN            NaN            NaN         NaT   \n",
              "\n",
              "            Manager_Num_Application  Manager_Num_Coded  Manager_Business  \\\n",
              "ID                                                                         \n",
              "FIN1000025                      NaN                NaN               NaN   \n",
              "FIN1000035                      NaN                NaN               NaN   \n",
              "FIN1000054                      NaN                NaN               NaN   \n",
              "FIN1000055                      NaN                NaN               NaN   \n",
              "FIN1000084                      NaN                NaN               NaN   \n",
              "\n",
              "            Manager_Num_Products  Manager_Business2  Manager_Num_Products2  \\\n",
              "ID                                                                           \n",
              "FIN1000025                   NaN                NaN                    NaN   \n",
              "FIN1000035                   NaN                NaN                    NaN   \n",
              "FIN1000054                   NaN                NaN                    NaN   \n",
              "FIN1000055                   NaN                NaN                    NaN   \n",
              "FIN1000084                   NaN                NaN                    NaN   \n",
              "\n",
              "            Business_Sourced  \n",
              "ID                            \n",
              "FIN1000025                 1  \n",
              "FIN1000035                 1  \n",
              "FIN1000054                 0  \n",
              "FIN1000055                 0  \n",
              "FIN1000084                 1  "
            ]
          },
          "metadata": {
            "tags": []
          },
          "execution_count": 13
        }
      ]
    },
    {
      "cell_type": "code",
      "metadata": {
        "id": "882557ef-f62d-427c-ac3f-8734e3d0440b"
      },
      "source": [
        ""
      ],
      "id": "882557ef-f62d-427c-ac3f-8734e3d0440b",
      "execution_count": 13,
      "outputs": []
    },
    {
      "cell_type": "code",
      "metadata": {
        "colab": {
          "base_uri": "https://localhost:8080/"
        },
        "id": "0f14458c-8c15-4a0b-bab3-a5b3aac53d6b",
        "outputId": "c8734c6b-a494-4b96-9027-e95e660f07fc"
      },
      "source": [
        "# comparing the identical nature of index of each column with one of the indexes of missing values in the features\n",
        "for col in manager_numerical_cols:\n",
        "    print(all(train[train[col].isnull()].index==manager_grade_null.index))"
      ],
      "id": "0f14458c-8c15-4a0b-bab3-a5b3aac53d6b",
      "execution_count": 14,
      "outputs": [
        {
          "output_type": "stream",
          "text": [
            "True\n",
            "True\n",
            "True\n",
            "True\n",
            "True\n",
            "True\n",
            "True\n"
          ],
          "name": "stdout"
        }
      ]
    },
    {
      "cell_type": "code",
      "metadata": {
        "id": "6f340cc2-2dc5-4601-839e-effa4a4956fa"
      },
      "source": [
        "complete_numerical_cols=train[manager_numerical_cols].dropna()"
      ],
      "id": "6f340cc2-2dc5-4601-839e-effa4a4956fa",
      "execution_count": 15,
      "outputs": []
    },
    {
      "cell_type": "code",
      "metadata": {
        "colab": {
          "base_uri": "https://localhost:8080/",
          "height": 298
        },
        "id": "53400d9f-3d0f-47be-9c72-3681ccea814e",
        "outputId": "5ff5874c-e1e9-45ae-8f12-45ee1132d101"
      },
      "source": [
        "sns.boxplot(data=complete_numerical_cols,orient='h')"
      ],
      "id": "53400d9f-3d0f-47be-9c72-3681ccea814e",
      "execution_count": 16,
      "outputs": [
        {
          "output_type": "execute_result",
          "data": {
            "text/plain": [
              "<matplotlib.axes._subplots.AxesSubplot at 0x7fa9a7491310>"
            ]
          },
          "metadata": {
            "tags": []
          },
          "execution_count": 16
        },
        {
          "output_type": "display_data",
          "data": {
            "image/png": "[encoded data removed]",
            "text/plain": [
              "<Figure size 432x288 with 1 Axes>"
            ]
          },
          "metadata": {
            "tags": [],
            "needs_background": "light"
          }
        }
      ]
    },
    {
      "cell_type": "raw",
      "metadata": {
        "id": "b39fd516-fc42-4b38-aa07-ed05639daa8e"
      },
      "source": [
        "since these are numerical values and atleast 2 features have skewed distribution, we shall fill the missing \n",
        "values with the median"
      ],
      "id": "b39fd516-fc42-4b38-aa07-ed05639daa8e"
    },
    {
      "cell_type": "code",
      "metadata": {
        "id": "d7a1d892"
      },
      "source": [
        "from sklearn.impute import SimpleImputer\n",
        "imputer=SimpleImputer(missing_values=np.nan,strategy='median')\n",
        "train[manager_numerical_cols]=imputer.fit_transform(train[manager_numerical_cols])"
      ],
      "id": "d7a1d892",
      "execution_count": 17,
      "outputs": []
    },
    {
      "cell_type": "code",
      "metadata": {
        "id": "f2856d45-0d23-47a0-811c-f815f062f00f"
      },
      "source": [
        ""
      ],
      "id": "f2856d45-0d23-47a0-811c-f815f062f00f",
      "execution_count": 17,
      "outputs": []
    },
    {
      "cell_type": "code",
      "metadata": {
        "id": "d28dcfbc"
      },
      "source": [
        "train_object_cols=['Applicant_Gender', 'Applicant_Marital_Status','Applicant_Occupation',\n",
        "'Applicant_Qualification','Manager_Joining_Designation', 'Manager_Current_Designation','Manager_Status',\n",
        "'Manager_Gender']      "
      ],
      "id": "d28dcfbc",
      "execution_count": 18,
      "outputs": []
    },
    {
      "cell_type": "code",
      "metadata": {
        "colab": {
          "base_uri": "https://localhost:8080/"
        },
        "id": "56d13b2b-7318-459a-876d-456218c4d4da",
        "outputId": "2bad860a-3c01-4237-afe0-a550475b23bf"
      },
      "source": [
        "for col in train_object_cols:\n",
        "        print(f'{col} \\t number missing  {train[col].isnull().sum()} \\t \\t % missing {(train[col].isnull().sum()/len(train))*100:.2f}')      "
      ],
      "id": "56d13b2b-7318-459a-876d-456218c4d4da",
      "execution_count": 19,
      "outputs": [
        {
          "output_type": "stream",
          "text": [
            "Applicant_Gender \t number missing  67 \t \t % missing 0.70\n",
            "Applicant_Marital_Status \t number missing  73 \t \t % missing 0.77\n",
            "Applicant_Occupation \t number missing  1221 \t \t % missing 12.82\n",
            "Applicant_Qualification \t number missing  86 \t \t % missing 0.90\n",
            "Manager_Joining_Designation \t number missing  683 \t \t % missing 7.17\n",
            "Manager_Current_Designation \t number missing  683 \t \t % missing 7.17\n",
            "Manager_Status \t number missing  683 \t \t % missing 7.17\n",
            "Manager_Gender \t number missing  683 \t \t % missing 7.17\n"
          ],
          "name": "stdout"
        }
      ]
    },
    {
      "cell_type": "markdown",
      "metadata": {
        "id": "35d40d49-18d0-4de5-8f90-e0e332e893ef"
      },
      "source": [
        "we will fill the object columns with the mode of the respective features, as most of these values are less than\n",
        "7 % of the data"
      ],
      "id": "35d40d49-18d0-4de5-8f90-e0e332e893ef"
    },
    {
      "cell_type": "code",
      "metadata": {
        "id": "5a9050cc-6a5f-4167-abf8-d690466046ef"
      },
      "source": [
        "# we are filling the na values with the mode of the categorical values\n",
        "from sklearn.impute import SimpleImputer\n",
        "object_imputer=SimpleImputer(missing_values=np.nan,strategy='most_frequent')\n",
        "train[train_object_cols]=object_imputer.fit_transform(train[train_object_cols])"
      ],
      "id": "5a9050cc-6a5f-4167-abf8-d690466046ef",
      "execution_count": 20,
      "outputs": []
    },
    {
      "cell_type": "markdown",
      "metadata": {
        "id": "7170c8d2-c559-47c0-ad63-b4768b34215a"
      },
      "source": [
        "to fill the na values of the date feature, we will find the most frequent date for each feature, then parse the year,month,day seperately and fill the corresponding value from the most frequent date to these seperate values"
      ],
      "id": "7170c8d2-c559-47c0-ad63-b4768b34215a"
    },
    {
      "cell_type": "code",
      "metadata": {
        "id": "6b8d7789-bea5-4332-9de9-eed425d26ecf"
      },
      "source": [
        "date_cols=['Application_Receipt_Date','Applicant_BirthDate','Manager_DOJ','Manager_DoB']"
      ],
      "id": "6b8d7789-bea5-4332-9de9-eed425d26ecf",
      "execution_count": 21,
      "outputs": []
    },
    {
      "cell_type": "code",
      "metadata": {
        "colab": {
          "base_uri": "https://localhost:8080/"
        },
        "id": "e3a7bb96-d743-41dd-aa6e-881af4c910d1",
        "outputId": "ef660c38-4117-4cd1-e080-074f29c3821e"
      },
      "source": [
        "for date_ in date_cols:\n",
        "    print(f'year {train[date_].dt.year.nunique()}, month {train[date_].dt.month.nunique()}, date {train[date_].dt.day.nunique()}')"
      ],
      "id": "e3a7bb96-d743-41dd-aa6e-881af4c910d1",
      "execution_count": 22,
      "outputs": [
        {
          "output_type": "stream",
          "text": [
            "year 2, month 12, date 31\n",
            "year 61, month 12, date 31\n",
            "year 8, month 12, date 31\n",
            "year 34, month 12, date 31\n"
          ],
          "name": "stdout"
        }
      ]
    },
    {
      "cell_type": "code",
      "metadata": {
        "colab": {
          "base_uri": "https://localhost:8080/"
        },
        "id": "ec334fe7-8aef-4fbe-8115-07724f9de92b",
        "outputId": "0db0cbee-55f0-4a06-baa3-002c7ddabfc2"
      },
      "source": [
        "# the most frequent date for each feature\n",
        "for date_ in date_cols:\n",
        "    print(f' {date_} mode {train[date_].mode().values}')\n",
        "    print(\" \")"
      ],
      "id": "ec334fe7-8aef-4fbe-8115-07724f9de92b",
      "execution_count": 23,
      "outputs": [
        {
          "output_type": "stream",
          "text": [
            " Application_Receipt_Date mode ['2007-05-09T00:00:00.000000000']\n",
            " \n",
            " Applicant_BirthDate mode ['1978-01-03T00:00:00.000000000']\n",
            " \n",
            " Manager_DOJ mode ['2007-07-09T00:00:00.000000000']\n",
            " \n",
            " Manager_DoB mode ['1961-02-11T00:00:00.000000000']\n",
            " \n"
          ],
          "name": "stdout"
        }
      ]
    },
    {
      "cell_type": "code",
      "metadata": {
        "id": "44245490-c606-4925-8d29-6a0458fe667f"
      },
      "source": [
        "# we are creating individual features of year,month,day for each date object and appending to the dataset\n",
        "for date_ in date_cols:\n",
        "    train[str(date_)+'_year']=train[date_].dt.year\n",
        "    train[str(date_)+'_month']=train[date_].dt.month\n",
        "    train[str(date_)+'_day']=train[date_].dt.day    "
      ],
      "id": "44245490-c606-4925-8d29-6a0458fe667f",
      "execution_count": 24,
      "outputs": []
    },
    {
      "cell_type": "code",
      "metadata": {
        "colab": {
          "base_uri": "https://localhost:8080/",
          "height": 162
        },
        "id": "39feae8e-96fa-4dca-8d45-547e20643861",
        "outputId": "32f4639d-55a7-453f-9dde-0745fbedaf0e"
      },
      "source": [
        "train.head(n=2)"
      ],
      "id": "39feae8e-96fa-4dca-8d45-547e20643861",
      "execution_count": 25,
      "outputs": [
        {
          "output_type": "execute_result",
          "data": {
            "text/html": [
              "<div>\n",
              "<style scoped>\n",
              "    .dataframe tbody tr th:only-of-type {\n",
              "        vertical-align: middle;\n",
              "    }\n",
              "\n",
              "    .dataframe tbody tr th {\n",
              "        vertical-align: top;\n",
              "    }\n",
              "\n",
              "    .dataframe thead th {\n",
              "        text-align: right;\n",
              "    }\n",
              "</style>\n",
              "<table border=\"1\" class=\"dataframe\">\n",
              "  <thead>\n",
              "    <tr style=\"text-align: right;\">\n",
              "      <th></th>\n",
              "      <th>Office_PIN</th>\n",
              "      <th>Application_Receipt_Date</th>\n",
              "      <th>Applicant_City_PIN</th>\n",
              "      <th>Applicant_Gender</th>\n",
              "      <th>Applicant_BirthDate</th>\n",
              "      <th>Applicant_Marital_Status</th>\n",
              "      <th>Applicant_Occupation</th>\n",
              "      <th>Applicant_Qualification</th>\n",
              "      <th>Manager_DOJ</th>\n",
              "      <th>Manager_Joining_Designation</th>\n",
              "      <th>Manager_Current_Designation</th>\n",
              "      <th>Manager_Grade</th>\n",
              "      <th>Manager_Status</th>\n",
              "      <th>Manager_Gender</th>\n",
              "      <th>Manager_DoB</th>\n",
              "      <th>Manager_Num_Application</th>\n",
              "      <th>Manager_Num_Coded</th>\n",
              "      <th>Manager_Business</th>\n",
              "      <th>Manager_Num_Products</th>\n",
              "      <th>Manager_Business2</th>\n",
              "      <th>Manager_Num_Products2</th>\n",
              "      <th>Business_Sourced</th>\n",
              "      <th>Application_Receipt_Date_year</th>\n",
              "      <th>Application_Receipt_Date_month</th>\n",
              "      <th>Application_Receipt_Date_day</th>\n",
              "      <th>Applicant_BirthDate_year</th>\n",
              "      <th>Applicant_BirthDate_month</th>\n",
              "      <th>Applicant_BirthDate_day</th>\n",
              "      <th>Manager_DOJ_year</th>\n",
              "      <th>Manager_DOJ_month</th>\n",
              "      <th>Manager_DOJ_day</th>\n",
              "      <th>Manager_DoB_year</th>\n",
              "      <th>Manager_DoB_month</th>\n",
              "      <th>Manager_DoB_day</th>\n",
              "    </tr>\n",
              "    <tr>\n",
              "      <th>ID</th>\n",
              "      <th></th>\n",
              "      <th></th>\n",
              "      <th></th>\n",
              "      <th></th>\n",
              "      <th></th>\n",
              "      <th></th>\n",
              "      <th></th>\n",
              "      <th></th>\n",
              "      <th></th>\n",
              "      <th></th>\n",
              "      <th></th>\n",
              "      <th></th>\n",
              "      <th></th>\n",
              "      <th></th>\n",
              "      <th></th>\n",
              "      <th></th>\n",
              "      <th></th>\n",
              "      <th></th>\n",
              "      <th></th>\n",
              "      <th></th>\n",
              "      <th></th>\n",
              "      <th></th>\n",
              "      <th></th>\n",
              "      <th></th>\n",
              "      <th></th>\n",
              "      <th></th>\n",
              "      <th></th>\n",
              "      <th></th>\n",
              "      <th></th>\n",
              "      <th></th>\n",
              "      <th></th>\n",
              "      <th></th>\n",
              "      <th></th>\n",
              "      <th></th>\n",
              "    </tr>\n",
              "  </thead>\n",
              "  <tbody>\n",
              "    <tr>\n",
              "      <th>FIN1000001</th>\n",
              "      <td>842001</td>\n",
              "      <td>2007-04-16</td>\n",
              "      <td>844120.0</td>\n",
              "      <td>M</td>\n",
              "      <td>1971-12-19</td>\n",
              "      <td>M</td>\n",
              "      <td>Others</td>\n",
              "      <td>Graduate</td>\n",
              "      <td>2005-11-10</td>\n",
              "      <td>Level 1</td>\n",
              "      <td>Level 2</td>\n",
              "      <td>3.0</td>\n",
              "      <td>Confirmation</td>\n",
              "      <td>M</td>\n",
              "      <td>1978-02-17</td>\n",
              "      <td>2.0</td>\n",
              "      <td>1.0</td>\n",
              "      <td>335249.0</td>\n",
              "      <td>28.0</td>\n",
              "      <td>335249.0</td>\n",
              "      <td>28.0</td>\n",
              "      <td>0</td>\n",
              "      <td>2007</td>\n",
              "      <td>4</td>\n",
              "      <td>16</td>\n",
              "      <td>1971.0</td>\n",
              "      <td>12.0</td>\n",
              "      <td>19.0</td>\n",
              "      <td>2005.0</td>\n",
              "      <td>11.0</td>\n",
              "      <td>10.0</td>\n",
              "      <td>1978.0</td>\n",
              "      <td>2.0</td>\n",
              "      <td>17.0</td>\n",
              "    </tr>\n",
              "    <tr>\n",
              "      <th>FIN1000002</th>\n",
              "      <td>842001</td>\n",
              "      <td>2007-04-16</td>\n",
              "      <td>844111.0</td>\n",
              "      <td>M</td>\n",
              "      <td>1983-02-17</td>\n",
              "      <td>S</td>\n",
              "      <td>Others</td>\n",
              "      <td>Class XII</td>\n",
              "      <td>2005-11-10</td>\n",
              "      <td>Level 1</td>\n",
              "      <td>Level 2</td>\n",
              "      <td>3.0</td>\n",
              "      <td>Confirmation</td>\n",
              "      <td>M</td>\n",
              "      <td>1978-02-17</td>\n",
              "      <td>2.0</td>\n",
              "      <td>1.0</td>\n",
              "      <td>335249.0</td>\n",
              "      <td>28.0</td>\n",
              "      <td>335249.0</td>\n",
              "      <td>28.0</td>\n",
              "      <td>1</td>\n",
              "      <td>2007</td>\n",
              "      <td>4</td>\n",
              "      <td>16</td>\n",
              "      <td>1983.0</td>\n",
              "      <td>2.0</td>\n",
              "      <td>17.0</td>\n",
              "      <td>2005.0</td>\n",
              "      <td>11.0</td>\n",
              "      <td>10.0</td>\n",
              "      <td>1978.0</td>\n",
              "      <td>2.0</td>\n",
              "      <td>17.0</td>\n",
              "    </tr>\n",
              "  </tbody>\n",
              "</table>\n",
              "</div>"
            ],
            "text/plain": [
              "            Office_PIN Application_Receipt_Date  Applicant_City_PIN  \\\n",
              "ID                                                                    \n",
              "FIN1000001      842001               2007-04-16            844120.0   \n",
              "FIN1000002      842001               2007-04-16            844111.0   \n",
              "\n",
              "           Applicant_Gender Applicant_BirthDate Applicant_Marital_Status  \\\n",
              "ID                                                                         \n",
              "FIN1000001                M          1971-12-19                        M   \n",
              "FIN1000002                M          1983-02-17                        S   \n",
              "\n",
              "           Applicant_Occupation Applicant_Qualification Manager_DOJ  \\\n",
              "ID                                                                    \n",
              "FIN1000001               Others                Graduate  2005-11-10   \n",
              "FIN1000002               Others               Class XII  2005-11-10   \n",
              "\n",
              "           Manager_Joining_Designation Manager_Current_Designation  \\\n",
              "ID                                                                   \n",
              "FIN1000001                     Level 1                     Level 2   \n",
              "FIN1000002                     Level 1                     Level 2   \n",
              "\n",
              "            Manager_Grade Manager_Status Manager_Gender Manager_DoB  \\\n",
              "ID                                                                    \n",
              "FIN1000001            3.0   Confirmation              M  1978-02-17   \n",
              "FIN1000002            3.0   Confirmation              M  1978-02-17   \n",
              "\n",
              "            Manager_Num_Application  Manager_Num_Coded  Manager_Business  \\\n",
              "ID                                                                         \n",
              "FIN1000001                      2.0                1.0          335249.0   \n",
              "FIN1000002                      2.0                1.0          335249.0   \n",
              "\n",
              "            Manager_Num_Products  Manager_Business2  Manager_Num_Products2  \\\n",
              "ID                                                                           \n",
              "FIN1000001                  28.0           335249.0                   28.0   \n",
              "FIN1000002                  28.0           335249.0                   28.0   \n",
              "\n",
              "            Business_Sourced  Application_Receipt_Date_year  \\\n",
              "ID                                                            \n",
              "FIN1000001                 0                           2007   \n",
              "FIN1000002                 1                           2007   \n",
              "\n",
              "            Application_Receipt_Date_month  Application_Receipt_Date_day  \\\n",
              "ID                                                                         \n",
              "FIN1000001                               4                            16   \n",
              "FIN1000002                               4                            16   \n",
              "\n",
              "            Applicant_BirthDate_year  Applicant_BirthDate_month  \\\n",
              "ID                                                                \n",
              "FIN1000001                    1971.0                       12.0   \n",
              "FIN1000002                    1983.0                        2.0   \n",
              "\n",
              "            Applicant_BirthDate_day  Manager_DOJ_year  Manager_DOJ_month  \\\n",
              "ID                                                                         \n",
              "FIN1000001                     19.0            2005.0               11.0   \n",
              "FIN1000002                     17.0            2005.0               11.0   \n",
              "\n",
              "            Manager_DOJ_day  Manager_DoB_year  Manager_DoB_month  \\\n",
              "ID                                                                 \n",
              "FIN1000001             10.0            1978.0                2.0   \n",
              "FIN1000002             10.0            1978.0                2.0   \n",
              "\n",
              "            Manager_DoB_day  \n",
              "ID                           \n",
              "FIN1000001             17.0  \n",
              "FIN1000002             17.0  "
            ]
          },
          "metadata": {
            "tags": []
          },
          "execution_count": 25
        }
      ]
    },
    {
      "cell_type": "markdown",
      "metadata": {
        "id": "1590817d-d558-42f4-a5ce-d018c0ac06df"
      },
      "source": [
        "now we will remove the date columns using drop"
      ],
      "id": "1590817d-d558-42f4-a5ce-d018c0ac06df"
    },
    {
      "cell_type": "code",
      "metadata": {
        "id": "f0550514-9fe4-4b07-8889-7a0518129e54"
      },
      "source": [
        "train.drop(date_cols,inplace=True,axis=1)"
      ],
      "id": "f0550514-9fe4-4b07-8889-7a0518129e54",
      "execution_count": 26,
      "outputs": []
    },
    {
      "cell_type": "markdown",
      "metadata": {
        "id": "36324fdb-263c-457f-926e-a33781076437"
      },
      "source": [
        "now we are seperatley assigning mode values to the derived date columns"
      ],
      "id": "36324fdb-263c-457f-926e-a33781076437"
    },
    {
      "cell_type": "code",
      "metadata": {
        "id": "a621009a-9306-44be-82c2-85b69580f5dc"
      },
      "source": [
        "train['Applicant_BirthDate_year']=train.Applicant_BirthDate_year.fillna(int(2007))\n",
        "train['Applicant_BirthDate_month']=train.Applicant_BirthDate_month.fillna(int(5))\n",
        "train['Manager_DOJ_year']=train.Manager_DOJ_year.fillna(int(2007))\n",
        "train['Manager_DOJ_month']=train.Manager_DOJ_month.fillna(int(1))\n",
        "train['Manager_DoB_year']=train.Manager_DoB_year.fillna(int(1961))\n",
        "train['Manager_DoB_month']=train.Manager_DoB_month.fillna(int(2))\n",
        "train['Applicant_BirthDate_day']=train.Applicant_BirthDate_day.fillna(int(3))\n",
        "train['Manager_DOJ_day']=train.Manager_DOJ_day.fillna(int(9))\n",
        "train['Manager_DoB_day']=train.Manager_DoB_day.fillna(int(11))"
      ],
      "id": "a621009a-9306-44be-82c2-85b69580f5dc",
      "execution_count": 27,
      "outputs": []
    },
    {
      "cell_type": "code",
      "metadata": {
        "id": "d4ea6824-5f62-4a48-beb7-3a02dba2ed13"
      },
      "source": [
        ""
      ],
      "id": "d4ea6824-5f62-4a48-beb7-3a02dba2ed13",
      "execution_count": 27,
      "outputs": []
    },
    {
      "cell_type": "code",
      "metadata": {
        "id": "c5d8b3e6-67f1-4235-bd11-68d8863fba76"
      },
      "source": [
        "# fill na values in Applicant_City_PIN with the mode as this is a categorical value\n",
        "train['Applicant_City_PIN']=train.Applicant_City_PIN.fillna(int(train.Applicant_City_PIN.mode()))"
      ],
      "id": "c5d8b3e6-67f1-4235-bd11-68d8863fba76",
      "execution_count": 28,
      "outputs": []
    },
    {
      "cell_type": "code",
      "metadata": {
        "id": "6faf70fb-c232-4c16-a990-2c8bc077b0b5"
      },
      "source": [
        "# convert the feature from categorical to numerical \n",
        "train['Applicant_City_PIN']=train.Applicant_City_PIN.astype(int)"
      ],
      "id": "6faf70fb-c232-4c16-a990-2c8bc077b0b5",
      "execution_count": 29,
      "outputs": []
    },
    {
      "cell_type": "code",
      "metadata": {
        "id": "dcc091bc-05d5-47db-8bf5-1bd452502555"
      },
      "source": [
        "# create list of  categorical columns\n",
        "cat_cols=['Applicant_Gender','Applicant_Marital_Status', 'Applicant_Occupation','Applicant_Qualification', \n",
        " 'Manager_Joining_Designation', 'Manager_Current_Designation','Manager_Status','Manager_Gender']"
      ],
      "id": "dcc091bc-05d5-47db-8bf5-1bd452502555",
      "execution_count": 30,
      "outputs": []
    },
    {
      "cell_type": "code",
      "metadata": {
        "id": "a84f52b7-420e-4b5d-bd93-96dbb8e4bba7"
      },
      "source": [
        "# reassign the categorical columns as categorical data type from object data type\n",
        "train[cat_cols]=train[cat_cols].astype(\"category\")"
      ],
      "id": "a84f52b7-420e-4b5d-bd93-96dbb8e4bba7",
      "execution_count": 31,
      "outputs": []
    },
    {
      "cell_type": "code",
      "metadata": {
        "id": "8c88126a-98e8-45be-b03e-38dcef62df20"
      },
      "source": [
        ""
      ],
      "id": "8c88126a-98e8-45be-b03e-38dcef62df20",
      "execution_count": 31,
      "outputs": []
    },
    {
      "cell_type": "markdown",
      "metadata": {
        "id": "2276822b-4772-4f89-afb4-b7a6d5971833"
      },
      "source": [
        "let us plot the distribution of values within the categorical variables"
      ],
      "id": "2276822b-4772-4f89-afb4-b7a6d5971833"
    },
    {
      "cell_type": "code",
      "metadata": {
        "colab": {
          "base_uri": "https://localhost:8080/",
          "height": 204
        },
        "id": "47ba07cf-c523-46f7-af90-200bdf79d54a",
        "outputId": "9915e16d-9e2e-4486-e1e0-4c638dc24502"
      },
      "source": [
        "fig,axes=plt.subplots(1,8,figsize=(18,3))\n",
        "for i in range(8):\n",
        "    sns.countplot(train[cat_cols[i]].cat.codes,ax=axes[i]).set(title=cat_cols[i])\n",
        "plt.tight_layout()    "
      ],
      "id": "47ba07cf-c523-46f7-af90-200bdf79d54a",
      "execution_count": 32,
      "outputs": [
        {
          "output_type": "display_data",
          "data": {
            "image/png": "[encoded data removed]",
            "text/plain": [
              "<Figure size 1296x216 with 8 Axes>"
            ]
          },
          "metadata": {
            "tags": [],
            "needs_background": "light"
          }
        }
      ]
    },
    {
      "cell_type": "markdown",
      "metadata": {
        "id": "985d8aab-a01a-46df-8f06-9ec6f22ed624"
      },
      "source": [
        "we can see that for the variables, the categories are less than 10. hence there is no need to bin the values and we can do one hot encoding of the variables"
      ],
      "id": "985d8aab-a01a-46df-8f06-9ec6f22ed624"
    },
    {
      "cell_type": "code",
      "metadata": {
        "colab": {
          "base_uri": "https://localhost:8080/"
        },
        "id": "2f78d373-e648-4e7c-9798-5b8bc8c86c34",
        "outputId": "36198e96-efc0-4a20-8454-fb974d614dbd"
      },
      "source": [
        "pd.value_counts(train.Applicant_Qualification)"
      ],
      "id": "2f78d373-e648-4e7c-9798-5b8bc8c86c34",
      "execution_count": 33,
      "outputs": [
        {
          "output_type": "execute_result",
          "data": {
            "text/plain": [
              "Class XII                                                           5892\n",
              "Graduate                                                            3196\n",
              "Class X                                                              225\n",
              "Others                                                               132\n",
              "Masters of Business Administration                                    74\n",
              "Associate / Fellow of Institute of Chartered Accountans of India       3\n",
              "Professional Qualification in Marketing                                1\n",
              "Certified Associateship of Indian Institute of Bankers                 1\n",
              "Associate/Fellow of Insurance Institute of India                       1\n",
              "Associate/Fellow of Institute of Company Secretories of India          1\n",
              "Associate/Fellow of Acturial Society of India                          1\n",
              "Name: Applicant_Qualification, dtype: int64"
            ]
          },
          "metadata": {
            "tags": []
          },
          "execution_count": 33
        }
      ]
    },
    {
      "cell_type": "code",
      "metadata": {
        "colab": {
          "base_uri": "https://localhost:8080/"
        },
        "id": "48f42069-c84d-4eb4-b5b4-2547c76f4ecb",
        "outputId": "643243b2-2fc1-4bfa-e452-a09810115f7b"
      },
      "source": [
        "pd.value_counts(train.Manager_Joining_Designation)"
      ],
      "id": "48f42069-c84d-4eb4-b5b4-2547c76f4ecb",
      "execution_count": 34,
      "outputs": [
        {
          "output_type": "execute_result",
          "data": {
            "text/plain": [
              "Level 1    5315\n",
              "Level 2    2787\n",
              "Level 3    1146\n",
              "Level 4     200\n",
              "Other        58\n",
              "Level 6      18\n",
              "Level 7       2\n",
              "Level 5       1\n",
              "Name: Manager_Joining_Designation, dtype: int64"
            ]
          },
          "metadata": {
            "tags": []
          },
          "execution_count": 34
        }
      ]
    },
    {
      "cell_type": "code",
      "metadata": {
        "colab": {
          "base_uri": "https://localhost:8080/"
        },
        "id": "9aa3e7ad-f550-4b0c-b1ec-6e8f9037df64",
        "outputId": "3249f878-748c-4a1f-ea0f-c5fd9f00c46a"
      },
      "source": [
        "pd.value_counts(train.Manager_Current_Designation)"
      ],
      "id": "9aa3e7ad-f550-4b0c-b1ec-6e8f9037df64",
      "execution_count": 35,
      "outputs": [
        {
          "output_type": "execute_result",
          "data": {
            "text/plain": [
              "Level 2    3891\n",
              "Level 1    2479\n",
              "Level 3    2033\n",
              "Level 4    1031\n",
              "Level 5      93\n",
              "Name: Manager_Current_Designation, dtype: int64"
            ]
          },
          "metadata": {
            "tags": []
          },
          "execution_count": 35
        }
      ]
    },
    {
      "cell_type": "markdown",
      "metadata": {
        "id": "194e94d6-49a6-4b09-81d7-bdd5e0e50545"
      },
      "source": [
        "we can see that Applicant_Qualification, Manager_Joining_Designation and Manager_Current_Designation have ordinal characteristics while all other categorical features have nominal characteristics"
      ],
      "id": "194e94d6-49a6-4b09-81d7-bdd5e0e50545"
    },
    {
      "cell_type": "code",
      "metadata": {
        "id": "ef89cfe4-cb8c-45bd-8516-0d0366d8c837"
      },
      "source": [
        "# all nominal values are converted to numerical values using one hot enconding\n",
        "train=pd.get_dummies( train,columns=['Applicant_Gender','Applicant_Marital_Status','Applicant_Occupation','Manager_Status','Manager_Gender'], drop_first = True)"
      ],
      "id": "ef89cfe4-cb8c-45bd-8516-0d0366d8c837",
      "execution_count": 36,
      "outputs": []
    },
    {
      "cell_type": "code",
      "metadata": {
        "colab": {
          "base_uri": "https://localhost:8080/"
        },
        "id": "6d412faf-5706-4cc2-bd91-99c4819b81bb",
        "outputId": "68ecc2c3-64e3-4b81-8437-b88f91abb079"
      },
      "source": [
        "train.shape"
      ],
      "id": "6d412faf-5706-4cc2-bd91-99c4819b81bb",
      "execution_count": 37,
      "outputs": [
        {
          "output_type": "execute_result",
          "data": {
            "text/plain": [
              "(9527, 35)"
            ]
          },
          "metadata": {
            "tags": []
          },
          "execution_count": 37
        }
      ]
    },
    {
      "cell_type": "markdown",
      "metadata": {
        "id": "b305dc1e-ef82-47cf-8f7f-dcc94cdb871a"
      },
      "source": [
        "#### transformation of the ordinal features in the dataset"
      ],
      "id": "b305dc1e-ef82-47cf-8f7f-dcc94cdb871a"
    },
    {
      "cell_type": "code",
      "metadata": {
        "colab": {
          "base_uri": "https://localhost:8080/"
        },
        "id": "bae5cb25-d7be-4876-9f6a-d18047f37369",
        "outputId": "e2152b9e-36d3-4eab-9b62-330640712c4a"
      },
      "source": [
        "pd.value_counts(train.Applicant_Qualification)"
      ],
      "id": "bae5cb25-d7be-4876-9f6a-d18047f37369",
      "execution_count": 38,
      "outputs": [
        {
          "output_type": "execute_result",
          "data": {
            "text/plain": [
              "Class XII                                                           5892\n",
              "Graduate                                                            3196\n",
              "Class X                                                              225\n",
              "Others                                                               132\n",
              "Masters of Business Administration                                    74\n",
              "Associate / Fellow of Institute of Chartered Accountans of India       3\n",
              "Professional Qualification in Marketing                                1\n",
              "Certified Associateship of Indian Institute of Bankers                 1\n",
              "Associate/Fellow of Insurance Institute of India                       1\n",
              "Associate/Fellow of Institute of Company Secretories of India          1\n",
              "Associate/Fellow of Acturial Society of India                          1\n",
              "Name: Applicant_Qualification, dtype: int64"
            ]
          },
          "metadata": {
            "tags": []
          },
          "execution_count": 38
        }
      ]
    },
    {
      "cell_type": "code",
      "metadata": {
        "id": "ce9b086c-0c07-4b04-9314-6d438f407be7"
      },
      "source": [
        "app_qual_dict={'Class X':0,'Class XII':1,'Graduate':2,'Masters of Business Administration':3,'Others':4,'Associate / Fellow of Institute of Chartered Accountans of India':5,\n",
        "               'Associate/Fellow of Acturial Society of India':5,'Associate/Fellow of Institute of Company Secretories of India':5,'Associate/Fellow of Insurance Institute of India':5,\n",
        "              'Certified Associateship of Indian Institute of Bankers':5,'Professional Qualification in Marketing':5}"
      ],
      "id": "ce9b086c-0c07-4b04-9314-6d438f407be7",
      "execution_count": 39,
      "outputs": []
    },
    {
      "cell_type": "code",
      "metadata": {
        "id": "daf5cd96-41a2-40ac-8daa-d650fc4e97da"
      },
      "source": [
        "train['Applicant_Qualification']=train.Applicant_Qualification.map(app_qual_dict)"
      ],
      "id": "daf5cd96-41a2-40ac-8daa-d650fc4e97da",
      "execution_count": 40,
      "outputs": []
    },
    {
      "cell_type": "code",
      "metadata": {
        "colab": {
          "base_uri": "https://localhost:8080/"
        },
        "id": "3a9550a4-c553-4484-9e36-bffbdaebc93f",
        "outputId": "d80eb7d2-e150-4447-edb2-e94d36368dc1"
      },
      "source": [
        "pd.value_counts(train.Manager_Joining_Designation)"
      ],
      "id": "3a9550a4-c553-4484-9e36-bffbdaebc93f",
      "execution_count": 41,
      "outputs": [
        {
          "output_type": "execute_result",
          "data": {
            "text/plain": [
              "Level 1    5315\n",
              "Level 2    2787\n",
              "Level 3    1146\n",
              "Level 4     200\n",
              "Other        58\n",
              "Level 6      18\n",
              "Level 7       2\n",
              "Level 5       1\n",
              "Name: Manager_Joining_Designation, dtype: int64"
            ]
          },
          "metadata": {
            "tags": []
          },
          "execution_count": 41
        }
      ]
    },
    {
      "cell_type": "code",
      "metadata": {
        "id": "501d576b-861e-4440-afba-63e1014bc504"
      },
      "source": [
        "manag_jn_desg_dict={'Level 1':0,'Level 2':1,'Level 3':2,'Level 4':3,'Level 5':3,'Level 6':3,'Level 7':3,'Other':4}"
      ],
      "id": "501d576b-861e-4440-afba-63e1014bc504",
      "execution_count": 42,
      "outputs": []
    },
    {
      "cell_type": "code",
      "metadata": {
        "id": "65bff56f-428f-4599-bc1a-fff448b576da"
      },
      "source": [
        "train['Manager_Joining_Designation']=train.Manager_Joining_Designation.map(manag_jn_desg_dict)"
      ],
      "id": "65bff56f-428f-4599-bc1a-fff448b576da",
      "execution_count": 43,
      "outputs": []
    },
    {
      "cell_type": "code",
      "metadata": {
        "colab": {
          "base_uri": "https://localhost:8080/"
        },
        "id": "c32b35c0-40df-445d-b41f-a19a084dad80",
        "outputId": "307a0945-d70d-4e66-da46-4861af2ba997"
      },
      "source": [
        "train.Manager_Joining_Designation.dtype"
      ],
      "id": "c32b35c0-40df-445d-b41f-a19a084dad80",
      "execution_count": 44,
      "outputs": [
        {
          "output_type": "execute_result",
          "data": {
            "text/plain": [
              "dtype('int64')"
            ]
          },
          "metadata": {
            "tags": []
          },
          "execution_count": 44
        }
      ]
    },
    {
      "cell_type": "code",
      "metadata": {
        "id": "929050cc-d4f3-4922-baac-d6aa3e0f824b"
      },
      "source": [
        ""
      ],
      "id": "929050cc-d4f3-4922-baac-d6aa3e0f824b",
      "execution_count": 44,
      "outputs": []
    },
    {
      "cell_type": "code",
      "metadata": {
        "colab": {
          "base_uri": "https://localhost:8080/"
        },
        "id": "7ac59a11-8248-4024-ab81-e20ebee2e5d6",
        "outputId": "4afa0d0a-f771-4d95-c114-0e2f10edae97"
      },
      "source": [
        "pd.value_counts(train.Manager_Current_Designation)"
      ],
      "id": "7ac59a11-8248-4024-ab81-e20ebee2e5d6",
      "execution_count": 45,
      "outputs": [
        {
          "output_type": "execute_result",
          "data": {
            "text/plain": [
              "Level 2    3891\n",
              "Level 1    2479\n",
              "Level 3    2033\n",
              "Level 4    1031\n",
              "Level 5      93\n",
              "Name: Manager_Current_Designation, dtype: int64"
            ]
          },
          "metadata": {
            "tags": []
          },
          "execution_count": 45
        }
      ]
    },
    {
      "cell_type": "code",
      "metadata": {
        "colab": {
          "base_uri": "https://localhost:8080/"
        },
        "id": "b92cd15b-b504-415a-bcd1-b65bf30a20bd",
        "outputId": "5842d35a-27e1-4737-8c69-19b915234f58"
      },
      "source": [
        "train.Manager_Current_Designation.isna().sum()"
      ],
      "id": "b92cd15b-b504-415a-bcd1-b65bf30a20bd",
      "execution_count": 46,
      "outputs": [
        {
          "output_type": "execute_result",
          "data": {
            "text/plain": [
              "0"
            ]
          },
          "metadata": {
            "tags": []
          },
          "execution_count": 46
        }
      ]
    },
    {
      "cell_type": "code",
      "metadata": {
        "id": "f5d38fc0-e4ac-4bcb-aec8-8c0c3804b595"
      },
      "source": [
        "manag_cur_desg_dict={'Level 1':0,'Level 2':1,'Level 3':2,'Level 4':3,'Level 5':4}"
      ],
      "id": "f5d38fc0-e4ac-4bcb-aec8-8c0c3804b595",
      "execution_count": 47,
      "outputs": []
    },
    {
      "cell_type": "code",
      "metadata": {
        "id": "9646483d-7208-45cd-9b74-206e1ebbcf67"
      },
      "source": [
        "x=train.Manager_Current_Designation.cat.codes\n",
        "train['Manager_Current_Designation']=x"
      ],
      "id": "9646483d-7208-45cd-9b74-206e1ebbcf67",
      "execution_count": 48,
      "outputs": []
    },
    {
      "cell_type": "code",
      "metadata": {
        "colab": {
          "base_uri": "https://localhost:8080/"
        },
        "id": "4948cc75-c501-4a76-9732-d5a79a71e5ae",
        "outputId": "1a4c906c-5b43-492e-a721-ade621d7756a"
      },
      "source": [
        "train.info()"
      ],
      "id": "4948cc75-c501-4a76-9732-d5a79a71e5ae",
      "execution_count": 49,
      "outputs": [
        {
          "output_type": "stream",
          "text": [
            "<class 'pandas.core.frame.DataFrame'>\n",
            "Index: 9527 entries, FIN1000001 to FIN1009527\n",
            "Data columns (total 35 columns):\n",
            " #   Column                              Non-Null Count  Dtype  \n",
            "---  ------                              --------------  -----  \n",
            " 0   Office_PIN                          9527 non-null   int64  \n",
            " 1   Applicant_City_PIN                  9527 non-null   int64  \n",
            " 2   Applicant_Qualification             9527 non-null   int64  \n",
            " 3   Manager_Joining_Designation         9527 non-null   int64  \n",
            " 4   Manager_Current_Designation         9527 non-null   int8   \n",
            " 5   Manager_Grade                       9527 non-null   float64\n",
            " 6   Manager_Num_Application             9527 non-null   float64\n",
            " 7   Manager_Num_Coded                   9527 non-null   float64\n",
            " 8   Manager_Business                    9527 non-null   float64\n",
            " 9   Manager_Num_Products                9527 non-null   float64\n",
            " 10  Manager_Business2                   9527 non-null   float64\n",
            " 11  Manager_Num_Products2               9527 non-null   float64\n",
            " 12  Business_Sourced                    9527 non-null   int64  \n",
            " 13  Application_Receipt_Date_year       9527 non-null   int64  \n",
            " 14  Application_Receipt_Date_month      9527 non-null   int64  \n",
            " 15  Application_Receipt_Date_day        9527 non-null   int64  \n",
            " 16  Applicant_BirthDate_year            9527 non-null   float64\n",
            " 17  Applicant_BirthDate_month           9527 non-null   float64\n",
            " 18  Applicant_BirthDate_day             9527 non-null   float64\n",
            " 19  Manager_DOJ_year                    9527 non-null   float64\n",
            " 20  Manager_DOJ_month                   9527 non-null   float64\n",
            " 21  Manager_DOJ_day                     9527 non-null   float64\n",
            " 22  Manager_DoB_year                    9527 non-null   float64\n",
            " 23  Manager_DoB_month                   9527 non-null   float64\n",
            " 24  Manager_DoB_day                     9527 non-null   float64\n",
            " 25  Applicant_Gender_M                  9527 non-null   uint8  \n",
            " 26  Applicant_Marital_Status_M          9527 non-null   uint8  \n",
            " 27  Applicant_Marital_Status_S          9527 non-null   uint8  \n",
            " 28  Applicant_Marital_Status_W          9527 non-null   uint8  \n",
            " 29  Applicant_Occupation_Others         9527 non-null   uint8  \n",
            " 30  Applicant_Occupation_Salaried       9527 non-null   uint8  \n",
            " 31  Applicant_Occupation_Self Employed  9527 non-null   uint8  \n",
            " 32  Applicant_Occupation_Student        9527 non-null   uint8  \n",
            " 33  Manager_Status_Probation            9527 non-null   uint8  \n",
            " 34  Manager_Gender_M                    9527 non-null   uint8  \n",
            "dtypes: float64(16), int64(8), int8(1), uint8(10)\n",
            "memory usage: 2.2+ MB\n"
          ],
          "name": "stdout"
        }
      ]
    },
    {
      "cell_type": "markdown",
      "metadata": {
        "id": "0986d240-fc02-4c69-98f6-8b71fff51abe"
      },
      "source": [
        "for determining the model the independent variable and the feature variable are seperated"
      ],
      "id": "0986d240-fc02-4c69-98f6-8b71fff51abe"
    },
    {
      "cell_type": "code",
      "metadata": {
        "id": "4e9d1db5-18e2-4cd3-ba48-b216249b860a"
      },
      "source": [
        "X_train=train.drop('Business_Sourced',axis=1)"
      ],
      "id": "4e9d1db5-18e2-4cd3-ba48-b216249b860a",
      "execution_count": 50,
      "outputs": []
    },
    {
      "cell_type": "code",
      "metadata": {
        "colab": {
          "base_uri": "https://localhost:8080/"
        },
        "id": "928814c4-9e7b-4716-aa67-3ebe2b88adef",
        "outputId": "a475f793-aad9-481a-db45-a596b33f18b3"
      },
      "source": [
        "X_train.shape"
      ],
      "id": "928814c4-9e7b-4716-aa67-3ebe2b88adef",
      "execution_count": 51,
      "outputs": [
        {
          "output_type": "execute_result",
          "data": {
            "text/plain": [
              "(9527, 34)"
            ]
          },
          "metadata": {
            "tags": []
          },
          "execution_count": 51
        }
      ]
    },
    {
      "cell_type": "code",
      "metadata": {
        "id": "48134c69-b7b7-44d1-824f-d61045597281"
      },
      "source": [
        "y_train=train.loc[:,'Business_Sourced']"
      ],
      "id": "48134c69-b7b7-44d1-824f-d61045597281",
      "execution_count": 52,
      "outputs": []
    },
    {
      "cell_type": "code",
      "metadata": {
        "colab": {
          "base_uri": "https://localhost:8080/"
        },
        "id": "7b395bcd-3040-43af-8a08-d84df08f7afa",
        "outputId": "f5845cb3-3be0-48f3-af76-34dcef40a8a0"
      },
      "source": [
        "y_train.shape"
      ],
      "id": "7b395bcd-3040-43af-8a08-d84df08f7afa",
      "execution_count": 53,
      "outputs": [
        {
          "output_type": "execute_result",
          "data": {
            "text/plain": [
              "(9527,)"
            ]
          },
          "metadata": {
            "tags": []
          },
          "execution_count": 53
        }
      ]
    },
    {
      "cell_type": "markdown",
      "metadata": {
        "id": "30f91065-fa4f-43c9-a81e-a26a4ce00398"
      },
      "source": [
        "unscaled train data split into train and validation set"
      ],
      "id": "30f91065-fa4f-43c9-a81e-a26a4ce00398"
    },
    {
      "cell_type": "code",
      "metadata": {
        "id": "e54699b2-caae-4215-885a-072645c36cff"
      },
      "source": [
        "X_train_uns,X_val_uns,y_train_uns,y_val_uns=tts(X_train,y_train,test_size=0.2,random_state=42)"
      ],
      "id": "e54699b2-caae-4215-885a-072645c36cff",
      "execution_count": 54,
      "outputs": []
    },
    {
      "cell_type": "code",
      "metadata": {
        "id": "a6523580-bf71-44a6-978c-71540187b779"
      },
      "source": [
        "# Feature Scaling\n",
        "sc_X = StandardScaler()\n",
        "X_scaled = sc_X.fit_transform(X_train)"
      ],
      "id": "a6523580-bf71-44a6-978c-71540187b779",
      "execution_count": 55,
      "outputs": []
    },
    {
      "cell_type": "code",
      "metadata": {
        "id": "547c9a6d-635b-47a1-a91e-bd2427805239"
      },
      "source": [
        "X_scaled=pd.DataFrame(X_scaled)\n",
        "X_scaled.columns=X_train.columns"
      ],
      "id": "547c9a6d-635b-47a1-a91e-bd2427805239",
      "execution_count": 56,
      "outputs": []
    },
    {
      "cell_type": "code",
      "metadata": {
        "colab": {
          "base_uri": "https://localhost:8080/",
          "height": 0
        },
        "id": "6110b99e-eef3-4976-a8ce-4fb409feb5c4",
        "outputId": "6fb0c3de-3759-4bd9-d9d7-b4b0b3303401"
      },
      "source": [
        "X_scaled.head(n=3)"
      ],
      "id": "6110b99e-eef3-4976-a8ce-4fb409feb5c4",
      "execution_count": 57,
      "outputs": [
        {
          "output_type": "execute_result",
          "data": {
            "text/html": [
              "<div>\n",
              "<style scoped>\n",
              "    .dataframe tbody tr th:only-of-type {\n",
              "        vertical-align: middle;\n",
              "    }\n",
              "\n",
              "    .dataframe tbody tr th {\n",
              "        vertical-align: top;\n",
              "    }\n",
              "\n",
              "    .dataframe thead th {\n",
              "        text-align: right;\n",
              "    }\n",
              "</style>\n",
              "<table border=\"1\" class=\"dataframe\">\n",
              "  <thead>\n",
              "    <tr style=\"text-align: right;\">\n",
              "      <th></th>\n",
              "      <th>Office_PIN</th>\n",
              "      <th>Applicant_City_PIN</th>\n",
              "      <th>Applicant_Qualification</th>\n",
              "      <th>Manager_Joining_Designation</th>\n",
              "      <th>Manager_Current_Designation</th>\n",
              "      <th>Manager_Grade</th>\n",
              "      <th>Manager_Num_Application</th>\n",
              "      <th>Manager_Num_Coded</th>\n",
              "      <th>Manager_Business</th>\n",
              "      <th>Manager_Num_Products</th>\n",
              "      <th>Manager_Business2</th>\n",
              "      <th>Manager_Num_Products2</th>\n",
              "      <th>Application_Receipt_Date_year</th>\n",
              "      <th>Application_Receipt_Date_month</th>\n",
              "      <th>Application_Receipt_Date_day</th>\n",
              "      <th>Applicant_BirthDate_year</th>\n",
              "      <th>Applicant_BirthDate_month</th>\n",
              "      <th>Applicant_BirthDate_day</th>\n",
              "      <th>Manager_DOJ_year</th>\n",
              "      <th>Manager_DOJ_month</th>\n",
              "      <th>Manager_DOJ_day</th>\n",
              "      <th>Manager_DoB_year</th>\n",
              "      <th>Manager_DoB_month</th>\n",
              "      <th>Manager_DoB_day</th>\n",
              "      <th>Applicant_Gender_M</th>\n",
              "      <th>Applicant_Marital_Status_M</th>\n",
              "      <th>Applicant_Marital_Status_S</th>\n",
              "      <th>Applicant_Marital_Status_W</th>\n",
              "      <th>Applicant_Occupation_Others</th>\n",
              "      <th>Applicant_Occupation_Salaried</th>\n",
              "      <th>Applicant_Occupation_Self Employed</th>\n",
              "      <th>Applicant_Occupation_Student</th>\n",
              "      <th>Manager_Status_Probation</th>\n",
              "      <th>Manager_Gender_M</th>\n",
              "    </tr>\n",
              "  </thead>\n",
              "  <tbody>\n",
              "    <tr>\n",
              "      <th>0</th>\n",
              "      <td>1.651008</td>\n",
              "      <td>1.628593</td>\n",
              "      <td>1.005529</td>\n",
              "      <td>-0.756717</td>\n",
              "      <td>-0.203566</td>\n",
              "      <td>-0.223319</td>\n",
              "      <td>0.061187</td>\n",
              "      <td>0.254327</td>\n",
              "      <td>0.590431</td>\n",
              "      <td>2.577030</td>\n",
              "      <td>0.601998</td>\n",
              "      <td>2.584344</td>\n",
              "      <td>-0.699993</td>\n",
              "      <td>-0.867378</td>\n",
              "      <td>0.134365</td>\n",
              "      <td>-0.379950</td>\n",
              "      <td>1.747915</td>\n",
              "      <td>0.660536</td>\n",
              "      <td>-0.503502</td>\n",
              "      <td>1.242778</td>\n",
              "      <td>-0.534163</td>\n",
              "      <td>0.894834</td>\n",
              "      <td>-1.132427</td>\n",
              "      <td>0.421253</td>\n",
              "      <td>0.561065</td>\n",
              "      <td>0.724099</td>\n",
              "      <td>-0.722416</td>\n",
              "      <td>-0.025104</td>\n",
              "      <td>1.961092</td>\n",
              "      <td>-1.052715</td>\n",
              "      <td>-0.126049</td>\n",
              "      <td>-0.103513</td>\n",
              "      <td>-0.773621</td>\n",
              "      <td>0.382688</td>\n",
              "    </tr>\n",
              "    <tr>\n",
              "      <th>1</th>\n",
              "      <td>1.651008</td>\n",
              "      <td>1.628555</td>\n",
              "      <td>-0.596424</td>\n",
              "      <td>-0.756717</td>\n",
              "      <td>-0.203566</td>\n",
              "      <td>-0.223319</td>\n",
              "      <td>0.061187</td>\n",
              "      <td>0.254327</td>\n",
              "      <td>0.590431</td>\n",
              "      <td>2.577030</td>\n",
              "      <td>0.601998</td>\n",
              "      <td>2.584344</td>\n",
              "      <td>-0.699993</td>\n",
              "      <td>-0.867378</td>\n",
              "      <td>0.134365</td>\n",
              "      <td>0.748821</td>\n",
              "      <td>-1.212667</td>\n",
              "      <td>0.426576</td>\n",
              "      <td>-0.503502</td>\n",
              "      <td>1.242778</td>\n",
              "      <td>-0.534163</td>\n",
              "      <td>0.894834</td>\n",
              "      <td>-1.132427</td>\n",
              "      <td>0.421253</td>\n",
              "      <td>0.561065</td>\n",
              "      <td>-1.381026</td>\n",
              "      <td>1.384244</td>\n",
              "      <td>-0.025104</td>\n",
              "      <td>1.961092</td>\n",
              "      <td>-1.052715</td>\n",
              "      <td>-0.126049</td>\n",
              "      <td>-0.103513</td>\n",
              "      <td>-0.773621</td>\n",
              "      <td>0.382688</td>\n",
              "    </tr>\n",
              "    <tr>\n",
              "      <th>2</th>\n",
              "      <td>1.472799</td>\n",
              "      <td>1.628514</td>\n",
              "      <td>-0.596424</td>\n",
              "      <td>-0.756717</td>\n",
              "      <td>-1.226979</td>\n",
              "      <td>-1.134088</td>\n",
              "      <td>-0.897574</td>\n",
              "      <td>-0.606410</td>\n",
              "      <td>0.673043</td>\n",
              "      <td>2.086214</td>\n",
              "      <td>0.685496</td>\n",
              "      <td>2.092592</td>\n",
              "      <td>-0.699993</td>\n",
              "      <td>-0.867378</td>\n",
              "      <td>0.134365</td>\n",
              "      <td>-0.850271</td>\n",
              "      <td>-1.508725</td>\n",
              "      <td>0.309597</td>\n",
              "      <td>0.059180</td>\n",
              "      <td>-0.510293</td>\n",
              "      <td>1.485884</td>\n",
              "      <td>-0.426293</td>\n",
              "      <td>-0.832460</td>\n",
              "      <td>-1.262724</td>\n",
              "      <td>0.561065</td>\n",
              "      <td>0.724099</td>\n",
              "      <td>-0.722416</td>\n",
              "      <td>-0.025104</td>\n",
              "      <td>-0.509920</td>\n",
              "      <td>-1.052715</td>\n",
              "      <td>-0.126049</td>\n",
              "      <td>-0.103513</td>\n",
              "      <td>-0.773621</td>\n",
              "      <td>0.382688</td>\n",
              "    </tr>\n",
              "  </tbody>\n",
              "</table>\n",
              "</div>"
            ],
            "text/plain": [
              "   Office_PIN  Applicant_City_PIN  Applicant_Qualification  \\\n",
              "0    1.651008            1.628593                 1.005529   \n",
              "1    1.651008            1.628555                -0.596424   \n",
              "2    1.472799            1.628514                -0.596424   \n",
              "\n",
              "   Manager_Joining_Designation  Manager_Current_Designation  Manager_Grade  \\\n",
              "0                    -0.756717                    -0.203566      -0.223319   \n",
              "1                    -0.756717                    -0.203566      -0.223319   \n",
              "2                    -0.756717                    -1.226979      -1.134088   \n",
              "\n",
              "   Manager_Num_Application  Manager_Num_Coded  Manager_Business  \\\n",
              "0                 0.061187           0.254327          0.590431   \n",
              "1                 0.061187           0.254327          0.590431   \n",
              "2                -0.897574          -0.606410          0.673043   \n",
              "\n",
              "   Manager_Num_Products  Manager_Business2  Manager_Num_Products2  \\\n",
              "0              2.577030           0.601998               2.584344   \n",
              "1              2.577030           0.601998               2.584344   \n",
              "2              2.086214           0.685496               2.092592   \n",
              "\n",
              "   Application_Receipt_Date_year  Application_Receipt_Date_month  \\\n",
              "0                      -0.699993                       -0.867378   \n",
              "1                      -0.699993                       -0.867378   \n",
              "2                      -0.699993                       -0.867378   \n",
              "\n",
              "   Application_Receipt_Date_day  Applicant_BirthDate_year  \\\n",
              "0                      0.134365                 -0.379950   \n",
              "1                      0.134365                  0.748821   \n",
              "2                      0.134365                 -0.850271   \n",
              "\n",
              "   Applicant_BirthDate_month  Applicant_BirthDate_day  Manager_DOJ_year  \\\n",
              "0                   1.747915                 0.660536         -0.503502   \n",
              "1                  -1.212667                 0.426576         -0.503502   \n",
              "2                  -1.508725                 0.309597          0.059180   \n",
              "\n",
              "   Manager_DOJ_month  Manager_DOJ_day  Manager_DoB_year  Manager_DoB_month  \\\n",
              "0           1.242778        -0.534163          0.894834          -1.132427   \n",
              "1           1.242778        -0.534163          0.894834          -1.132427   \n",
              "2          -0.510293         1.485884         -0.426293          -0.832460   \n",
              "\n",
              "   Manager_DoB_day  Applicant_Gender_M  Applicant_Marital_Status_M  \\\n",
              "0         0.421253            0.561065                    0.724099   \n",
              "1         0.421253            0.561065                   -1.381026   \n",
              "2        -1.262724            0.561065                    0.724099   \n",
              "\n",
              "   Applicant_Marital_Status_S  Applicant_Marital_Status_W  \\\n",
              "0                   -0.722416                   -0.025104   \n",
              "1                    1.384244                   -0.025104   \n",
              "2                   -0.722416                   -0.025104   \n",
              "\n",
              "   Applicant_Occupation_Others  Applicant_Occupation_Salaried  \\\n",
              "0                     1.961092                      -1.052715   \n",
              "1                     1.961092                      -1.052715   \n",
              "2                    -0.509920                      -1.052715   \n",
              "\n",
              "   Applicant_Occupation_Self Employed  Applicant_Occupation_Student  \\\n",
              "0                           -0.126049                     -0.103513   \n",
              "1                           -0.126049                     -0.103513   \n",
              "2                           -0.126049                     -0.103513   \n",
              "\n",
              "   Manager_Status_Probation  Manager_Gender_M  \n",
              "0                 -0.773621          0.382688  \n",
              "1                 -0.773621          0.382688  \n",
              "2                 -0.773621          0.382688  "
            ]
          },
          "metadata": {
            "tags": []
          },
          "execution_count": 57
        }
      ]
    },
    {
      "cell_type": "markdown",
      "metadata": {
        "id": "9bab2bc0-6e8b-4909-923f-fd3223291f82"
      },
      "source": [
        "let us create a small validation set to test our model.we shall split the train data into 80 % train and 20 % validation and check the performance\n",
        "of our model on the validation set "
      ],
      "id": "9bab2bc0-6e8b-4909-923f-fd3223291f82"
    },
    {
      "cell_type": "code",
      "metadata": {
        "id": "47ba03e6-4bd6-4fe9-8358-c85e57ee4052"
      },
      "source": [
        "X_scaled,X_val,y_train,y_val=tts(X_scaled,y_train,test_size=0.2,random_state=42)"
      ],
      "id": "47ba03e6-4bd6-4fe9-8358-c85e57ee4052",
      "execution_count": 58,
      "outputs": []
    },
    {
      "cell_type": "code",
      "metadata": {
        "colab": {
          "base_uri": "https://localhost:8080/"
        },
        "id": "7eab1e04-d0a7-4460-93f2-fafc6b4bef4f",
        "outputId": "43ef3689-a325-45c1-aca8-4d63afe67bd4"
      },
      "source": [
        "X_scaled.shape,X_val.shape,y_train.shape,y_val.shape"
      ],
      "id": "7eab1e04-d0a7-4460-93f2-fafc6b4bef4f",
      "execution_count": 59,
      "outputs": [
        {
          "output_type": "execute_result",
          "data": {
            "text/plain": [
              "((7621, 34), (1906, 34), (7621,), (1906,))"
            ]
          },
          "metadata": {
            "tags": []
          },
          "execution_count": 59
        }
      ]
    },
    {
      "cell_type": "markdown",
      "metadata": {
        "id": "e62fe4a4-1b7d-4bf8-88a0-42bfa60041ae"
      },
      "source": [
        "## Logistic Regression Model"
      ],
      "id": "e62fe4a4-1b7d-4bf8-88a0-42bfa60041ae"
    },
    {
      "cell_type": "code",
      "metadata": {
        "id": "03e65900-e57d-4d5a-96cc-866a5d7ce155"
      },
      "source": [
        "lr_model=LogisticRegression(solver='liblinear',class_weight='balanced')\n",
        "fitted_lr_model=lr_model.fit(X_scaled,y_train)"
      ],
      "id": "03e65900-e57d-4d5a-96cc-866a5d7ce155",
      "execution_count": 60,
      "outputs": []
    },
    {
      "cell_type": "markdown",
      "metadata": {
        "id": "ba601983-0adf-4e72-a59a-7ab39dcf1e41"
      },
      "source": [
        "now let us see how the model trained on training data perfoms on the validation data"
      ],
      "id": "ba601983-0adf-4e72-a59a-7ab39dcf1e41"
    },
    {
      "cell_type": "code",
      "metadata": {
        "id": "ea39dc95-1922-423b-ad0d-ba5d00759f72"
      },
      "source": [
        "y_pred=fitted_lr_model.predict(X_scaled)"
      ],
      "id": "ea39dc95-1922-423b-ad0d-ba5d00759f72",
      "execution_count": 61,
      "outputs": []
    },
    {
      "cell_type": "code",
      "metadata": {
        "colab": {
          "base_uri": "https://localhost:8080/"
        },
        "id": "c20a643e-ed96-43ed-9616-d0fc79714f0e",
        "outputId": "b15babdc-c417-4111-eb35-6dd48a8987c7"
      },
      "source": [
        "print(classification_report(y_train, y_pred))"
      ],
      "id": "c20a643e-ed96-43ed-9616-d0fc79714f0e",
      "execution_count": 62,
      "outputs": [
        {
          "output_type": "stream",
          "text": [
            "              precision    recall  f1-score   support\n",
            "\n",
            "           0       0.73      0.55      0.63      5005\n",
            "           1       0.41      0.60      0.49      2616\n",
            "\n",
            "    accuracy                           0.57      7621\n",
            "   macro avg       0.57      0.58      0.56      7621\n",
            "weighted avg       0.62      0.57      0.58      7621\n",
            "\n"
          ],
          "name": "stdout"
        }
      ]
    },
    {
      "cell_type": "code",
      "metadata": {
        "id": "4c73ba78-664c-4725-a6da-a21291f034b0"
      },
      "source": [
        "y_pred=fitted_lr_model.predict(X_val)\n",
        "y_pred_probability=fitted_lr_model.predict_proba(X_val)"
      ],
      "id": "4c73ba78-664c-4725-a6da-a21291f034b0",
      "execution_count": 63,
      "outputs": []
    },
    {
      "cell_type": "code",
      "metadata": {
        "colab": {
          "base_uri": "https://localhost:8080/"
        },
        "id": "75faedd7-65f8-4286-a14b-05fa034b85c2",
        "outputId": "b8fbf4c0-c6c5-4fa3-95e7-53058b381a1f"
      },
      "source": [
        "print(classification_report(y_val, y_pred))"
      ],
      "id": "75faedd7-65f8-4286-a14b-05fa034b85c2",
      "execution_count": 64,
      "outputs": [
        {
          "output_type": "stream",
          "text": [
            "              precision    recall  f1-score   support\n",
            "\n",
            "           0       0.71      0.56      0.63      1255\n",
            "           1       0.40      0.57      0.47       651\n",
            "\n",
            "    accuracy                           0.56      1906\n",
            "   macro avg       0.56      0.56      0.55      1906\n",
            "weighted avg       0.61      0.56      0.58      1906\n",
            "\n"
          ],
          "name": "stdout"
        }
      ]
    },
    {
      "cell_type": "markdown",
      "metadata": {
        "id": "3c26146d-bd07-42f7-98a6-30dab10743c1"
      },
      "source": [
        "We can see that model is not efficient. The low recall shows the model predicts a lot of false negatives. The high number of false negatives also\n",
        "has brought down the accuracy of the model. The model also predicts a large number of false positives for class 1 in precision"
      ],
      "id": "3c26146d-bd07-42f7-98a6-30dab10743c1"
    },
    {
      "cell_type": "markdown",
      "metadata": {
        "id": "ff2434bc-29da-4c9f-9219-489670cfd861"
      },
      "source": [
        "### ROC-AUC curve"
      ],
      "id": "ff2434bc-29da-4c9f-9219-489670cfd861"
    },
    {
      "cell_type": "code",
      "metadata": {
        "id": "25453a69-0cd3-46a4-88f4-0b82a8ecf0e2"
      },
      "source": [
        "fpr,tpr,threshold=roc_curve(y_val,y_pred_probability[:,1])"
      ],
      "id": "25453a69-0cd3-46a4-88f4-0b82a8ecf0e2",
      "execution_count": 65,
      "outputs": []
    },
    {
      "cell_type": "code",
      "metadata": {
        "colab": {
          "base_uri": "https://localhost:8080/",
          "height": 325
        },
        "id": "4d0dd10e-77f4-44f1-95fd-1901f31715ea",
        "outputId": "e51fcd5e-4d31-4311-cd30-fec8e6352881"
      },
      "source": [
        "plt.figure()\n",
        "plt.plot(fpr,tpr,color='green')\n",
        "plt.plot([0,1],[0,1],label='baseline',color='red')\n",
        "plt.xlabel('FPR',fontsize=15)\n",
        "plt.ylabel('TPR',fontsize=15)\n",
        "plt.title('AUC-ROC',fontsize=20)\n",
        "roc_auc_score(y_val,y_pred_probability[:,1])"
      ],
      "id": "4d0dd10e-77f4-44f1-95fd-1901f31715ea",
      "execution_count": 66,
      "outputs": [
        {
          "output_type": "execute_result",
          "data": {
            "text/plain": [
              "0.5972117673698447"
            ]
          },
          "metadata": {
            "tags": []
          },
          "execution_count": 66
        },
        {
          "output_type": "display_data",
          "data": {
            "image/png": "[encoded data removed]",
            "text/plain": [
              "<Figure size 432x288 with 1 Axes>"
            ]
          },
          "metadata": {
            "tags": [],
            "needs_background": "light"
          }
        }
      ]
    },
    {
      "cell_type": "markdown",
      "metadata": {
        "id": "861d095f-0e78-4c55-a0de-818b60db3547"
      },
      "source": [
        "### Coefficient Plot"
      ],
      "id": "861d095f-0e78-4c55-a0de-818b60db3547"
    },
    {
      "cell_type": "code",
      "metadata": {
        "colab": {
          "base_uri": "https://localhost:8080/",
          "height": 204
        },
        "id": "8ea1c86d-6415-4179-a30d-491e4ea0ece9",
        "outputId": "af4e02bd-a716-42fc-bdf0-fd020583c25c"
      },
      "source": [
        "#arranging the data\n",
        "c=fitted_lr_model.coef_.reshape(-1)\n",
        "x=X_scaled.columns\n",
        "coeff_plot=pd.DataFrame({'coefficients':c,'variable':x})\n",
        "#sorting the values\n",
        "coeff_plot=coeff_plot.sort_values(by='coefficients')\n",
        "coeff_plot.head()"
      ],
      "id": "8ea1c86d-6415-4179-a30d-491e4ea0ece9",
      "execution_count": 67,
      "outputs": [
        {
          "output_type": "execute_result",
          "data": {
            "text/html": [
              "<div>\n",
              "<style scoped>\n",
              "    .dataframe tbody tr th:only-of-type {\n",
              "        vertical-align: middle;\n",
              "    }\n",
              "\n",
              "    .dataframe tbody tr th {\n",
              "        vertical-align: top;\n",
              "    }\n",
              "\n",
              "    .dataframe thead th {\n",
              "        text-align: right;\n",
              "    }\n",
              "</style>\n",
              "<table border=\"1\" class=\"dataframe\">\n",
              "  <thead>\n",
              "    <tr style=\"text-align: right;\">\n",
              "      <th></th>\n",
              "      <th>coefficients</th>\n",
              "      <th>variable</th>\n",
              "    </tr>\n",
              "  </thead>\n",
              "  <tbody>\n",
              "    <tr>\n",
              "      <th>30</th>\n",
              "      <td>-0.839058</td>\n",
              "      <td>Applicant_Occupation_Self Employed</td>\n",
              "    </tr>\n",
              "    <tr>\n",
              "      <th>25</th>\n",
              "      <td>-0.376076</td>\n",
              "      <td>Applicant_Marital_Status_M</td>\n",
              "    </tr>\n",
              "    <tr>\n",
              "      <th>26</th>\n",
              "      <td>-0.321492</td>\n",
              "      <td>Applicant_Marital_Status_S</td>\n",
              "    </tr>\n",
              "    <tr>\n",
              "      <th>8</th>\n",
              "      <td>-0.230505</td>\n",
              "      <td>Manager_Business</td>\n",
              "    </tr>\n",
              "    <tr>\n",
              "      <th>4</th>\n",
              "      <td>-0.178075</td>\n",
              "      <td>Manager_Current_Designation</td>\n",
              "    </tr>\n",
              "  </tbody>\n",
              "</table>\n",
              "</div>"
            ],
            "text/plain": [
              "    coefficients                            variable\n",
              "30     -0.839058  Applicant_Occupation_Self Employed\n",
              "25     -0.376076          Applicant_Marital_Status_M\n",
              "26     -0.321492          Applicant_Marital_Status_S\n",
              "8      -0.230505                    Manager_Business\n",
              "4      -0.178075         Manager_Current_Designation"
            ]
          },
          "metadata": {
            "tags": []
          },
          "execution_count": 67
        }
      ]
    },
    {
      "cell_type": "code",
      "metadata": {
        "colab": {
          "base_uri": "https://localhost:8080/",
          "height": 702
        },
        "id": "a4411604-524d-49a8-a18c-768d57ce0f6e",
        "outputId": "2db757ee-fc8f-4cf5-e621-b2f6ed533e04"
      },
      "source": [
        "plt.figure(figsize=(8,6),dpi=120)\n",
        "plt.barh(coeff_plot['variable'],coeff_plot['coefficients'])\n",
        "plt.xlabel(\"Coefficient Magnitude\",fontsize=15)\n",
        "plt.ylabel(\"variables\",fontsize=15)\n",
        "plt.title(\"Coefficient \",fontsize=20)"
      ],
      "id": "a4411604-524d-49a8-a18c-768d57ce0f6e",
      "execution_count": 68,
      "outputs": [
        {
          "output_type": "execute_result",
          "data": {
            "text/plain": [
              "Text(0.5, 1.0, 'Coefficient ')"
            ]
          },
          "metadata": {
            "tags": []
          },
          "execution_count": 68
        },
        {
          "output_type": "display_data",
          "data": {
            "image/png": "[encoded data removed]",
            "text/plain": [
              "<Figure size 960x720 with 1 Axes>"
            ]
          },
          "metadata": {
            "tags": [],
            "needs_background": "light"
          }
        }
      ]
    },
    {
      "cell_type": "markdown",
      "metadata": {
        "id": "ce2a7552-5b73-45c5-b16d-6d1b745b8fda"
      },
      "source": [
        "## Bagging Model"
      ],
      "id": "ce2a7552-5b73-45c5-b16d-6d1b745b8fda"
    },
    {
      "cell_type": "code",
      "metadata": {
        "colab": {
          "base_uri": "https://localhost:8080/"
        },
        "id": "239a2e34-b5b1-4f12-b389-72209cc2e503",
        "outputId": "cbaa8c18-2de6-49a6-e678-771b6515afdd"
      },
      "source": [
        "from sklearn.ensemble import BaggingClassifier as BC\n",
        "bag_classifier = BC(n_estimators = 150,random_state = 42)\n",
        "bag_classifier.fit(X_scaled,y_train)"
      ],
      "id": "239a2e34-b5b1-4f12-b389-72209cc2e503",
      "execution_count": 69,
      "outputs": [
        {
          "output_type": "execute_result",
          "data": {
            "text/plain": [
              "BaggingClassifier(base_estimator=None, bootstrap=True, bootstrap_features=False,\n",
              "                  max_features=1.0, max_samples=1.0, n_estimators=150,\n",
              "                  n_jobs=None, oob_score=False, random_state=42, verbose=0,\n",
              "                  warm_start=False)"
            ]
          },
          "metadata": {
            "tags": []
          },
          "execution_count": 69
        }
      ]
    },
    {
      "cell_type": "markdown",
      "metadata": {
        "id": "bec80240-eb5b-4028-8f7d-b120fa493d37"
      },
      "source": [
        "this is a tree based model and does not require a scaled dataset, however since we have the scaled data, we shall use it here for this model"
      ],
      "id": "bec80240-eb5b-4028-8f7d-b120fa493d37"
    },
    {
      "cell_type": "code",
      "metadata": {
        "colab": {
          "base_uri": "https://localhost:8080/"
        },
        "id": "1b47afff-0daa-443b-a634-e301bf484225",
        "outputId": "0ce9b195-e7b0-424f-96a6-1cc60a0e45d2"
      },
      "source": [
        "bag_classifier.base_estimator_"
      ],
      "id": "1b47afff-0daa-443b-a634-e301bf484225",
      "execution_count": 70,
      "outputs": [
        {
          "output_type": "execute_result",
          "data": {
            "text/plain": [
              "DecisionTreeClassifier(ccp_alpha=0.0, class_weight=None, criterion='gini',\n",
              "                       max_depth=None, max_features=None, max_leaf_nodes=None,\n",
              "                       min_impurity_decrease=0.0, min_impurity_split=None,\n",
              "                       min_samples_leaf=1, min_samples_split=2,\n",
              "                       min_weight_fraction_leaf=0.0, presort='deprecated',\n",
              "                       random_state=None, splitter='best')"
            ]
          },
          "metadata": {
            "tags": []
          },
          "execution_count": 70
        }
      ]
    },
    {
      "cell_type": "code",
      "metadata": {
        "colab": {
          "base_uri": "https://localhost:8080/"
        },
        "id": "73481c88-0589-4603-88d5-04d317f50003",
        "outputId": "e17f9609-f101-4ace-9829-edda53342a48"
      },
      "source": [
        "# parameters of the classifier\n",
        "bag_classifier.max_features,bag_classifier.max_samples,bag_classifier.n_classes_,bag_classifier.n_estimators"
      ],
      "id": "73481c88-0589-4603-88d5-04d317f50003",
      "execution_count": 71,
      "outputs": [
        {
          "output_type": "execute_result",
          "data": {
            "text/plain": [
              "(1.0, 1.0, 2, 150)"
            ]
          },
          "metadata": {
            "tags": []
          },
          "execution_count": 71
        }
      ]
    },
    {
      "cell_type": "code",
      "metadata": {
        "id": "00ba05bc-ede0-4144-a98e-6cc7e0148bb4"
      },
      "source": [
        "bag_class_y_pred=bag_classifier.predict(X_scaled)"
      ],
      "id": "00ba05bc-ede0-4144-a98e-6cc7e0148bb4",
      "execution_count": 72,
      "outputs": []
    },
    {
      "cell_type": "code",
      "metadata": {
        "id": "c06fd9ea-427a-42cb-be00-78fd07fca10b"
      },
      "source": [
        "bag_class_y_pred_val=bag_classifier.predict(X_val)"
      ],
      "id": "c06fd9ea-427a-42cb-be00-78fd07fca10b",
      "execution_count": 73,
      "outputs": []
    },
    {
      "cell_type": "code",
      "metadata": {
        "colab": {
          "base_uri": "https://localhost:8080/"
        },
        "id": "f4a33497-8404-4755-a8af-42200556e6c7",
        "outputId": "1695c660-8264-488a-dc48-71084dd620d7"
      },
      "source": [
        "# bagging model with decision tree classifier on train data\n",
        "print(classification_report(y_train, bag_class_y_pred))"
      ],
      "id": "f4a33497-8404-4755-a8af-42200556e6c7",
      "execution_count": 74,
      "outputs": [
        {
          "output_type": "stream",
          "text": [
            "              precision    recall  f1-score   support\n",
            "\n",
            "           0       1.00      1.00      1.00      5005\n",
            "           1       1.00      1.00      1.00      2616\n",
            "\n",
            "    accuracy                           1.00      7621\n",
            "   macro avg       1.00      1.00      1.00      7621\n",
            "weighted avg       1.00      1.00      1.00      7621\n",
            "\n"
          ],
          "name": "stdout"
        }
      ]
    },
    {
      "cell_type": "code",
      "metadata": {
        "colab": {
          "base_uri": "https://localhost:8080/"
        },
        "id": "7a2c9f85-a3a5-472f-8c67-31c9f8731f07",
        "outputId": "9a139734-aaf9-4751-cd2b-8872ea86c509"
      },
      "source": [
        "# bagging model with decision tree classifier on validation data\n",
        "print(classification_report(y_val, bag_class_y_pred_val))"
      ],
      "id": "7a2c9f85-a3a5-472f-8c67-31c9f8731f07",
      "execution_count": 75,
      "outputs": [
        {
          "output_type": "stream",
          "text": [
            "              precision    recall  f1-score   support\n",
            "\n",
            "           0       0.69      0.87      0.77      1255\n",
            "           1       0.48      0.23      0.31       651\n",
            "\n",
            "    accuracy                           0.65      1906\n",
            "   macro avg       0.58      0.55      0.54      1906\n",
            "weighted avg       0.62      0.65      0.61      1906\n",
            "\n"
          ],
          "name": "stdout"
        }
      ]
    },
    {
      "cell_type": "markdown",
      "metadata": {
        "id": "498770a9-4278-4d78-88ca-1c2ec1808a8d"
      },
      "source": [
        "this appears to be a case of overfitting as the train data fits well, but the validation data fits poorly"
      ],
      "id": "498770a9-4278-4d78-88ca-1c2ec1808a8d"
    },
    {
      "cell_type": "code",
      "metadata": {
        "id": "c5ac5c36-702f-49b4-959c-23143cb5d99a"
      },
      "source": [
        ""
      ],
      "id": "c5ac5c36-702f-49b4-959c-23143cb5d99a",
      "execution_count": 75,
      "outputs": []
    },
    {
      "cell_type": "code",
      "metadata": {
        "colab": {
          "base_uri": "https://localhost:8080/"
        },
        "id": "839fe50b-c259-4a88-9d4e-68e031ae96f8",
        "outputId": "e0306294-aed0-4cc9-cf9c-196ae6c17fda"
      },
      "source": [
        "from sklearn.linear_model import LogisticRegression as LR\n",
        "\n",
        "bag_clf_lr = BC(base_estimator = LR(solver='liblinear',class_weight='balanced'),\n",
        "                n_estimators = 150,\n",
        "                n_jobs = -1,\n",
        "                random_state = 42)\n",
        "bag_clf_lr.fit(X_scaled, y_train)"
      ],
      "id": "839fe50b-c259-4a88-9d4e-68e031ae96f8",
      "execution_count": 76,
      "outputs": [
        {
          "output_type": "execute_result",
          "data": {
            "text/plain": [
              "BaggingClassifier(base_estimator=LogisticRegression(C=1.0,\n",
              "                                                    class_weight='balanced',\n",
              "                                                    dual=False,\n",
              "                                                    fit_intercept=True,\n",
              "                                                    intercept_scaling=1,\n",
              "                                                    l1_ratio=None, max_iter=100,\n",
              "                                                    multi_class='auto',\n",
              "                                                    n_jobs=None, penalty='l2',\n",
              "                                                    random_state=None,\n",
              "                                                    solver='liblinear',\n",
              "                                                    tol=0.0001, verbose=0,\n",
              "                                                    warm_start=False),\n",
              "                  bootstrap=True, bootstrap_features=False, max_features=1.0,\n",
              "                  max_samples=1.0, n_estimators=150, n_jobs=-1, oob_score=False,\n",
              "                  random_state=42, verbose=0, warm_start=False)"
            ]
          },
          "metadata": {
            "tags": []
          },
          "execution_count": 76
        }
      ]
    },
    {
      "cell_type": "code",
      "metadata": {
        "colab": {
          "base_uri": "https://localhost:8080/"
        },
        "id": "164886a4-17c9-4562-b5a8-b887fd15c5b4",
        "outputId": "92410b90-55c9-431b-ca43-de32175d45fa"
      },
      "source": [
        "bag_clf_lr.base_estimator"
      ],
      "id": "164886a4-17c9-4562-b5a8-b887fd15c5b4",
      "execution_count": 77,
      "outputs": [
        {
          "output_type": "execute_result",
          "data": {
            "text/plain": [
              "LogisticRegression(C=1.0, class_weight='balanced', dual=False,\n",
              "                   fit_intercept=True, intercept_scaling=1, l1_ratio=None,\n",
              "                   max_iter=100, multi_class='auto', n_jobs=None, penalty='l2',\n",
              "                   random_state=None, solver='liblinear', tol=0.0001, verbose=0,\n",
              "                   warm_start=False)"
            ]
          },
          "metadata": {
            "tags": []
          },
          "execution_count": 77
        }
      ]
    },
    {
      "cell_type": "code",
      "metadata": {
        "id": "ff37ed21-93f0-4e8a-80c2-8eb17524ec1f"
      },
      "source": [
        "bag_class_y_pred = bag_clf_lr.predict(X_scaled)"
      ],
      "id": "ff37ed21-93f0-4e8a-80c2-8eb17524ec1f",
      "execution_count": 78,
      "outputs": []
    },
    {
      "cell_type": "code",
      "metadata": {
        "id": "2d10bd9c-151d-494f-bddb-20ba48b33f21"
      },
      "source": [
        "bag_class_y_pred_val=bag_clf_lr.predict(X_val)"
      ],
      "id": "2d10bd9c-151d-494f-bddb-20ba48b33f21",
      "execution_count": 79,
      "outputs": []
    },
    {
      "cell_type": "code",
      "metadata": {
        "colab": {
          "base_uri": "https://localhost:8080/"
        },
        "id": "e322c9b1-9e8d-4ee9-acc6-706ac9da4960",
        "outputId": "aa5a56d2-4228-4af0-bbc0-8be3a8f464b3"
      },
      "source": [
        "# bagging model with decision tree classifier on train data\n",
        "print(classification_report(y_train, bag_class_y_pred))"
      ],
      "id": "e322c9b1-9e8d-4ee9-acc6-706ac9da4960",
      "execution_count": 80,
      "outputs": [
        {
          "output_type": "stream",
          "text": [
            "              precision    recall  f1-score   support\n",
            "\n",
            "           0       0.73      0.55      0.63      5005\n",
            "           1       0.41      0.60      0.49      2616\n",
            "\n",
            "    accuracy                           0.57      7621\n",
            "   macro avg       0.57      0.58      0.56      7621\n",
            "weighted avg       0.62      0.57      0.58      7621\n",
            "\n"
          ],
          "name": "stdout"
        }
      ]
    },
    {
      "cell_type": "code",
      "metadata": {
        "colab": {
          "base_uri": "https://localhost:8080/"
        },
        "id": "948d0d3f-d99a-4e05-91a8-2f4c6a572ec5",
        "outputId": "f8d2e3fe-da18-4df9-df53-9338bcfcb371"
      },
      "source": [
        "# bagging model with decision tree classifier on validation data\n",
        "print(classification_report(y_val, bag_class_y_pred_val))"
      ],
      "id": "948d0d3f-d99a-4e05-91a8-2f4c6a572ec5",
      "execution_count": 81,
      "outputs": [
        {
          "output_type": "stream",
          "text": [
            "              precision    recall  f1-score   support\n",
            "\n",
            "           0       0.72      0.56      0.63      1255\n",
            "           1       0.40      0.57      0.47       651\n",
            "\n",
            "    accuracy                           0.57      1906\n",
            "   macro avg       0.56      0.57      0.55      1906\n",
            "weighted avg       0.61      0.57      0.58      1906\n",
            "\n"
          ],
          "name": "stdout"
        }
      ]
    },
    {
      "cell_type": "markdown",
      "metadata": {
        "id": "329311a7-31a6-4dfe-a02b-15df679e9482"
      },
      "source": [
        "bagging did not improve the quality of the model"
      ],
      "id": "329311a7-31a6-4dfe-a02b-15df679e9482"
    },
    {
      "cell_type": "markdown",
      "metadata": {
        "id": "578c083b-e5c0-4d60-9fdf-f0055a618b12"
      },
      "source": [
        "### Random Forest Model"
      ],
      "id": "578c083b-e5c0-4d60-9fdf-f0055a618b12"
    },
    {
      "cell_type": "code",
      "metadata": {
        "colab": {
          "base_uri": "https://localhost:8080/"
        },
        "id": "9757f5d9-70bf-4270-a84c-b43f6c4e9af5",
        "outputId": "e24a0580-169a-4697-d833-21b8ba971469"
      },
      "source": [
        "from sklearn.ensemble import RandomForestClassifier as RFC\n",
        "rf_clf = RFC()\n",
        "rf_clf.fit(X_scaled,y_train)"
      ],
      "id": "9757f5d9-70bf-4270-a84c-b43f6c4e9af5",
      "execution_count": 82,
      "outputs": [
        {
          "output_type": "execute_result",
          "data": {
            "text/plain": [
              "RandomForestClassifier(bootstrap=True, ccp_alpha=0.0, class_weight=None,\n",
              "                       criterion='gini', max_depth=None, max_features='auto',\n",
              "                       max_leaf_nodes=None, max_samples=None,\n",
              "                       min_impurity_decrease=0.0, min_impurity_split=None,\n",
              "                       min_samples_leaf=1, min_samples_split=2,\n",
              "                       min_weight_fraction_leaf=0.0, n_estimators=100,\n",
              "                       n_jobs=None, oob_score=False, random_state=None,\n",
              "                       verbose=0, warm_start=False)"
            ]
          },
          "metadata": {
            "tags": []
          },
          "execution_count": 82
        }
      ]
    },
    {
      "cell_type": "code",
      "metadata": {
        "colab": {
          "base_uri": "https://localhost:8080/"
        },
        "id": "8bbb6780-e49c-4451-a0e3-7c0e032bd2f4",
        "outputId": "a57e5675-5c45-4ada-e956-8d990ba37c44"
      },
      "source": [
        "rfclf_y_pred = rf_clf.predict(X_scaled)\n",
        "print(classification_report(y_train,rfclf_y_pred))"
      ],
      "id": "8bbb6780-e49c-4451-a0e3-7c0e032bd2f4",
      "execution_count": 83,
      "outputs": [
        {
          "output_type": "stream",
          "text": [
            "              precision    recall  f1-score   support\n",
            "\n",
            "           0       1.00      1.00      1.00      5005\n",
            "           1       1.00      1.00      1.00      2616\n",
            "\n",
            "    accuracy                           1.00      7621\n",
            "   macro avg       1.00      1.00      1.00      7621\n",
            "weighted avg       1.00      1.00      1.00      7621\n",
            "\n"
          ],
          "name": "stdout"
        }
      ]
    },
    {
      "cell_type": "code",
      "metadata": {
        "colab": {
          "base_uri": "https://localhost:8080/"
        },
        "id": "d97343da-ddbb-44e3-a388-cec597f6aba4",
        "outputId": "f12d729e-6a5b-474d-d0ef-e9d92ef1aeac"
      },
      "source": [
        "rfclf_y_pred_val=rf_clf.predict(X_val)\n",
        "print(classification_report(y_val,rfclf_y_pred_val))"
      ],
      "id": "d97343da-ddbb-44e3-a388-cec597f6aba4",
      "execution_count": 84,
      "outputs": [
        {
          "output_type": "stream",
          "text": [
            "              precision    recall  f1-score   support\n",
            "\n",
            "           0       0.68      0.89      0.77      1255\n",
            "           1       0.49      0.20      0.29       651\n",
            "\n",
            "    accuracy                           0.65      1906\n",
            "   macro avg       0.58      0.55      0.53      1906\n",
            "weighted avg       0.62      0.65      0.61      1906\n",
            "\n"
          ],
          "name": "stdout"
        }
      ]
    },
    {
      "cell_type": "markdown",
      "metadata": {
        "id": "dec3f93c-5a45-478d-8d10-8e492ea2a7e0"
      },
      "source": [
        "since this treee based model is overfitting, we will carry out hyperparameter tuning to optimize the model"
      ],
      "id": "dec3f93c-5a45-478d-8d10-8e492ea2a7e0"
    },
    {
      "cell_type": "code",
      "metadata": {
        "colab": {
          "base_uri": "https://localhost:8080/"
        },
        "id": "861a2a5b-1f6f-4fc2-86a9-aaede6cb1e41",
        "outputId": "43757a07-3905-4af7-fe93-a567fc3b2447"
      },
      "source": [
        "# paramters of the model suitable for hyperparameter tuning\n",
        "rf_clf.estimator_params"
      ],
      "id": "861a2a5b-1f6f-4fc2-86a9-aaede6cb1e41",
      "execution_count": 85,
      "outputs": [
        {
          "output_type": "execute_result",
          "data": {
            "text/plain": [
              "('criterion',\n",
              " 'max_depth',\n",
              " 'min_samples_split',\n",
              " 'min_samples_leaf',\n",
              " 'min_weight_fraction_leaf',\n",
              " 'max_features',\n",
              " 'max_leaf_nodes',\n",
              " 'min_impurity_decrease',\n",
              " 'min_impurity_split',\n",
              " 'random_state',\n",
              " 'ccp_alpha')"
            ]
          },
          "metadata": {
            "tags": []
          },
          "execution_count": 85
        }
      ]
    },
    {
      "cell_type": "code",
      "metadata": {
        "colab": {
          "base_uri": "https://localhost:8080/"
        },
        "id": "1ce834bf-54f1-45be-910d-ff192ebc2b54",
        "outputId": "be5cdb28-eab0-402d-a108-bf6faaa5bba1"
      },
      "source": [
        "rf_clf.n_estimators"
      ],
      "id": "1ce834bf-54f1-45be-910d-ff192ebc2b54",
      "execution_count": 86,
      "outputs": [
        {
          "output_type": "execute_result",
          "data": {
            "text/plain": [
              "100"
            ]
          },
          "metadata": {
            "tags": []
          },
          "execution_count": 86
        }
      ]
    },
    {
      "cell_type": "markdown",
      "metadata": {
        "id": "b1816843-1881-4b6b-9c4c-84c30033ebd1"
      },
      "source": [
        "first we shall define 2 helper function"
      ],
      "id": "b1816843-1881-4b6b-9c4c-84c30033ebd1"
    },
    {
      "cell_type": "code",
      "metadata": {
        "id": "53ddcd65-ced9-4421-ac90-c1073ae27ffc"
      },
      "source": [
        "def calc_score(model, x1, y1, x2, y2):\n",
        "    model.fit(x1,y1)\n",
        "    predict = model.predict(x1)\n",
        "    f1 = f1_score(y1, predict)\n",
        "    predict = model.predict(x2)\n",
        "    f2 = f1_score(y2, predict)\n",
        "    return f1, f2"
      ],
      "id": "53ddcd65-ced9-4421-ac90-c1073ae27ffc",
      "execution_count": 87,
      "outputs": []
    },
    {
      "cell_type": "code",
      "metadata": {
        "id": "36627c65-b59d-4a66-b0eb-afa3ceb70145"
      },
      "source": [
        "def effect(train_score, test_score, x_axis, title):\n",
        "    plt.figure(figsize = (7,4), dpi = 120)\n",
        "    plt.plot(x_axis, train_score, color = 'red', label = 'train_Score')\n",
        "    plt.plot(x_axis, test_score, color = 'blue', label = 'test_Score')\n",
        "    plt.title(title)\n",
        "    plt.legend()\n",
        "    plt.xlabel(\"parameter_value\")\n",
        "    plt.ylabel(\"f1 score\")\n",
        "    plt.show()"
      ],
      "id": "36627c65-b59d-4a66-b0eb-afa3ceb70145",
      "execution_count": 88,
      "outputs": []
    },
    {
      "cell_type": "markdown",
      "metadata": {
        "id": "da98be29-32cd-4510-b809-0669d703a967"
      },
      "source": [
        "now we shall optimize each individual hyperparameter"
      ],
      "id": "da98be29-32cd-4510-b809-0669d703a967"
    },
    {
      "cell_type": "code",
      "metadata": {
        "id": "be21b5ac-af9f-49af-bc53-0bcf8581ee56"
      },
      "source": [
        "estimators = [i for i in range(1,600,10)]\n",
        "train = []\n",
        "test = []\n",
        "\n",
        "for i in estimators:  \n",
        "    model = RFC(class_weight = 'balanced_subsample',\n",
        "              n_estimators = i,\n",
        "              n_jobs = -1,\n",
        "              max_depth = 7,\n",
        "              random_state = 101)\n",
        "    f1, f2 = calc_score(model, X_scaled, y_train, X_val, y_val)\n",
        "    train.append(f1)\n",
        "    test.append(f2)"
      ],
      "id": "be21b5ac-af9f-49af-bc53-0bcf8581ee56",
      "execution_count": 89,
      "outputs": []
    },
    {
      "cell_type": "code",
      "metadata": {
        "colab": {
          "base_uri": "https://localhost:8080/",
          "height": 488
        },
        "id": "7c943124-dce1-4a7c-a1f1-89260cdf727c",
        "outputId": "aedb9e6e-b97c-4b6e-ab9b-6b4a536325bd"
      },
      "source": [
        "effect( train, test, range(1,600,10) , 'n_estimators')"
      ],
      "id": "7c943124-dce1-4a7c-a1f1-89260cdf727c",
      "execution_count": 90,
      "outputs": [
        {
          "output_type": "display_data",
          "data": {
            "image/png": "[encoded data removed]",
            "text/plain": [
              "<Figure size 840x480 with 1 Axes>"
            ]
          },
          "metadata": {
            "tags": [],
            "needs_background": "light"
          }
        }
      ]
    },
    {
      "cell_type": "code",
      "metadata": {
        "id": "4de9848e-2359-4acf-8807-dbe8520b68c5"
      },
      "source": [
        "maxsamples = [i/1000 for i in range(1,1000)]\n",
        "train = []\n",
        "test = []\n",
        "for i in maxsamples:\n",
        "    model = RFC(class_weight = 'balanced_subsample', n_estimators = 50, n_jobs = -1, max_depth = 7, random_state = 101, max_samples = i)\n",
        "    f1, f2 = calc_score(model, X_scaled, y_train, X_val, y_val)\n",
        "    train.append(f1)\n",
        "    test.append(f2)"
      ],
      "id": "4de9848e-2359-4acf-8807-dbe8520b68c5",
      "execution_count": 91,
      "outputs": []
    },
    {
      "cell_type": "code",
      "metadata": {
        "colab": {
          "base_uri": "https://localhost:8080/",
          "height": 488
        },
        "id": "59bd14fa-908f-4f02-891f-32a489eab4d5",
        "outputId": "d36a7444-0ef9-4554-e5b3-68f9923fa363"
      },
      "source": [
        "effect( train, test, maxsamples , 'bootstrap sample fraction')"
      ],
      "id": "59bd14fa-908f-4f02-891f-32a489eab4d5",
      "execution_count": 92,
      "outputs": [
        {
          "output_type": "display_data",
          "data": {
            "image/png": "[encoded data removed]",
            "text/plain": [
              "<Figure size 840x480 with 1 Axes>"
            ]
          },
          "metadata": {
            "tags": [],
            "needs_background": "light"
          }
        }
      ]
    },
    {
      "cell_type": "code",
      "metadata": {
        "id": "2b9b47c3-e44e-4e2d-bfd5-7623c9fc1120"
      },
      "source": [
        "maxfeatures = range(1,X_scaled.shape[1])\n",
        "train = []\n",
        "test = []\n",
        "\n",
        "for i in maxfeatures:\n",
        "    model = RFC(class_weight = 'balanced_subsample', n_estimators = 50,n_jobs = -1, max_depth = 7, random_state = 101, max_features = i,max_samples=0.7)\n",
        "    f1, f2 = calc_score(model,X_scaled,y_train,X_val,y_val)\n",
        "    train.append(f1)\n",
        "    test.append(f2)"
      ],
      "id": "2b9b47c3-e44e-4e2d-bfd5-7623c9fc1120",
      "execution_count": 93,
      "outputs": []
    },
    {
      "cell_type": "code",
      "metadata": {
        "colab": {
          "base_uri": "https://localhost:8080/",
          "height": 488
        },
        "id": "4ac96823-56b7-4b95-a15e-d15e27e15bd4",
        "outputId": "a113f481-2b73-41bd-aa08-cf09cfaf2d86"
      },
      "source": [
        "effect( train, test, maxfeatures , 'number of max features for individual tree')"
      ],
      "id": "4ac96823-56b7-4b95-a15e-d15e27e15bd4",
      "execution_count": 94,
      "outputs": [
        {
          "output_type": "display_data",
          "data": {
            "image/png": "[encoded data removed]",
            "text/plain": [
              "<Figure size 840x480 with 1 Axes>"
            ]
          },
          "metadata": {
            "tags": [],
            "needs_background": "light"
          }
        }
      ]
    },
    {
      "cell_type": "code",
      "metadata": {
        "id": "fecdfad5-0ff0-424e-bf4d-824f4ba3c7c5"
      },
      "source": [
        "maxdepth = [i for i in range(50)]\n",
        "train = []\n",
        "test = []\n",
        "\n",
        "for i in maxfeatures:\n",
        "    model = RFC(class_weight = 'balanced_subsample', n_estimators = 50,n_jobs = -1, max_depth = i, random_state = 101, max_features = 20,max_samples=0.7)\n",
        "    f1, f2 = calc_score(model,X_scaled,y_train,X_val,y_val)\n",
        "    train.append(f1)\n",
        "    test.append(f2)"
      ],
      "id": "fecdfad5-0ff0-424e-bf4d-824f4ba3c7c5",
      "execution_count": 95,
      "outputs": []
    },
    {
      "cell_type": "code",
      "metadata": {
        "colab": {
          "base_uri": "https://localhost:8080/",
          "height": 488
        },
        "id": "0c9fd688-6c53-4e0b-bfec-2a71b0696b21",
        "outputId": "9f498f25-e791-44b2-a932-71622664df42"
      },
      "source": [
        "effect( train, test, range(33) , 'max_depth')"
      ],
      "id": "0c9fd688-6c53-4e0b-bfec-2a71b0696b21",
      "execution_count": 96,
      "outputs": [
        {
          "output_type": "display_data",
          "data": {
            "image/png": "[encoded data removed]",
            "text/plain": [
              "<Figure size 840x480 with 1 Axes>"
            ]
          },
          "metadata": {
            "tags": [],
            "needs_background": "light"
          }
        }
      ]
    },
    {
      "cell_type": "code",
      "metadata": {
        "id": "5676c62b-67eb-4fa3-b9ae-eb80b9ebdb45"
      },
      "source": [
        "minsample = [i for i in range(2,5000,25)]\n",
        "train = []\n",
        "test = []\n",
        "\n",
        "for i in minsample:\n",
        "    model = RFC(class_weight = 'balanced_subsample', n_estimators = 50,n_jobs = -1, max_depth = 5, random_state = 101, max_features = 20,max_samples=0.7,min_samples_split=i)\n",
        "    f1, f2 = calc_score(model,X_scaled,y_train,X_val,y_val)\n",
        "    train.append(f1)\n",
        "    test.append(f2)"
      ],
      "id": "5676c62b-67eb-4fa3-b9ae-eb80b9ebdb45",
      "execution_count": 97,
      "outputs": []
    },
    {
      "cell_type": "code",
      "metadata": {
        "colab": {
          "base_uri": "https://localhost:8080/",
          "height": 488
        },
        "id": "ca29d2ba-66b6-4a1c-a83b-3674223487e3",
        "outputId": "651192e0-c525-4557-8089-a25d78c478cb"
      },
      "source": [
        "effect( train, test, minsample , 'min_samples_split')"
      ],
      "id": "ca29d2ba-66b6-4a1c-a83b-3674223487e3",
      "execution_count": 98,
      "outputs": [
        {
          "output_type": "display_data",
          "data": {
            "image/png": "[encoded data removed]",
            "text/plain": [
              "<Figure size 840x480 with 1 Axes>"
            ]
          },
          "metadata": {
            "tags": [],
            "needs_background": "light"
          }
        }
      ]
    },
    {
      "cell_type": "code",
      "metadata": {
        "id": "8f9bf50e-bc46-42fd-80ee-c28f59b8a23b"
      },
      "source": [
        "maxleafnode = [i for i in range(2,20)]\n",
        "train = []\n",
        "test = []\n",
        "\n",
        "for i in maxleafnode:\n",
        "    model = RFC(class_weight = 'balanced_subsample', n_estimators = 50,n_jobs = -1, max_depth = 5, \n",
        "                random_state = 101, max_features = 20,max_samples=0.7,min_samples_split=900,max_leaf_nodes=i)\n",
        "    f1, f2 = calc_score(model,X_scaled,y_train,X_val,y_val)\n",
        "    train.append(f1)\n",
        "    test.append(f2)"
      ],
      "id": "8f9bf50e-bc46-42fd-80ee-c28f59b8a23b",
      "execution_count": 99,
      "outputs": []
    },
    {
      "cell_type": "code",
      "metadata": {
        "colab": {
          "base_uri": "https://localhost:8080/"
        },
        "id": "13b8c9ed-c416-4c2b-8b64-775fc5d5ff4f",
        "outputId": "daa33fc4-698e-42c2-a112-c3b43bb32618"
      },
      "source": [
        "len(train),len(test)"
      ],
      "id": "13b8c9ed-c416-4c2b-8b64-775fc5d5ff4f",
      "execution_count": 100,
      "outputs": [
        {
          "output_type": "execute_result",
          "data": {
            "text/plain": [
              "(18, 18)"
            ]
          },
          "metadata": {
            "tags": []
          },
          "execution_count": 100
        }
      ]
    },
    {
      "cell_type": "code",
      "metadata": {
        "colab": {
          "base_uri": "https://localhost:8080/",
          "height": 488
        },
        "id": "6e0e1805-1653-4a82-b834-a92e629eb660",
        "outputId": "c4d2eb96-548d-4c74-ffe3-72a3024b46ec"
      },
      "source": [
        "effect( train, test, range(18), 'max_leaf_nodes')"
      ],
      "id": "6e0e1805-1653-4a82-b834-a92e629eb660",
      "execution_count": 101,
      "outputs": [
        {
          "output_type": "display_data",
          "data": {
            "image/png": "[encoded data removed]",
            "text/plain": [
              "<Figure size 840x480 with 1 Axes>"
            ]
          },
          "metadata": {
            "tags": [],
            "needs_background": "light"
          }
        }
      ]
    },
    {
      "cell_type": "markdown",
      "metadata": {
        "id": "20f7240d-2ba6-44f7-bdaf-600686ff6102"
      },
      "source": [
        "#### Random Forest model with optimized parameters"
      ],
      "id": "20f7240d-2ba6-44f7-bdaf-600686ff6102"
    },
    {
      "cell_type": "code",
      "metadata": {
        "colab": {
          "base_uri": "https://localhost:8080/"
        },
        "id": "f4df6dda-a0b4-4163-8e2f-5ad8c8f4393c",
        "outputId": "fe0bd15c-c539-4660-c052-a22a5afd7808"
      },
      "source": [
        "rf_clf = RFC(class_weight = 'balanced_subsample', n_estimators = 50,n_jobs = -1, max_depth = 5, random_state = 101, max_features = 20,\n",
        "             max_samples=0.7,min_samples_split=900,max_leaf_nodes=5)\n",
        "rf_clf.fit(X_scaled,y_train)"
      ],
      "id": "f4df6dda-a0b4-4163-8e2f-5ad8c8f4393c",
      "execution_count": 239,
      "outputs": [
        {
          "output_type": "execute_result",
          "data": {
            "text/plain": [
              "RandomForestClassifier(bootstrap=True, ccp_alpha=0.0,\n",
              "                       class_weight='balanced_subsample', criterion='gini',\n",
              "                       max_depth=5, max_features=20, max_leaf_nodes=5,\n",
              "                       max_samples=0.7, min_impurity_decrease=0.0,\n",
              "                       min_impurity_split=None, min_samples_leaf=1,\n",
              "                       min_samples_split=900, min_weight_fraction_leaf=0.0,\n",
              "                       n_estimators=50, n_jobs=-1, oob_score=False,\n",
              "                       random_state=101, verbose=0, warm_start=False)"
            ]
          },
          "metadata": {
            "tags": []
          },
          "execution_count": 239
        }
      ]
    },
    {
      "cell_type": "code",
      "metadata": {
        "colab": {
          "base_uri": "https://localhost:8080/"
        },
        "id": "12384b48-2412-4c8e-9a5c-158e883b811c",
        "outputId": "c7e1e734-10e1-44bb-c8a9-48ae780e44d2"
      },
      "source": [
        "rfclf_y_pred = rf_clf.predict(X_scaled)\n",
        "print(classification_report(y_train,rfclf_y_pred))"
      ],
      "id": "12384b48-2412-4c8e-9a5c-158e883b811c",
      "execution_count": 103,
      "outputs": [
        {
          "output_type": "stream",
          "text": [
            "              precision    recall  f1-score   support\n",
            "\n",
            "           0       0.73      0.54      0.62      5005\n",
            "           1       0.41      0.62      0.49      2616\n",
            "\n",
            "    accuracy                           0.56      7621\n",
            "   macro avg       0.57      0.58      0.56      7621\n",
            "weighted avg       0.62      0.56      0.58      7621\n",
            "\n"
          ],
          "name": "stdout"
        }
      ]
    },
    {
      "cell_type": "code",
      "metadata": {
        "colab": {
          "base_uri": "https://localhost:8080/"
        },
        "id": "749f31e5-d5b9-4693-9d89-23fafd6f5be4",
        "outputId": "4cd1fa60-4ed4-4f66-906a-2b658f400507"
      },
      "source": [
        "rfclf_y_pred_val=rf_clf.predict(X_val)\n",
        "print(classification_report(y_val,rfclf_y_pred_val))"
      ],
      "id": "749f31e5-d5b9-4693-9d89-23fafd6f5be4",
      "execution_count": 104,
      "outputs": [
        {
          "output_type": "stream",
          "text": [
            "              precision    recall  f1-score   support\n",
            "\n",
            "           0       0.72      0.55      0.62      1255\n",
            "           1       0.40      0.59      0.48       651\n",
            "\n",
            "    accuracy                           0.56      1906\n",
            "   macro avg       0.56      0.57      0.55      1906\n",
            "weighted avg       0.61      0.56      0.57      1906\n",
            "\n"
          ],
          "name": "stdout"
        }
      ]
    },
    {
      "cell_type": "code",
      "metadata": {
        "id": "8UFM7qu_AFhH"
      },
      "source": [
        "rf_clf_cls1=rf_clf.predict_proba(X_scaled)[:,1].tolist()"
      ],
      "id": "8UFM7qu_AFhH",
      "execution_count": 159,
      "outputs": []
    },
    {
      "cell_type": "markdown",
      "metadata": {
        "id": "LDghCQibHAAI"
      },
      "source": [
        "calculate the probability of prediction of class 1 by random forest classifier"
      ],
      "id": "LDghCQibHAAI"
    },
    {
      "cell_type": "code",
      "metadata": {
        "id": "VyYDRX3XG_kC"
      },
      "source": [
        ""
      ],
      "id": "VyYDRX3XG_kC",
      "execution_count": null,
      "outputs": []
    },
    {
      "cell_type": "code",
      "metadata": {
        "colab": {
          "base_uri": "https://localhost:8080/",
          "height": 487
        },
        "id": "A5gBKtbfAFdA",
        "outputId": "d1cce565-f1d1-404f-898c-a57fbedb6da7"
      },
      "source": [
        "def prob_cal(feature_array):\n",
        "  plt.figure(figsize=(7,4),dpi=120)  \n",
        "  rf_clf_cls1=rf_clf.predict_proba(feature_array)[:,1].tolist()\n",
        "  rf_clf_cls0=rf_clf.predict_proba(feature_array)[:,0].tolist()\n",
        "  prob_list=[0.3,0.4,0.45,0.47,0.48,0.49,0.5,0.6]\n",
        "  #pred_dict={}\n",
        "  cls0=[]\n",
        "  cls1=[]\n",
        "\n",
        "  for num in prob_list:\n",
        "    num_list_0= list(map(lambda x:1 if x>num else 0,rf_clf_cls0))\n",
        "    num_list_1= list(map(lambda x:1 if x>num else 0,rf_clf_cls1))\n",
        "    f1_0=f1_score(y_train,num_list_0)\n",
        "    f1_1=f1_score(y_train,num_list_1)\n",
        "    cls0.append(f1_0)\n",
        "    cls1.append(f1_1)\n",
        "    f1_1=f1_score(y_train,num_list_1)\n",
        "    #print(f'probability {num} f1_score class1 {f1_score(y_train,num_list_1):.2f}')\n",
        "  plt.plot(prob_list,cls0,color='red',label='class 0')\n",
        "  plt.plot(prob_list,cls1,color='blue',label='class1')\n",
        "  plt.xlabel('probability')\n",
        "  plt.ylabel('f1_score')\n",
        "  plt.legend()\n",
        "  plt.title('probability vs prediction')\n",
        "\n",
        "prob_cal(X_scaled)\n",
        "#pd.DataFrame(pred_dict)  "
      ],
      "id": "A5gBKtbfAFdA",
      "execution_count": 237,
      "outputs": [
        {
          "output_type": "display_data",
          "data": {
            "image/png": "[encoded data removed]",
            "text/plain": [
              "<Figure size 840x480 with 1 Axes>"
            ]
          },
          "metadata": {
            "tags": [],
            "needs_background": "light"
          }
        }
      ]
    },
    {
      "cell_type": "markdown",
      "metadata": {
        "id": "80ecf3fd-ae93-4ff4-8202-dcf1c5287dcf"
      },
      "source": [
        "### Random Forest model with unscaled training data"
      ],
      "id": "80ecf3fd-ae93-4ff4-8202-dcf1c5287dcf"
    },
    {
      "cell_type": "code",
      "metadata": {
        "colab": {
          "base_uri": "https://localhost:8080/"
        },
        "id": "ab7a3921-b5b5-4fbb-a264-73dc4f6b8229",
        "outputId": "6d4a2621-f83a-426d-cf16-5679729eb9cc"
      },
      "source": [
        "rf_clf = RFC(class_weight = 'balanced_subsample', n_estimators = 50,n_jobs = -1, max_depth = 5, random_state = 101, max_features = 20,\n",
        "             max_samples=0.7,min_samples_split=900,max_leaf_nodes=5)\n",
        "rf_clf.fit(X_train_uns,y_train_uns)"
      ],
      "id": "ab7a3921-b5b5-4fbb-a264-73dc4f6b8229",
      "execution_count": 222,
      "outputs": [
        {
          "output_type": "execute_result",
          "data": {
            "text/plain": [
              "RandomForestClassifier(bootstrap=True, ccp_alpha=0.0,\n",
              "                       class_weight='balanced_subsample', criterion='gini',\n",
              "                       max_depth=5, max_features=20, max_leaf_nodes=5,\n",
              "                       max_samples=0.7, min_impurity_decrease=0.0,\n",
              "                       min_impurity_split=None, min_samples_leaf=1,\n",
              "                       min_samples_split=900, min_weight_fraction_leaf=0.0,\n",
              "                       n_estimators=50, n_jobs=-1, oob_score=False,\n",
              "                       random_state=101, verbose=0, warm_start=False)"
            ]
          },
          "metadata": {
            "tags": []
          },
          "execution_count": 222
        }
      ]
    },
    {
      "cell_type": "code",
      "metadata": {
        "colab": {
          "base_uri": "https://localhost:8080/"
        },
        "id": "e3788cee-86a9-422d-b018-cb1f98809a2a",
        "outputId": "6772726c-24ba-44fe-94da-9fe5ee000acd"
      },
      "source": [
        "rfclf_y_pred_uns = rf_clf.predict(X_train_uns)\n",
        "print(classification_report(y_train_uns,rfclf_y_pred_uns))"
      ],
      "id": "e3788cee-86a9-422d-b018-cb1f98809a2a",
      "execution_count": 106,
      "outputs": [
        {
          "output_type": "stream",
          "text": [
            "              precision    recall  f1-score   support\n",
            "\n",
            "           0       0.73      0.54      0.62      5005\n",
            "           1       0.41      0.62      0.49      2616\n",
            "\n",
            "    accuracy                           0.56      7621\n",
            "   macro avg       0.57      0.58      0.56      7621\n",
            "weighted avg       0.62      0.56      0.58      7621\n",
            "\n"
          ],
          "name": "stdout"
        }
      ]
    },
    {
      "cell_type": "code",
      "metadata": {
        "colab": {
          "base_uri": "https://localhost:8080/"
        },
        "id": "d19e6695-2d5f-42c4-aa57-e666cd6581af",
        "outputId": "315f9031-c67d-4ff1-bbe5-b78bf995d82c"
      },
      "source": [
        "rfclf_y_pred_val_uns=rf_clf.predict(X_val_uns)\n",
        "print(classification_report(y_val_uns,rfclf_y_pred_val_uns))"
      ],
      "id": "d19e6695-2d5f-42c4-aa57-e666cd6581af",
      "execution_count": 107,
      "outputs": [
        {
          "output_type": "stream",
          "text": [
            "              precision    recall  f1-score   support\n",
            "\n",
            "           0       0.72      0.55      0.62      1255\n",
            "           1       0.40      0.59      0.48       651\n",
            "\n",
            "    accuracy                           0.56      1906\n",
            "   macro avg       0.56      0.57      0.55      1906\n",
            "weighted avg       0.61      0.56      0.57      1906\n",
            "\n"
          ],
          "name": "stdout"
        }
      ]
    },
    {
      "cell_type": "markdown",
      "metadata": {
        "id": "72987337-26ae-45b0-8b66-f7d6c6599373"
      },
      "source": [
        "#### Random Forest with entropy"
      ],
      "id": "72987337-26ae-45b0-8b66-f7d6c6599373"
    },
    {
      "cell_type": "code",
      "metadata": {
        "colab": {
          "base_uri": "https://localhost:8080/"
        },
        "id": "1be84aa7-6794-4a64-a4a5-53459e1251be",
        "outputId": "83587e74-e642-4b61-fbd0-db32e3673b42"
      },
      "source": [
        "rf_clf_ent = RFC(class_weight = 'balanced_subsample', n_estimators = 50,n_jobs = -1, max_depth = 5, random_state = 101, max_features = 20,\n",
        "             max_samples=0.7,min_samples_split=900,max_leaf_nodes=5,criterion='entropy')\n",
        "rf_clf_ent.fit(X_train_uns,y_train_uns)"
      ],
      "id": "1be84aa7-6794-4a64-a4a5-53459e1251be",
      "execution_count": 108,
      "outputs": [
        {
          "output_type": "execute_result",
          "data": {
            "text/plain": [
              "RandomForestClassifier(bootstrap=True, ccp_alpha=0.0,\n",
              "                       class_weight='balanced_subsample', criterion='entropy',\n",
              "                       max_depth=5, max_features=20, max_leaf_nodes=5,\n",
              "                       max_samples=0.7, min_impurity_decrease=0.0,\n",
              "                       min_impurity_split=None, min_samples_leaf=1,\n",
              "                       min_samples_split=900, min_weight_fraction_leaf=0.0,\n",
              "                       n_estimators=50, n_jobs=-1, oob_score=False,\n",
              "                       random_state=101, verbose=0, warm_start=False)"
            ]
          },
          "metadata": {
            "tags": []
          },
          "execution_count": 108
        }
      ]
    },
    {
      "cell_type": "code",
      "metadata": {
        "colab": {
          "base_uri": "https://localhost:8080/"
        },
        "id": "b0292780-cd7a-4b54-9f02-c0b930366f05",
        "outputId": "f2584a44-2215-426c-8fc9-eb1cf2135077"
      },
      "source": [
        "rfclf_y_pred_uns = rf_clf_ent.predict(X_train_uns)\n",
        "print(classification_report(y_train_uns,rfclf_y_pred_uns))"
      ],
      "id": "b0292780-cd7a-4b54-9f02-c0b930366f05",
      "execution_count": 109,
      "outputs": [
        {
          "output_type": "stream",
          "text": [
            "              precision    recall  f1-score   support\n",
            "\n",
            "           0       0.73      0.51      0.60      5005\n",
            "           1       0.41      0.65      0.50      2616\n",
            "\n",
            "    accuracy                           0.55      7621\n",
            "   macro avg       0.57      0.58      0.55      7621\n",
            "weighted avg       0.62      0.55      0.56      7621\n",
            "\n"
          ],
          "name": "stdout"
        }
      ]
    },
    {
      "cell_type": "code",
      "metadata": {
        "colab": {
          "base_uri": "https://localhost:8080/"
        },
        "id": "be32e68e-313a-4514-9e49-83aa002deaa3",
        "outputId": "76fd3e5a-8edd-4ffc-e1ce-001fc1d7d7fc"
      },
      "source": [
        "rfclf_y_pred_val_uns=rf_clf_ent.predict(X_val_uns)\n",
        "print(classification_report(y_val_uns,rfclf_y_pred_val_uns))"
      ],
      "id": "be32e68e-313a-4514-9e49-83aa002deaa3",
      "execution_count": 110,
      "outputs": [
        {
          "output_type": "stream",
          "text": [
            "              precision    recall  f1-score   support\n",
            "\n",
            "           0       0.72      0.50      0.59      1255\n",
            "           1       0.40      0.63      0.49       651\n",
            "\n",
            "    accuracy                           0.55      1906\n",
            "   macro avg       0.56      0.57      0.54      1906\n",
            "weighted avg       0.61      0.55      0.56      1906\n",
            "\n"
          ],
          "name": "stdout"
        }
      ]
    },
    {
      "cell_type": "markdown",
      "metadata": {
        "id": "KYHo6WJvE3Ow"
      },
      "source": [
        "Implementation of Kfold cross validation for the Random Forest tree"
      ],
      "id": "KYHo6WJvE3Ow"
    },
    {
      "cell_type": "code",
      "metadata": {
        "colab": {
          "base_uri": "https://localhost:8080/",
          "height": 179
        },
        "id": "f2BUa_-WMb8Y",
        "outputId": "ccc85661-dd0a-4fbd-abc3-315b9265ac2d"
      },
      "source": [
        "X_train_uns.head(n=2)"
      ],
      "id": "f2BUa_-WMb8Y",
      "execution_count": 111,
      "outputs": [
        {
          "output_type": "execute_result",
          "data": {
            "text/html": [
              "<div>\n",
              "<style scoped>\n",
              "    .dataframe tbody tr th:only-of-type {\n",
              "        vertical-align: middle;\n",
              "    }\n",
              "\n",
              "    .dataframe tbody tr th {\n",
              "        vertical-align: top;\n",
              "    }\n",
              "\n",
              "    .dataframe thead th {\n",
              "        text-align: right;\n",
              "    }\n",
              "</style>\n",
              "<table border=\"1\" class=\"dataframe\">\n",
              "  <thead>\n",
              "    <tr style=\"text-align: right;\">\n",
              "      <th></th>\n",
              "      <th>Office_PIN</th>\n",
              "      <th>Applicant_City_PIN</th>\n",
              "      <th>Applicant_Qualification</th>\n",
              "      <th>Manager_Joining_Designation</th>\n",
              "      <th>Manager_Current_Designation</th>\n",
              "      <th>Manager_Grade</th>\n",
              "      <th>Manager_Num_Application</th>\n",
              "      <th>Manager_Num_Coded</th>\n",
              "      <th>Manager_Business</th>\n",
              "      <th>Manager_Num_Products</th>\n",
              "      <th>Manager_Business2</th>\n",
              "      <th>Manager_Num_Products2</th>\n",
              "      <th>Application_Receipt_Date_year</th>\n",
              "      <th>Application_Receipt_Date_month</th>\n",
              "      <th>Application_Receipt_Date_day</th>\n",
              "      <th>Applicant_BirthDate_year</th>\n",
              "      <th>Applicant_BirthDate_month</th>\n",
              "      <th>Applicant_BirthDate_day</th>\n",
              "      <th>Manager_DOJ_year</th>\n",
              "      <th>Manager_DOJ_month</th>\n",
              "      <th>Manager_DOJ_day</th>\n",
              "      <th>Manager_DoB_year</th>\n",
              "      <th>Manager_DoB_month</th>\n",
              "      <th>Manager_DoB_day</th>\n",
              "      <th>Applicant_Gender_M</th>\n",
              "      <th>Applicant_Marital_Status_M</th>\n",
              "      <th>Applicant_Marital_Status_S</th>\n",
              "      <th>Applicant_Marital_Status_W</th>\n",
              "      <th>Applicant_Occupation_Others</th>\n",
              "      <th>Applicant_Occupation_Salaried</th>\n",
              "      <th>Applicant_Occupation_Self Employed</th>\n",
              "      <th>Applicant_Occupation_Student</th>\n",
              "      <th>Manager_Status_Probation</th>\n",
              "      <th>Manager_Gender_M</th>\n",
              "    </tr>\n",
              "    <tr>\n",
              "      <th>ID</th>\n",
              "      <th></th>\n",
              "      <th></th>\n",
              "      <th></th>\n",
              "      <th></th>\n",
              "      <th></th>\n",
              "      <th></th>\n",
              "      <th></th>\n",
              "      <th></th>\n",
              "      <th></th>\n",
              "      <th></th>\n",
              "      <th></th>\n",
              "      <th></th>\n",
              "      <th></th>\n",
              "      <th></th>\n",
              "      <th></th>\n",
              "      <th></th>\n",
              "      <th></th>\n",
              "      <th></th>\n",
              "      <th></th>\n",
              "      <th></th>\n",
              "      <th></th>\n",
              "      <th></th>\n",
              "      <th></th>\n",
              "      <th></th>\n",
              "      <th></th>\n",
              "      <th></th>\n",
              "      <th></th>\n",
              "      <th></th>\n",
              "      <th></th>\n",
              "      <th></th>\n",
              "      <th></th>\n",
              "      <th></th>\n",
              "      <th></th>\n",
              "      <th></th>\n",
              "    </tr>\n",
              "  </thead>\n",
              "  <tbody>\n",
              "    <tr>\n",
              "      <th>FIN1005696</th>\n",
              "      <td>380015</td>\n",
              "      <td>380050</td>\n",
              "      <td>1</td>\n",
              "      <td>2</td>\n",
              "      <td>2</td>\n",
              "      <td>4.0</td>\n",
              "      <td>3.0</td>\n",
              "      <td>0.0</td>\n",
              "      <td>0.0</td>\n",
              "      <td>0.0</td>\n",
              "      <td>0.0</td>\n",
              "      <td>0.0</td>\n",
              "      <td>2007</td>\n",
              "      <td>12</td>\n",
              "      <td>4</td>\n",
              "      <td>1985.0</td>\n",
              "      <td>7.0</td>\n",
              "      <td>18.0</td>\n",
              "      <td>2007.0</td>\n",
              "      <td>11.0</td>\n",
              "      <td>3.0</td>\n",
              "      <td>1975.0</td>\n",
              "      <td>4.0</td>\n",
              "      <td>30.0</td>\n",
              "      <td>1</td>\n",
              "      <td>0</td>\n",
              "      <td>1</td>\n",
              "      <td>0</td>\n",
              "      <td>0</td>\n",
              "      <td>1</td>\n",
              "      <td>0</td>\n",
              "      <td>0</td>\n",
              "      <td>1</td>\n",
              "      <td>1</td>\n",
              "    </tr>\n",
              "    <tr>\n",
              "      <th>FIN1007301</th>\n",
              "      <td>284001</td>\n",
              "      <td>284204</td>\n",
              "      <td>2</td>\n",
              "      <td>0</td>\n",
              "      <td>0</td>\n",
              "      <td>2.0</td>\n",
              "      <td>2.0</td>\n",
              "      <td>0.0</td>\n",
              "      <td>0.0</td>\n",
              "      <td>0.0</td>\n",
              "      <td>0.0</td>\n",
              "      <td>0.0</td>\n",
              "      <td>2008</td>\n",
              "      <td>2</td>\n",
              "      <td>23</td>\n",
              "      <td>1987.0</td>\n",
              "      <td>2.0</td>\n",
              "      <td>28.0</td>\n",
              "      <td>2008.0</td>\n",
              "      <td>1.0</td>\n",
              "      <td>7.0</td>\n",
              "      <td>1985.0</td>\n",
              "      <td>1.0</td>\n",
              "      <td>20.0</td>\n",
              "      <td>0</td>\n",
              "      <td>0</td>\n",
              "      <td>1</td>\n",
              "      <td>0</td>\n",
              "      <td>0</td>\n",
              "      <td>0</td>\n",
              "      <td>0</td>\n",
              "      <td>0</td>\n",
              "      <td>1</td>\n",
              "      <td>0</td>\n",
              "    </tr>\n",
              "  </tbody>\n",
              "</table>\n",
              "</div>"
            ],
            "text/plain": [
              "            Office_PIN  Applicant_City_PIN  Applicant_Qualification  \\\n",
              "ID                                                                    \n",
              "FIN1005696      380015              380050                        1   \n",
              "FIN1007301      284001              284204                        2   \n",
              "\n",
              "            Manager_Joining_Designation  Manager_Current_Designation  \\\n",
              "ID                                                                     \n",
              "FIN1005696                            2                            2   \n",
              "FIN1007301                            0                            0   \n",
              "\n",
              "            Manager_Grade  Manager_Num_Application  Manager_Num_Coded  \\\n",
              "ID                                                                      \n",
              "FIN1005696            4.0                      3.0                0.0   \n",
              "FIN1007301            2.0                      2.0                0.0   \n",
              "\n",
              "            Manager_Business  Manager_Num_Products  Manager_Business2  \\\n",
              "ID                                                                      \n",
              "FIN1005696               0.0                   0.0                0.0   \n",
              "FIN1007301               0.0                   0.0                0.0   \n",
              "\n",
              "            Manager_Num_Products2  Application_Receipt_Date_year  \\\n",
              "ID                                                                 \n",
              "FIN1005696                    0.0                           2007   \n",
              "FIN1007301                    0.0                           2008   \n",
              "\n",
              "            Application_Receipt_Date_month  Application_Receipt_Date_day  \\\n",
              "ID                                                                         \n",
              "FIN1005696                              12                             4   \n",
              "FIN1007301                               2                            23   \n",
              "\n",
              "            Applicant_BirthDate_year  Applicant_BirthDate_month  \\\n",
              "ID                                                                \n",
              "FIN1005696                    1985.0                        7.0   \n",
              "FIN1007301                    1987.0                        2.0   \n",
              "\n",
              "            Applicant_BirthDate_day  Manager_DOJ_year  Manager_DOJ_month  \\\n",
              "ID                                                                         \n",
              "FIN1005696                     18.0            2007.0               11.0   \n",
              "FIN1007301                     28.0            2008.0                1.0   \n",
              "\n",
              "            Manager_DOJ_day  Manager_DoB_year  Manager_DoB_month  \\\n",
              "ID                                                                 \n",
              "FIN1005696              3.0            1975.0                4.0   \n",
              "FIN1007301              7.0            1985.0                1.0   \n",
              "\n",
              "            Manager_DoB_day  Applicant_Gender_M  Applicant_Marital_Status_M  \\\n",
              "ID                                                                            \n",
              "FIN1005696             30.0                   1                           0   \n",
              "FIN1007301             20.0                   0                           0   \n",
              "\n",
              "            Applicant_Marital_Status_S  Applicant_Marital_Status_W  \\\n",
              "ID                                                                   \n",
              "FIN1005696                           1                           0   \n",
              "FIN1007301                           1                           0   \n",
              "\n",
              "            Applicant_Occupation_Others  Applicant_Occupation_Salaried  \\\n",
              "ID                                                                       \n",
              "FIN1005696                            0                              1   \n",
              "FIN1007301                            0                              0   \n",
              "\n",
              "            Applicant_Occupation_Self Employed  Applicant_Occupation_Student  \\\n",
              "ID                                                                             \n",
              "FIN1005696                                   0                             0   \n",
              "FIN1007301                                   0                             0   \n",
              "\n",
              "            Manager_Status_Probation  Manager_Gender_M  \n",
              "ID                                                      \n",
              "FIN1005696                         1                 1  \n",
              "FIN1007301                         1                 0  "
            ]
          },
          "metadata": {
            "tags": []
          },
          "execution_count": 111
        }
      ]
    },
    {
      "cell_type": "code",
      "metadata": {
        "colab": {
          "base_uri": "https://localhost:8080/",
          "height": 148
        },
        "id": "6f380fad-68ce-4034-99a3-f7a8a186abd2",
        "outputId": "0291525d-5a6f-4011-94bf-14d0a8be9b61"
      },
      "source": [
        "cv_train=X_train_uns.reset_index(drop=True)\n",
        "cv_train.head(n=2)"
      ],
      "id": "6f380fad-68ce-4034-99a3-f7a8a186abd2",
      "execution_count": 112,
      "outputs": [
        {
          "output_type": "execute_result",
          "data": {
            "text/html": [
              "<div>\n",
              "<style scoped>\n",
              "    .dataframe tbody tr th:only-of-type {\n",
              "        vertical-align: middle;\n",
              "    }\n",
              "\n",
              "    .dataframe tbody tr th {\n",
              "        vertical-align: top;\n",
              "    }\n",
              "\n",
              "    .dataframe thead th {\n",
              "        text-align: right;\n",
              "    }\n",
              "</style>\n",
              "<table border=\"1\" class=\"dataframe\">\n",
              "  <thead>\n",
              "    <tr style=\"text-align: right;\">\n",
              "      <th></th>\n",
              "      <th>Office_PIN</th>\n",
              "      <th>Applicant_City_PIN</th>\n",
              "      <th>Applicant_Qualification</th>\n",
              "      <th>Manager_Joining_Designation</th>\n",
              "      <th>Manager_Current_Designation</th>\n",
              "      <th>Manager_Grade</th>\n",
              "      <th>Manager_Num_Application</th>\n",
              "      <th>Manager_Num_Coded</th>\n",
              "      <th>Manager_Business</th>\n",
              "      <th>Manager_Num_Products</th>\n",
              "      <th>Manager_Business2</th>\n",
              "      <th>Manager_Num_Products2</th>\n",
              "      <th>Application_Receipt_Date_year</th>\n",
              "      <th>Application_Receipt_Date_month</th>\n",
              "      <th>Application_Receipt_Date_day</th>\n",
              "      <th>Applicant_BirthDate_year</th>\n",
              "      <th>Applicant_BirthDate_month</th>\n",
              "      <th>Applicant_BirthDate_day</th>\n",
              "      <th>Manager_DOJ_year</th>\n",
              "      <th>Manager_DOJ_month</th>\n",
              "      <th>Manager_DOJ_day</th>\n",
              "      <th>Manager_DoB_year</th>\n",
              "      <th>Manager_DoB_month</th>\n",
              "      <th>Manager_DoB_day</th>\n",
              "      <th>Applicant_Gender_M</th>\n",
              "      <th>Applicant_Marital_Status_M</th>\n",
              "      <th>Applicant_Marital_Status_S</th>\n",
              "      <th>Applicant_Marital_Status_W</th>\n",
              "      <th>Applicant_Occupation_Others</th>\n",
              "      <th>Applicant_Occupation_Salaried</th>\n",
              "      <th>Applicant_Occupation_Self Employed</th>\n",
              "      <th>Applicant_Occupation_Student</th>\n",
              "      <th>Manager_Status_Probation</th>\n",
              "      <th>Manager_Gender_M</th>\n",
              "    </tr>\n",
              "  </thead>\n",
              "  <tbody>\n",
              "    <tr>\n",
              "      <th>0</th>\n",
              "      <td>380015</td>\n",
              "      <td>380050</td>\n",
              "      <td>1</td>\n",
              "      <td>2</td>\n",
              "      <td>2</td>\n",
              "      <td>4.0</td>\n",
              "      <td>3.0</td>\n",
              "      <td>0.0</td>\n",
              "      <td>0.0</td>\n",
              "      <td>0.0</td>\n",
              "      <td>0.0</td>\n",
              "      <td>0.0</td>\n",
              "      <td>2007</td>\n",
              "      <td>12</td>\n",
              "      <td>4</td>\n",
              "      <td>1985.0</td>\n",
              "      <td>7.0</td>\n",
              "      <td>18.0</td>\n",
              "      <td>2007.0</td>\n",
              "      <td>11.0</td>\n",
              "      <td>3.0</td>\n",
              "      <td>1975.0</td>\n",
              "      <td>4.0</td>\n",
              "      <td>30.0</td>\n",
              "      <td>1</td>\n",
              "      <td>0</td>\n",
              "      <td>1</td>\n",
              "      <td>0</td>\n",
              "      <td>0</td>\n",
              "      <td>1</td>\n",
              "      <td>0</td>\n",
              "      <td>0</td>\n",
              "      <td>1</td>\n",
              "      <td>1</td>\n",
              "    </tr>\n",
              "    <tr>\n",
              "      <th>1</th>\n",
              "      <td>284001</td>\n",
              "      <td>284204</td>\n",
              "      <td>2</td>\n",
              "      <td>0</td>\n",
              "      <td>0</td>\n",
              "      <td>2.0</td>\n",
              "      <td>2.0</td>\n",
              "      <td>0.0</td>\n",
              "      <td>0.0</td>\n",
              "      <td>0.0</td>\n",
              "      <td>0.0</td>\n",
              "      <td>0.0</td>\n",
              "      <td>2008</td>\n",
              "      <td>2</td>\n",
              "      <td>23</td>\n",
              "      <td>1987.0</td>\n",
              "      <td>2.0</td>\n",
              "      <td>28.0</td>\n",
              "      <td>2008.0</td>\n",
              "      <td>1.0</td>\n",
              "      <td>7.0</td>\n",
              "      <td>1985.0</td>\n",
              "      <td>1.0</td>\n",
              "      <td>20.0</td>\n",
              "      <td>0</td>\n",
              "      <td>0</td>\n",
              "      <td>1</td>\n",
              "      <td>0</td>\n",
              "      <td>0</td>\n",
              "      <td>0</td>\n",
              "      <td>0</td>\n",
              "      <td>0</td>\n",
              "      <td>1</td>\n",
              "      <td>0</td>\n",
              "    </tr>\n",
              "  </tbody>\n",
              "</table>\n",
              "</div>"
            ],
            "text/plain": [
              "   Office_PIN  Applicant_City_PIN  Applicant_Qualification  \\\n",
              "0      380015              380050                        1   \n",
              "1      284001              284204                        2   \n",
              "\n",
              "   Manager_Joining_Designation  Manager_Current_Designation  Manager_Grade  \\\n",
              "0                            2                            2            4.0   \n",
              "1                            0                            0            2.0   \n",
              "\n",
              "   Manager_Num_Application  Manager_Num_Coded  Manager_Business  \\\n",
              "0                      3.0                0.0               0.0   \n",
              "1                      2.0                0.0               0.0   \n",
              "\n",
              "   Manager_Num_Products  Manager_Business2  Manager_Num_Products2  \\\n",
              "0                   0.0                0.0                    0.0   \n",
              "1                   0.0                0.0                    0.0   \n",
              "\n",
              "   Application_Receipt_Date_year  Application_Receipt_Date_month  \\\n",
              "0                           2007                              12   \n",
              "1                           2008                               2   \n",
              "\n",
              "   Application_Receipt_Date_day  Applicant_BirthDate_year  \\\n",
              "0                             4                    1985.0   \n",
              "1                            23                    1987.0   \n",
              "\n",
              "   Applicant_BirthDate_month  Applicant_BirthDate_day  Manager_DOJ_year  \\\n",
              "0                        7.0                     18.0            2007.0   \n",
              "1                        2.0                     28.0            2008.0   \n",
              "\n",
              "   Manager_DOJ_month  Manager_DOJ_day  Manager_DoB_year  Manager_DoB_month  \\\n",
              "0               11.0              3.0            1975.0                4.0   \n",
              "1                1.0              7.0            1985.0                1.0   \n",
              "\n",
              "   Manager_DoB_day  Applicant_Gender_M  Applicant_Marital_Status_M  \\\n",
              "0             30.0                   1                           0   \n",
              "1             20.0                   0                           0   \n",
              "\n",
              "   Applicant_Marital_Status_S  Applicant_Marital_Status_W  \\\n",
              "0                           1                           0   \n",
              "1                           1                           0   \n",
              "\n",
              "   Applicant_Occupation_Others  Applicant_Occupation_Salaried  \\\n",
              "0                            0                              1   \n",
              "1                            0                              0   \n",
              "\n",
              "   Applicant_Occupation_Self Employed  Applicant_Occupation_Student  \\\n",
              "0                                   0                             0   \n",
              "1                                   0                             0   \n",
              "\n",
              "   Manager_Status_Probation  Manager_Gender_M  \n",
              "0                         1                 1  \n",
              "1                         1                 0  "
            ]
          },
          "metadata": {
            "tags": []
          },
          "execution_count": 112
        }
      ]
    },
    {
      "cell_type": "code",
      "metadata": {
        "colab": {
          "base_uri": "https://localhost:8080/"
        },
        "id": "3CeUHAdCNJEE",
        "outputId": "61440a04-5bd7-4473-f415-12e8d142b13a"
      },
      "source": [
        "y_train_uns.head(n=2)"
      ],
      "id": "3CeUHAdCNJEE",
      "execution_count": 113,
      "outputs": [
        {
          "output_type": "execute_result",
          "data": {
            "text/plain": [
              "ID\n",
              "FIN1005696    0\n",
              "FIN1007301    0\n",
              "Name: Business_Sourced, dtype: int64"
            ]
          },
          "metadata": {
            "tags": []
          },
          "execution_count": 113
        }
      ]
    },
    {
      "cell_type": "code",
      "metadata": {
        "colab": {
          "base_uri": "https://localhost:8080/"
        },
        "id": "lmoiaSTmNPrE",
        "outputId": "05afcd07-d236-48c0-a804-7c320f061f8b"
      },
      "source": [
        "cv_y=y_train_uns.reset_index(drop=True)\n",
        "cv_y.head(n=2)"
      ],
      "id": "lmoiaSTmNPrE",
      "execution_count": 114,
      "outputs": [
        {
          "output_type": "execute_result",
          "data": {
            "text/plain": [
              "0    0\n",
              "1    0\n",
              "Name: Business_Sourced, dtype: int64"
            ]
          },
          "metadata": {
            "tags": []
          },
          "execution_count": 114
        }
      ]
    },
    {
      "cell_type": "code",
      "metadata": {
        "id": "wFopaQ6KSiMW"
      },
      "source": [
        "rf_clf = RFC(class_weight = 'balanced_subsample', n_estimators = 50,n_jobs = -1, max_depth = 5, random_state = 101, max_features = 20,\n",
        "             max_samples=0.7,min_samples_split=900,max_leaf_nodes=5)"
      ],
      "id": "wFopaQ6KSiMW",
      "execution_count": 115,
      "outputs": []
    },
    {
      "cell_type": "code",
      "metadata": {
        "colab": {
          "base_uri": "https://localhost:8080/"
        },
        "id": "ddffebe3-8e70-43a4-900e-aee0156d0f57",
        "outputId": "256b67b4-8bff-4c2a-86c7-0463025b9944"
      },
      "source": [
        "# a cross validation Decision Tree model with stratified 5 folds and make predictions for test dataset.\n",
        "\n",
        "from sklearn.model_selection import StratifiedKFold\n",
        "\n",
        "\n",
        "i=1 \n",
        "kf = StratifiedKFold(n_splits=5,random_state=3,shuffle=True) \n",
        "f1_list_tst = []\n",
        "f1_list_trn=[]\n",
        "for train_index,test_index in kf.split(cv_train,cv_y):\n",
        "  #print(len(cv_train),len(cv_y))  \n",
        "  xtr,xvl = cv_train.loc[train_index],cv_train.loc[test_index]     \n",
        "  ytr,yvl = cv_y[train_index],cv_y[test_index]         \n",
        "  model = rf_clf # optimized Random Forest model     \n",
        "  model.fit(xtr,ytr)     \n",
        "  pred_train=model.predict_proba(xtr)\n",
        "  pred_test = model.predict_proba(xvl)     \n",
        "  score_tst = roc_auc_score(yvl,pred_test[:,1]) \n",
        "  score_trn = roc_auc_score(ytr,pred_train[:,1])\n",
        "  f1_list_tst.append(score_tst)      \n",
        "  f1_list_trn.append(score_trn)\n",
        "  print('test {:.2f}'.format(score_tst))\n",
        "  print('train {:.2f}'.format(score_trn))\n",
        "  \n",
        "print(\"Mean roc_auc_score across the fold train {:.2f}\".format(sum(f1_list_trn)/len(f1_list_trn)))    \n",
        "print(\"Mean roc_auc across the fold test {:.2f}\".format(sum(f1_list_tst)/len(f1_list_tst)))    \n",
        "    "
      ],
      "id": "ddffebe3-8e70-43a4-900e-aee0156d0f57",
      "execution_count": 149,
      "outputs": [
        {
          "output_type": "stream",
          "text": [
            "test 0.59\n",
            "train 0.63\n",
            "test 0.60\n",
            "train 0.63\n",
            "test 0.61\n",
            "train 0.63\n",
            "test 0.59\n",
            "train 0.63\n",
            "test 0.62\n",
            "train 0.63\n",
            "Mean roc_auc_score across the fold train 0.63\n",
            "Mean roc_auc across the fold test 0.60\n"
          ],
          "name": "stdout"
        }
      ]
    },
    {
      "cell_type": "markdown",
      "metadata": {
        "id": "8ntmW8Y5OmgP"
      },
      "source": [
        "cross validation has not improved the accuracy of the model"
      ],
      "id": "8ntmW8Y5OmgP"
    },
    {
      "cell_type": "markdown",
      "metadata": {
        "id": "efvZ5RxZOmWO"
      },
      "source": [
        ""
      ],
      "id": "efvZ5RxZOmWO"
    },
    {
      "cell_type": "code",
      "metadata": {
        "id": "os7rP6NnO5E-"
      },
      "source": [
        "critical_list=['Manager_Business2','Manager_Grade','Application_Receipt_Date_month',\n",
        "  'Application_Receipt_Date_year','Applicant_City_PIN','Manager_Num_Products',\n",
        "  'Manager_Status_Probation','Manager_Num_Application','Manager_Current_Designation',\n",
        "  'Manager_Business','Applicant_Marital_Status_S','Applicant_Marital_Status_M',\n",
        " 'Applicant_Occupation_Self Employed']\n"
      ],
      "id": "os7rP6NnO5E-",
      "execution_count": 117,
      "outputs": []
    },
    {
      "cell_type": "code",
      "metadata": {
        "id": "f3PZxxiAO4-6"
      },
      "source": [
        "cv_critical=cv_train[critical_list]"
      ],
      "id": "f3PZxxiAO4-6",
      "execution_count": 118,
      "outputs": []
    },
    {
      "cell_type": "code",
      "metadata": {
        "id": "jfTdcXVySkDf"
      },
      "source": [
        "rf_clf = RFC(class_weight = 'balanced_subsample', n_estimators = 50,n_jobs = -1, max_depth = 5, random_state = 101,\n",
        "             max_samples=0.7,min_samples_split=900,max_leaf_nodes=5)"
      ],
      "id": "jfTdcXVySkDf",
      "execution_count": 119,
      "outputs": []
    },
    {
      "cell_type": "code",
      "metadata": {
        "colab": {
          "base_uri": "https://localhost:8080/"
        },
        "id": "563b6924-4dd8-4e38-ba79-a00f66059f56",
        "outputId": "2017f74f-d757-46ff-d3e3-61fb3f49ea0a"
      },
      "source": [
        "i=1 \n",
        "kf = StratifiedKFold(n_splits=5,random_state=3,shuffle=True) \n",
        "f1_list = []\n",
        "for train_index,test_index in kf.split(cv_critical,cv_y):\n",
        "  #print(len(cv_train),len(cv_y))  \n",
        "  xtr,xvl = cv_critical.loc[train_index],cv_critical.loc[test_index]     \n",
        "  ytr,yvl = cv_y[train_index],cv_y[test_index]         \n",
        "  model = rf_clf # optimized Random Forest model     \n",
        "  model.fit(xtr,ytr)     \n",
        "  pred_test = model.predict(xvl)     \n",
        "  score = f1_score(yvl,pred_test) \n",
        "  f1_list.append(score)\n",
        "           \n",
        "print(\"Mean f1_score across the fold is : \",sum(f1_list)/len(f1_list))    \n"
      ],
      "id": "563b6924-4dd8-4e38-ba79-a00f66059f56",
      "execution_count": 120,
      "outputs": [
        {
          "output_type": "stream",
          "text": [
            "Mean f1_score across the fold is :  0.45495938664839797\n"
          ],
          "name": "stdout"
        }
      ]
    },
    {
      "cell_type": "code",
      "metadata": {
        "id": "liCPsRpHDb5O"
      },
      "source": [
        ""
      ],
      "id": "liCPsRpHDb5O",
      "execution_count": 120,
      "outputs": []
    },
    {
      "cell_type": "markdown",
      "metadata": {
        "id": "93f2c5eb-8750-4bb0-a5e3-9c7d48a6d92c"
      },
      "source": [
        "# Prediction of test data"
      ],
      "id": "93f2c5eb-8750-4bb0-a5e3-9c7d48a6d92c"
    },
    {
      "cell_type": "markdown",
      "metadata": {
        "id": "8c15d7a9-a88a-46a8-9f53-be068b3a90a1"
      },
      "source": [
        "#### read the test data"
      ],
      "id": "8c15d7a9-a88a-46a8-9f53-be068b3a90a1"
    },
    {
      "cell_type": "code",
      "metadata": {
        "id": "84e8abea-2584-4ecf-abd5-79965e7e1e36"
      },
      "source": [
        "test=pd.read_csv('test.csv',parse_dates=['Application_Receipt_Date','Applicant_BirthDate','Manager_DOJ','Manager_DoB'])"
      ],
      "id": "84e8abea-2584-4ecf-abd5-79965e7e1e36",
      "execution_count": 121,
      "outputs": []
    },
    {
      "cell_type": "code",
      "metadata": {
        "id": "jOPxvbM07FG_"
      },
      "source": [
        ""
      ],
      "id": "jOPxvbM07FG_",
      "execution_count": 121,
      "outputs": []
    },
    {
      "cell_type": "code",
      "metadata": {
        "colab": {
          "base_uri": "https://localhost:8080/",
          "height": 379
        },
        "id": "1858cca5-fbcb-4b27-8ff1-cb5414131625",
        "outputId": "bb8af560-5f56-4304-c7ec-20869b3332c7"
      },
      "source": [
        "test.sample(10)"
      ],
      "id": "1858cca5-fbcb-4b27-8ff1-cb5414131625",
      "execution_count": 122,
      "outputs": [
        {
          "output_type": "execute_result",
          "data": {
            "text/html": [
              "<div>\n",
              "<style scoped>\n",
              "    .dataframe tbody tr th:only-of-type {\n",
              "        vertical-align: middle;\n",
              "    }\n",
              "\n",
              "    .dataframe tbody tr th {\n",
              "        vertical-align: top;\n",
              "    }\n",
              "\n",
              "    .dataframe thead th {\n",
              "        text-align: right;\n",
              "    }\n",
              "</style>\n",
              "<table border=\"1\" class=\"dataframe\">\n",
              "  <thead>\n",
              "    <tr style=\"text-align: right;\">\n",
              "      <th></th>\n",
              "      <th>ID</th>\n",
              "      <th>Office_PIN</th>\n",
              "      <th>Application_Receipt_Date</th>\n",
              "      <th>Applicant_City_PIN</th>\n",
              "      <th>Applicant_Gender</th>\n",
              "      <th>Applicant_BirthDate</th>\n",
              "      <th>Applicant_Marital_Status</th>\n",
              "      <th>Applicant_Occupation</th>\n",
              "      <th>Applicant_Qualification</th>\n",
              "      <th>Manager_DOJ</th>\n",
              "      <th>Manager_Joining_Designation</th>\n",
              "      <th>Manager_Current_Designation</th>\n",
              "      <th>Manager_Grade</th>\n",
              "      <th>Manager_Status</th>\n",
              "      <th>Manager_Gender</th>\n",
              "      <th>Manager_DoB</th>\n",
              "      <th>Manager_Num_Application</th>\n",
              "      <th>Manager_Num_Coded</th>\n",
              "      <th>Manager_Business</th>\n",
              "      <th>Manager_Num_Products</th>\n",
              "      <th>Manager_Business2</th>\n",
              "      <th>Manager_Num_Products2</th>\n",
              "    </tr>\n",
              "  </thead>\n",
              "  <tbody>\n",
              "    <tr>\n",
              "      <th>2923</th>\n",
              "      <td>FIN1012451</td>\n",
              "      <td>848101</td>\n",
              "      <td>2008-09-29</td>\n",
              "      <td>848101.0</td>\n",
              "      <td>M</td>\n",
              "      <td>1966-12-27</td>\n",
              "      <td>M</td>\n",
              "      <td>Others</td>\n",
              "      <td>Class XII</td>\n",
              "      <td>NaT</td>\n",
              "      <td>NaN</td>\n",
              "      <td>NaN</td>\n",
              "      <td>NaN</td>\n",
              "      <td>NaN</td>\n",
              "      <td>NaN</td>\n",
              "      <td>NaT</td>\n",
              "      <td>NaN</td>\n",
              "      <td>NaN</td>\n",
              "      <td>NaN</td>\n",
              "      <td>NaN</td>\n",
              "      <td>NaN</td>\n",
              "      <td>NaN</td>\n",
              "    </tr>\n",
              "    <tr>\n",
              "      <th>3496</th>\n",
              "      <td>FIN1013024</td>\n",
              "      <td>474008</td>\n",
              "      <td>2008-10-29</td>\n",
              "      <td>474011.0</td>\n",
              "      <td>M</td>\n",
              "      <td>1989-10-13</td>\n",
              "      <td>M</td>\n",
              "      <td>Salaried</td>\n",
              "      <td>Class XII</td>\n",
              "      <td>2008-09-05</td>\n",
              "      <td>Level 2</td>\n",
              "      <td>Level 2</td>\n",
              "      <td>3.0</td>\n",
              "      <td>Probation</td>\n",
              "      <td>M</td>\n",
              "      <td>1972-07-12</td>\n",
              "      <td>2.0</td>\n",
              "      <td>0.0</td>\n",
              "      <td>0.0</td>\n",
              "      <td>0.0</td>\n",
              "      <td>0.0</td>\n",
              "      <td>0.0</td>\n",
              "    </tr>\n",
              "    <tr>\n",
              "      <th>1752</th>\n",
              "      <td>FIN1011280</td>\n",
              "      <td>400705</td>\n",
              "      <td>2008-08-11</td>\n",
              "      <td>400602.0</td>\n",
              "      <td>F</td>\n",
              "      <td>1983-05-30</td>\n",
              "      <td>S</td>\n",
              "      <td>Salaried</td>\n",
              "      <td>Graduate</td>\n",
              "      <td>2008-08-04</td>\n",
              "      <td>Level 2</td>\n",
              "      <td>Level 2</td>\n",
              "      <td>3.0</td>\n",
              "      <td>Probation</td>\n",
              "      <td>M</td>\n",
              "      <td>1973-12-01</td>\n",
              "      <td>0.0</td>\n",
              "      <td>0.0</td>\n",
              "      <td>0.0</td>\n",
              "      <td>0.0</td>\n",
              "      <td>0.0</td>\n",
              "      <td>0.0</td>\n",
              "    </tr>\n",
              "    <tr>\n",
              "      <th>2309</th>\n",
              "      <td>FIN1011837</td>\n",
              "      <td>233001</td>\n",
              "      <td>2008-09-05</td>\n",
              "      <td>232328.0</td>\n",
              "      <td>M</td>\n",
              "      <td>1983-02-25</td>\n",
              "      <td>M</td>\n",
              "      <td>Salaried</td>\n",
              "      <td>Graduate</td>\n",
              "      <td>2008-07-31</td>\n",
              "      <td>Level 1</td>\n",
              "      <td>Level 1</td>\n",
              "      <td>2.0</td>\n",
              "      <td>Probation</td>\n",
              "      <td>M</td>\n",
              "      <td>1978-07-14</td>\n",
              "      <td>10.0</td>\n",
              "      <td>5.0</td>\n",
              "      <td>46934.0</td>\n",
              "      <td>3.0</td>\n",
              "      <td>46934.0</td>\n",
              "      <td>3.0</td>\n",
              "    </tr>\n",
              "    <tr>\n",
              "      <th>3153</th>\n",
              "      <td>FIN1012681</td>\n",
              "      <td>600017</td>\n",
              "      <td>2008-10-08</td>\n",
              "      <td>636009.0</td>\n",
              "      <td>M</td>\n",
              "      <td>1981-05-25</td>\n",
              "      <td>M</td>\n",
              "      <td>Salaried</td>\n",
              "      <td>Graduate</td>\n",
              "      <td>2008-09-10</td>\n",
              "      <td>Level 3</td>\n",
              "      <td>Level 3</td>\n",
              "      <td>4.0</td>\n",
              "      <td>Probation</td>\n",
              "      <td>M</td>\n",
              "      <td>1976-07-07</td>\n",
              "      <td>1.0</td>\n",
              "      <td>0.0</td>\n",
              "      <td>0.0</td>\n",
              "      <td>0.0</td>\n",
              "      <td>0.0</td>\n",
              "      <td>0.0</td>\n",
              "    </tr>\n",
              "    <tr>\n",
              "      <th>273</th>\n",
              "      <td>FIN1009801</td>\n",
              "      <td>201301</td>\n",
              "      <td>2008-07-08</td>\n",
              "      <td>201002.0</td>\n",
              "      <td>M</td>\n",
              "      <td>1972-08-26</td>\n",
              "      <td>M</td>\n",
              "      <td>Business</td>\n",
              "      <td>Graduate</td>\n",
              "      <td>2007-07-12</td>\n",
              "      <td>Level 3</td>\n",
              "      <td>Level 3</td>\n",
              "      <td>4.0</td>\n",
              "      <td>Confirmation</td>\n",
              "      <td>M</td>\n",
              "      <td>1976-04-03</td>\n",
              "      <td>2.0</td>\n",
              "      <td>0.0</td>\n",
              "      <td>60000.0</td>\n",
              "      <td>2.0</td>\n",
              "      <td>60000.0</td>\n",
              "      <td>2.0</td>\n",
              "    </tr>\n",
              "    <tr>\n",
              "      <th>2008</th>\n",
              "      <td>FIN1011536</td>\n",
              "      <td>695014</td>\n",
              "      <td>2008-08-15</td>\n",
              "      <td>695522.0</td>\n",
              "      <td>F</td>\n",
              "      <td>1957-03-03</td>\n",
              "      <td>M</td>\n",
              "      <td>Others</td>\n",
              "      <td>Graduate</td>\n",
              "      <td>2006-06-12</td>\n",
              "      <td>Level 4</td>\n",
              "      <td>Level 4</td>\n",
              "      <td>5.0</td>\n",
              "      <td>Confirmation</td>\n",
              "      <td>F</td>\n",
              "      <td>1955-05-27</td>\n",
              "      <td>9.0</td>\n",
              "      <td>2.0</td>\n",
              "      <td>109116.0</td>\n",
              "      <td>3.0</td>\n",
              "      <td>109116.0</td>\n",
              "      <td>3.0</td>\n",
              "    </tr>\n",
              "    <tr>\n",
              "      <th>3919</th>\n",
              "      <td>FIN1013447</td>\n",
              "      <td>713303</td>\n",
              "      <td>2008-11-20</td>\n",
              "      <td>713325.0</td>\n",
              "      <td>F</td>\n",
              "      <td>1987-10-18</td>\n",
              "      <td>S</td>\n",
              "      <td>Business</td>\n",
              "      <td>Class XII</td>\n",
              "      <td>NaT</td>\n",
              "      <td>NaN</td>\n",
              "      <td>NaN</td>\n",
              "      <td>NaN</td>\n",
              "      <td>NaN</td>\n",
              "      <td>NaN</td>\n",
              "      <td>NaT</td>\n",
              "      <td>NaN</td>\n",
              "      <td>NaN</td>\n",
              "      <td>NaN</td>\n",
              "      <td>NaN</td>\n",
              "      <td>NaN</td>\n",
              "      <td>NaN</td>\n",
              "    </tr>\n",
              "    <tr>\n",
              "      <th>1248</th>\n",
              "      <td>FIN1010776</td>\n",
              "      <td>211001</td>\n",
              "      <td>2008-07-29</td>\n",
              "      <td>211001.0</td>\n",
              "      <td>M</td>\n",
              "      <td>1975-02-12</td>\n",
              "      <td>M</td>\n",
              "      <td>Salaried</td>\n",
              "      <td>Graduate</td>\n",
              "      <td>2008-05-28</td>\n",
              "      <td>Level 1</td>\n",
              "      <td>Level 1</td>\n",
              "      <td>2.0</td>\n",
              "      <td>Probation</td>\n",
              "      <td>M</td>\n",
              "      <td>1976-07-08</td>\n",
              "      <td>1.0</td>\n",
              "      <td>1.0</td>\n",
              "      <td>0.0</td>\n",
              "      <td>0.0</td>\n",
              "      <td>0.0</td>\n",
              "      <td>0.0</td>\n",
              "    </tr>\n",
              "    <tr>\n",
              "      <th>2528</th>\n",
              "      <td>FIN1012056</td>\n",
              "      <td>843302</td>\n",
              "      <td>2008-09-10</td>\n",
              "      <td>843314.0</td>\n",
              "      <td>M</td>\n",
              "      <td>1963-07-07</td>\n",
              "      <td>M</td>\n",
              "      <td>Self Employed</td>\n",
              "      <td>Graduate</td>\n",
              "      <td>NaT</td>\n",
              "      <td>NaN</td>\n",
              "      <td>NaN</td>\n",
              "      <td>NaN</td>\n",
              "      <td>NaN</td>\n",
              "      <td>NaN</td>\n",
              "      <td>NaT</td>\n",
              "      <td>NaN</td>\n",
              "      <td>NaN</td>\n",
              "      <td>NaN</td>\n",
              "      <td>NaN</td>\n",
              "      <td>NaN</td>\n",
              "      <td>NaN</td>\n",
              "    </tr>\n",
              "  </tbody>\n",
              "</table>\n",
              "</div>"
            ],
            "text/plain": [
              "              ID  Office_PIN Application_Receipt_Date  Applicant_City_PIN  \\\n",
              "2923  FIN1012451      848101               2008-09-29            848101.0   \n",
              "3496  FIN1013024      474008               2008-10-29            474011.0   \n",
              "1752  FIN1011280      400705               2008-08-11            400602.0   \n",
              "2309  FIN1011837      233001               2008-09-05            232328.0   \n",
              "3153  FIN1012681      600017               2008-10-08            636009.0   \n",
              "273   FIN1009801      201301               2008-07-08            201002.0   \n",
              "2008  FIN1011536      695014               2008-08-15            695522.0   \n",
              "3919  FIN1013447      713303               2008-11-20            713325.0   \n",
              "1248  FIN1010776      211001               2008-07-29            211001.0   \n",
              "2528  FIN1012056      843302               2008-09-10            843314.0   \n",
              "\n",
              "     Applicant_Gender Applicant_BirthDate Applicant_Marital_Status  \\\n",
              "2923                M          1966-12-27                        M   \n",
              "3496                M          1989-10-13                        M   \n",
              "1752                F          1983-05-30                        S   \n",
              "2309                M          1983-02-25                        M   \n",
              "3153                M          1981-05-25                        M   \n",
              "273                 M          1972-08-26                        M   \n",
              "2008                F          1957-03-03                        M   \n",
              "3919                F          1987-10-18                        S   \n",
              "1248                M          1975-02-12                        M   \n",
              "2528                M          1963-07-07                        M   \n",
              "\n",
              "     Applicant_Occupation Applicant_Qualification Manager_DOJ  \\\n",
              "2923               Others               Class XII         NaT   \n",
              "3496             Salaried               Class XII  2008-09-05   \n",
              "1752             Salaried                Graduate  2008-08-04   \n",
              "2309             Salaried                Graduate  2008-07-31   \n",
              "3153             Salaried                Graduate  2008-09-10   \n",
              "273              Business                Graduate  2007-07-12   \n",
              "2008               Others                Graduate  2006-06-12   \n",
              "3919             Business               Class XII         NaT   \n",
              "1248             Salaried                Graduate  2008-05-28   \n",
              "2528        Self Employed                Graduate         NaT   \n",
              "\n",
              "     Manager_Joining_Designation Manager_Current_Designation  Manager_Grade  \\\n",
              "2923                         NaN                         NaN            NaN   \n",
              "3496                     Level 2                     Level 2            3.0   \n",
              "1752                     Level 2                     Level 2            3.0   \n",
              "2309                     Level 1                     Level 1            2.0   \n",
              "3153                     Level 3                     Level 3            4.0   \n",
              "273                      Level 3                     Level 3            4.0   \n",
              "2008                     Level 4                     Level 4            5.0   \n",
              "3919                         NaN                         NaN            NaN   \n",
              "1248                     Level 1                     Level 1            2.0   \n",
              "2528                         NaN                         NaN            NaN   \n",
              "\n",
              "     Manager_Status Manager_Gender Manager_DoB  Manager_Num_Application  \\\n",
              "2923            NaN            NaN         NaT                      NaN   \n",
              "3496      Probation              M  1972-07-12                      2.0   \n",
              "1752      Probation              M  1973-12-01                      0.0   \n",
              "2309      Probation              M  1978-07-14                     10.0   \n",
              "3153      Probation              M  1976-07-07                      1.0   \n",
              "273    Confirmation              M  1976-04-03                      2.0   \n",
              "2008   Confirmation              F  1955-05-27                      9.0   \n",
              "3919            NaN            NaN         NaT                      NaN   \n",
              "1248      Probation              M  1976-07-08                      1.0   \n",
              "2528            NaN            NaN         NaT                      NaN   \n",
              "\n",
              "      Manager_Num_Coded  Manager_Business  Manager_Num_Products  \\\n",
              "2923                NaN               NaN                   NaN   \n",
              "3496                0.0               0.0                   0.0   \n",
              "1752                0.0               0.0                   0.0   \n",
              "2309                5.0           46934.0                   3.0   \n",
              "3153                0.0               0.0                   0.0   \n",
              "273                 0.0           60000.0                   2.0   \n",
              "2008                2.0          109116.0                   3.0   \n",
              "3919                NaN               NaN                   NaN   \n",
              "1248                1.0               0.0                   0.0   \n",
              "2528                NaN               NaN                   NaN   \n",
              "\n",
              "      Manager_Business2  Manager_Num_Products2  \n",
              "2923                NaN                    NaN  \n",
              "3496                0.0                    0.0  \n",
              "1752                0.0                    0.0  \n",
              "2309            46934.0                    3.0  \n",
              "3153                0.0                    0.0  \n",
              "273             60000.0                    2.0  \n",
              "2008           109116.0                    3.0  \n",
              "3919                NaN                    NaN  \n",
              "1248                0.0                    0.0  \n",
              "2528                NaN                    NaN  "
            ]
          },
          "metadata": {
            "tags": []
          },
          "execution_count": 122
        }
      ]
    },
    {
      "cell_type": "markdown",
      "metadata": {
        "id": "a557a354-3d49-43f9-981d-d98f78b9bb7a"
      },
      "source": [
        "#### Now we will convert categorical data to numerical data for use in ML models. we will perform the same transformations on the test data as on the train data for use in ML models"
      ],
      "id": "a557a354-3d49-43f9-981d-d98f78b9bb7a"
    },
    {
      "cell_type": "code",
      "metadata": {
        "id": "8af3bf20-4782-46f2-bf5b-4edfc0f925f6"
      },
      "source": [
        "test.set_index('ID',drop=True,inplace=True) # ID is not important for ML and serves better purpose as index"
      ],
      "id": "8af3bf20-4782-46f2-bf5b-4edfc0f925f6",
      "execution_count": 123,
      "outputs": []
    },
    {
      "cell_type": "code",
      "metadata": {
        "id": "d77278e3-7233-48c5-9072-f417244cc947"
      },
      "source": [
        "test[manager_numerical_cols]=imputer.transform(test[manager_numerical_cols]) # convert manager related categorical columns to numerical values"
      ],
      "id": "d77278e3-7233-48c5-9072-f417244cc947",
      "execution_count": 124,
      "outputs": []
    },
    {
      "cell_type": "code",
      "metadata": {
        "id": "efa93271-be75-4e16-aab3-480b703b082d"
      },
      "source": [
        "test[train_object_cols]=object_imputer.fit_transform(test[train_object_cols]) # transform the remaining object columns"
      ],
      "id": "efa93271-be75-4e16-aab3-480b703b082d",
      "execution_count": 125,
      "outputs": []
    },
    {
      "cell_type": "code",
      "metadata": {
        "id": "786db587-5ffa-4f65-b960-e2a208ff47c4"
      },
      "source": [
        "# we are seperately extracting the year, month and day\n",
        "for date_ in date_cols:                       \n",
        "    test[str(date_)+'_year']=test[date_].dt.year\n",
        "    test[str(date_)+'_month']=test[date_].dt.month\n",
        "    test[str(date_)+'_day']=test[date_].dt.day    "
      ],
      "id": "786db587-5ffa-4f65-b960-e2a208ff47c4",
      "execution_count": 126,
      "outputs": []
    },
    {
      "cell_type": "code",
      "metadata": {
        "id": "b2e87e09-89b6-48a9-9cfe-ab8b304e8ff6"
      },
      "source": [
        "test.drop(date_cols,inplace=True,axis=1)"
      ],
      "id": "b2e87e09-89b6-48a9-9cfe-ab8b304e8ff6",
      "execution_count": 127,
      "outputs": []
    },
    {
      "cell_type": "code",
      "metadata": {
        "id": "ee8ba51d-4883-4d13-b822-4c809d66a018"
      },
      "source": [
        "# we are seperately assigning the year,month,day values from the mode of Date obtianed for each feature\n",
        "test['Applicant_BirthDate_year']=test.Applicant_BirthDate_year.fillna(int(2007))  \n",
        "test['Applicant_BirthDate_month']=test.Applicant_BirthDate_month.fillna(int(5))\n",
        "test['Manager_DOJ_year']=test.Manager_DOJ_year.fillna(int(2007))\n",
        "test['Manager_DOJ_month']=test.Manager_DOJ_month.fillna(int(1))\n",
        "test['Manager_DoB_year']=test.Manager_DoB_year.fillna(int(1961))\n",
        "test['Manager_DoB_month']=test.Manager_DoB_month.fillna(int(2))\n",
        "test['Applicant_BirthDate_day']=test.Applicant_BirthDate_day.fillna(int(3))\n",
        "test['Manager_DOJ_day']=test.Manager_DOJ_day.fillna(int(9))\n",
        "test['Manager_DoB_day']=test.Manager_DoB_day.fillna(int(11))"
      ],
      "id": "ee8ba51d-4883-4d13-b822-4c809d66a018",
      "execution_count": 128,
      "outputs": []
    },
    {
      "cell_type": "code",
      "metadata": {
        "id": "415d83ad-bcc2-44f9-b958-1aaac63fe166"
      },
      "source": [
        "test['Applicant_City_PIN']=test.Applicant_City_PIN.fillna(int(test.Applicant_City_PIN.mode()))\n",
        "test['Applicant_City_PIN']=test.Applicant_City_PIN.astype(int)"
      ],
      "id": "415d83ad-bcc2-44f9-b958-1aaac63fe166",
      "execution_count": 129,
      "outputs": []
    },
    {
      "cell_type": "code",
      "metadata": {
        "id": "76623506-849d-4537-bd88-61639e51d474"
      },
      "source": [
        "# transformation of categorical columns\n",
        "test[cat_cols]=test[cat_cols].astype(\"category\")"
      ],
      "id": "76623506-849d-4537-bd88-61639e51d474",
      "execution_count": 130,
      "outputs": []
    },
    {
      "cell_type": "code",
      "metadata": {
        "id": "57ee910d-77c6-4cb7-84f6-ca2582528a66"
      },
      "source": [
        "# all nominal values are converted to numerical values by one hot encoding\n",
        "test=pd.get_dummies( test,columns=['Applicant_Gender','Applicant_Marital_Status','Applicant_Occupation','Manager_Status','Manager_Gender'], drop_first = True)"
      ],
      "id": "57ee910d-77c6-4cb7-84f6-ca2582528a66",
      "execution_count": 131,
      "outputs": []
    },
    {
      "cell_type": "code",
      "metadata": {
        "id": "f5b84c09-ef66-4c6b-866a-b4b57c5ad684"
      },
      "source": [
        "# transformation of the ordinal features\n",
        "test['Applicant_Qualification']=test.Applicant_Qualification.map(app_qual_dict)\n",
        "test['Manager_Joining_Designation']=test.Manager_Joining_Designation.map(manag_jn_desg_dict)\n",
        "test['Manager_Current_Designation']=test.Manager_Current_Designation.cat.codes"
      ],
      "id": "f5b84c09-ef66-4c6b-866a-b4b57c5ad684",
      "execution_count": 132,
      "outputs": []
    },
    {
      "cell_type": "code",
      "metadata": {
        "id": "17f33822-e38b-4e09-8f02-f84a34c79f81"
      },
      "source": [
        ""
      ],
      "id": "17f33822-e38b-4e09-8f02-f84a34c79f81",
      "execution_count": 132,
      "outputs": []
    },
    {
      "cell_type": "code",
      "metadata": {
        "colab": {
          "base_uri": "https://localhost:8080/"
        },
        "id": "619308cd-e3aa-4c66-a6ac-8c55471447db",
        "outputId": "28cccaae-bb2c-4932-c361-b232dd3d2527"
      },
      "source": [
        "#one column in Applicant_Qualification is missing in test. hence we can drop that observation\n",
        "test[test.Applicant_Qualification.isna()].index\n",
        "test.loc['FIN1014135','Applicant_Qualification']=test.Applicant_Qualification.median()\n",
        "print(test.Applicant_Qualification.isna().sum())\n",
        "print(test.shape)"
      ],
      "id": "619308cd-e3aa-4c66-a6ac-8c55471447db",
      "execution_count": 133,
      "outputs": [
        {
          "output_type": "stream",
          "text": [
            "0\n",
            "(5045, 34)\n"
          ],
          "name": "stdout"
        }
      ]
    },
    {
      "cell_type": "code",
      "metadata": {
        "colab": {
          "base_uri": "https://localhost:8080/"
        },
        "id": "74e9b65c-139b-4d09-ad95-1ca412ec377d",
        "outputId": "04338431-9b8a-4d00-a886-2c827b75c329"
      },
      "source": [
        "test.info()"
      ],
      "id": "74e9b65c-139b-4d09-ad95-1ca412ec377d",
      "execution_count": 134,
      "outputs": [
        {
          "output_type": "stream",
          "text": [
            "<class 'pandas.core.frame.DataFrame'>\n",
            "Index: 5045 entries, FIN1009528 to FIN1014572\n",
            "Data columns (total 34 columns):\n",
            " #   Column                              Non-Null Count  Dtype  \n",
            "---  ------                              --------------  -----  \n",
            " 0   Office_PIN                          5045 non-null   int64  \n",
            " 1   Applicant_City_PIN                  5045 non-null   int64  \n",
            " 2   Applicant_Qualification             5045 non-null   float64\n",
            " 3   Manager_Joining_Designation         5045 non-null   int64  \n",
            " 4   Manager_Current_Designation         5045 non-null   int8   \n",
            " 5   Manager_Grade                       5045 non-null   float64\n",
            " 6   Manager_Num_Application             5045 non-null   float64\n",
            " 7   Manager_Num_Coded                   5045 non-null   float64\n",
            " 8   Manager_Business                    5045 non-null   float64\n",
            " 9   Manager_Num_Products                5045 non-null   float64\n",
            " 10  Manager_Business2                   5045 non-null   float64\n",
            " 11  Manager_Num_Products2               5045 non-null   float64\n",
            " 12  Application_Receipt_Date_year       5045 non-null   int64  \n",
            " 13  Application_Receipt_Date_month      5045 non-null   int64  \n",
            " 14  Application_Receipt_Date_day        5045 non-null   int64  \n",
            " 15  Applicant_BirthDate_year            5045 non-null   float64\n",
            " 16  Applicant_BirthDate_month           5045 non-null   float64\n",
            " 17  Applicant_BirthDate_day             5045 non-null   float64\n",
            " 18  Manager_DOJ_year                    5045 non-null   float64\n",
            " 19  Manager_DOJ_month                   5045 non-null   float64\n",
            " 20  Manager_DOJ_day                     5045 non-null   float64\n",
            " 21  Manager_DoB_year                    5045 non-null   float64\n",
            " 22  Manager_DoB_month                   5045 non-null   float64\n",
            " 23  Manager_DoB_day                     5045 non-null   float64\n",
            " 24  Applicant_Gender_M                  5045 non-null   uint8  \n",
            " 25  Applicant_Marital_Status_M          5045 non-null   uint8  \n",
            " 26  Applicant_Marital_Status_S          5045 non-null   uint8  \n",
            " 27  Applicant_Marital_Status_W          5045 non-null   uint8  \n",
            " 28  Applicant_Occupation_Others         5045 non-null   uint8  \n",
            " 29  Applicant_Occupation_Salaried       5045 non-null   uint8  \n",
            " 30  Applicant_Occupation_Self Employed  5045 non-null   uint8  \n",
            " 31  Applicant_Occupation_Student        5045 non-null   uint8  \n",
            " 32  Manager_Status_Probation            5045 non-null   uint8  \n",
            " 33  Manager_Gender_M                    5045 non-null   uint8  \n",
            "dtypes: float64(17), int64(6), int8(1), uint8(10)\n",
            "memory usage: 1.1+ MB\n"
          ],
          "name": "stdout"
        }
      ]
    },
    {
      "cell_type": "code",
      "metadata": {
        "id": "937c47af-0a65-4d90-bcbf-22834a1aa67e"
      },
      "source": [
        "# this is the actual test data\n",
        "scaled_test=sc_X.transform(test)"
      ],
      "id": "937c47af-0a65-4d90-bcbf-22834a1aa67e",
      "execution_count": 135,
      "outputs": []
    },
    {
      "cell_type": "code",
      "metadata": {
        "colab": {
          "base_uri": "https://localhost:8080/",
          "height": 179
        },
        "id": "2ca9a237-13a8-40ee-9cc4-d6e64a86475d",
        "outputId": "c8d8d30c-67df-4214-fb1e-2d73d22f13f7"
      },
      "source": [
        "scaled_test=pd.DataFrame(scaled_test)\n",
        "scaled_test.columns=X_scaled.columns\n",
        "scaled_test.head(n=3)"
      ],
      "id": "2ca9a237-13a8-40ee-9cc4-d6e64a86475d",
      "execution_count": 136,
      "outputs": [
        {
          "output_type": "execute_result",
          "data": {
            "text/html": [
              "<div>\n",
              "<style scoped>\n",
              "    .dataframe tbody tr th:only-of-type {\n",
              "        vertical-align: middle;\n",
              "    }\n",
              "\n",
              "    .dataframe tbody tr th {\n",
              "        vertical-align: top;\n",
              "    }\n",
              "\n",
              "    .dataframe thead th {\n",
              "        text-align: right;\n",
              "    }\n",
              "</style>\n",
              "<table border=\"1\" class=\"dataframe\">\n",
              "  <thead>\n",
              "    <tr style=\"text-align: right;\">\n",
              "      <th></th>\n",
              "      <th>Office_PIN</th>\n",
              "      <th>Applicant_City_PIN</th>\n",
              "      <th>Applicant_Qualification</th>\n",
              "      <th>Manager_Joining_Designation</th>\n",
              "      <th>Manager_Current_Designation</th>\n",
              "      <th>Manager_Grade</th>\n",
              "      <th>Manager_Num_Application</th>\n",
              "      <th>Manager_Num_Coded</th>\n",
              "      <th>Manager_Business</th>\n",
              "      <th>Manager_Num_Products</th>\n",
              "      <th>Manager_Business2</th>\n",
              "      <th>Manager_Num_Products2</th>\n",
              "      <th>Application_Receipt_Date_year</th>\n",
              "      <th>Application_Receipt_Date_month</th>\n",
              "      <th>Application_Receipt_Date_day</th>\n",
              "      <th>Applicant_BirthDate_year</th>\n",
              "      <th>Applicant_BirthDate_month</th>\n",
              "      <th>Applicant_BirthDate_day</th>\n",
              "      <th>Manager_DOJ_year</th>\n",
              "      <th>Manager_DOJ_month</th>\n",
              "      <th>Manager_DOJ_day</th>\n",
              "      <th>Manager_DoB_year</th>\n",
              "      <th>Manager_DoB_month</th>\n",
              "      <th>Manager_DoB_day</th>\n",
              "      <th>Applicant_Gender_M</th>\n",
              "      <th>Applicant_Marital_Status_M</th>\n",
              "      <th>Applicant_Marital_Status_S</th>\n",
              "      <th>Applicant_Marital_Status_W</th>\n",
              "      <th>Applicant_Occupation_Others</th>\n",
              "      <th>Applicant_Occupation_Salaried</th>\n",
              "      <th>Applicant_Occupation_Self Employed</th>\n",
              "      <th>Applicant_Occupation_Student</th>\n",
              "      <th>Manager_Status_Probation</th>\n",
              "      <th>Manager_Gender_M</th>\n",
              "    </tr>\n",
              "  </thead>\n",
              "  <tbody>\n",
              "    <tr>\n",
              "      <th>0</th>\n",
              "      <td>-0.716627</td>\n",
              "      <td>-0.710819</td>\n",
              "      <td>1.005529</td>\n",
              "      <td>-0.756717</td>\n",
              "      <td>-1.226979</td>\n",
              "      <td>-1.134088</td>\n",
              "      <td>-0.418194</td>\n",
              "      <td>-0.60641</td>\n",
              "      <td>-0.672187</td>\n",
              "      <td>-0.858684</td>\n",
              "      <td>-0.674169</td>\n",
              "      <td>-0.857921</td>\n",
              "      <td>1.428585</td>\n",
              "      <td>0.091192</td>\n",
              "      <td>-1.598007</td>\n",
              "      <td>0.654757</td>\n",
              "      <td>0.563682</td>\n",
              "      <td>-0.977181</td>\n",
              "      <td>1.184543</td>\n",
              "      <td>-0.510293</td>\n",
              "      <td>1.367057</td>\n",
              "      <td>0.894834</td>\n",
              "      <td>1.267314</td>\n",
              "      <td>0.060401</td>\n",
              "      <td>0.561065</td>\n",
              "      <td>-1.381026</td>\n",
              "      <td>1.384244</td>\n",
              "      <td>-0.025104</td>\n",
              "      <td>-0.50992</td>\n",
              "      <td>0.949924</td>\n",
              "      <td>-0.126049</td>\n",
              "      <td>-0.103513</td>\n",
              "      <td>1.292622</td>\n",
              "      <td>-2.613095</td>\n",
              "    </tr>\n",
              "    <tr>\n",
              "      <th>1</th>\n",
              "      <td>1.472799</td>\n",
              "      <td>1.444428</td>\n",
              "      <td>1.005529</td>\n",
              "      <td>-0.756717</td>\n",
              "      <td>-1.226979</td>\n",
              "      <td>-1.134088</td>\n",
              "      <td>0.061187</td>\n",
              "      <td>-0.60641</td>\n",
              "      <td>-0.672187</td>\n",
              "      <td>-0.858684</td>\n",
              "      <td>-0.674169</td>\n",
              "      <td>-0.857921</td>\n",
              "      <td>1.428585</td>\n",
              "      <td>0.091192</td>\n",
              "      <td>-1.598007</td>\n",
              "      <td>-0.662142</td>\n",
              "      <td>-0.916609</td>\n",
              "      <td>-0.275302</td>\n",
              "      <td>1.184543</td>\n",
              "      <td>-0.218114</td>\n",
              "      <td>1.129405</td>\n",
              "      <td>-0.132709</td>\n",
              "      <td>-0.832460</td>\n",
              "      <td>-1.262724</td>\n",
              "      <td>0.561065</td>\n",
              "      <td>0.724099</td>\n",
              "      <td>-0.722416</td>\n",
              "      <td>-0.025104</td>\n",
              "      <td>-0.50992</td>\n",
              "      <td>0.949924</td>\n",
              "      <td>-0.126049</td>\n",
              "      <td>-0.103513</td>\n",
              "      <td>1.292622</td>\n",
              "      <td>0.382688</td>\n",
              "    </tr>\n",
              "    <tr>\n",
              "      <th>2</th>\n",
              "      <td>1.472799</td>\n",
              "      <td>0.157921</td>\n",
              "      <td>1.005529</td>\n",
              "      <td>0.450053</td>\n",
              "      <td>0.819848</td>\n",
              "      <td>-0.223319</td>\n",
              "      <td>-0.418194</td>\n",
              "      <td>-0.60641</td>\n",
              "      <td>-0.287364</td>\n",
              "      <td>-0.245163</td>\n",
              "      <td>-0.286982</td>\n",
              "      <td>-0.243231</td>\n",
              "      <td>1.428585</td>\n",
              "      <td>0.091192</td>\n",
              "      <td>-1.598007</td>\n",
              "      <td>0.842885</td>\n",
              "      <td>1.747915</td>\n",
              "      <td>0.309597</td>\n",
              "      <td>0.621861</td>\n",
              "      <td>-1.679007</td>\n",
              "      <td>-0.652990</td>\n",
              "      <td>-1.600627</td>\n",
              "      <td>-1.132427</td>\n",
              "      <td>-0.300451</td>\n",
              "      <td>0.561065</td>\n",
              "      <td>-1.381026</td>\n",
              "      <td>1.384244</td>\n",
              "      <td>-0.025104</td>\n",
              "      <td>-0.50992</td>\n",
              "      <td>0.949924</td>\n",
              "      <td>-0.126049</td>\n",
              "      <td>-0.103513</td>\n",
              "      <td>1.292622</td>\n",
              "      <td>0.382688</td>\n",
              "    </tr>\n",
              "  </tbody>\n",
              "</table>\n",
              "</div>"
            ],
            "text/plain": [
              "   Office_PIN  Applicant_City_PIN  Applicant_Qualification  \\\n",
              "0   -0.716627           -0.710819                 1.005529   \n",
              "1    1.472799            1.444428                 1.005529   \n",
              "2    1.472799            0.157921                 1.005529   \n",
              "\n",
              "   Manager_Joining_Designation  Manager_Current_Designation  Manager_Grade  \\\n",
              "0                    -0.756717                    -1.226979      -1.134088   \n",
              "1                    -0.756717                    -1.226979      -1.134088   \n",
              "2                     0.450053                     0.819848      -0.223319   \n",
              "\n",
              "   Manager_Num_Application  Manager_Num_Coded  Manager_Business  \\\n",
              "0                -0.418194           -0.60641         -0.672187   \n",
              "1                 0.061187           -0.60641         -0.672187   \n",
              "2                -0.418194           -0.60641         -0.287364   \n",
              "\n",
              "   Manager_Num_Products  Manager_Business2  Manager_Num_Products2  \\\n",
              "0             -0.858684          -0.674169              -0.857921   \n",
              "1             -0.858684          -0.674169              -0.857921   \n",
              "2             -0.245163          -0.286982              -0.243231   \n",
              "\n",
              "   Application_Receipt_Date_year  Application_Receipt_Date_month  \\\n",
              "0                       1.428585                        0.091192   \n",
              "1                       1.428585                        0.091192   \n",
              "2                       1.428585                        0.091192   \n",
              "\n",
              "   Application_Receipt_Date_day  Applicant_BirthDate_year  \\\n",
              "0                     -1.598007                  0.654757   \n",
              "1                     -1.598007                 -0.662142   \n",
              "2                     -1.598007                  0.842885   \n",
              "\n",
              "   Applicant_BirthDate_month  Applicant_BirthDate_day  Manager_DOJ_year  \\\n",
              "0                   0.563682                -0.977181          1.184543   \n",
              "1                  -0.916609                -0.275302          1.184543   \n",
              "2                   1.747915                 0.309597          0.621861   \n",
              "\n",
              "   Manager_DOJ_month  Manager_DOJ_day  Manager_DoB_year  Manager_DoB_month  \\\n",
              "0          -0.510293         1.367057          0.894834           1.267314   \n",
              "1          -0.218114         1.129405         -0.132709          -0.832460   \n",
              "2          -1.679007        -0.652990         -1.600627          -1.132427   \n",
              "\n",
              "   Manager_DoB_day  Applicant_Gender_M  Applicant_Marital_Status_M  \\\n",
              "0         0.060401            0.561065                   -1.381026   \n",
              "1        -1.262724            0.561065                    0.724099   \n",
              "2        -0.300451            0.561065                   -1.381026   \n",
              "\n",
              "   Applicant_Marital_Status_S  Applicant_Marital_Status_W  \\\n",
              "0                    1.384244                   -0.025104   \n",
              "1                   -0.722416                   -0.025104   \n",
              "2                    1.384244                   -0.025104   \n",
              "\n",
              "   Applicant_Occupation_Others  Applicant_Occupation_Salaried  \\\n",
              "0                     -0.50992                       0.949924   \n",
              "1                     -0.50992                       0.949924   \n",
              "2                     -0.50992                       0.949924   \n",
              "\n",
              "   Applicant_Occupation_Self Employed  Applicant_Occupation_Student  \\\n",
              "0                           -0.126049                     -0.103513   \n",
              "1                           -0.126049                     -0.103513   \n",
              "2                           -0.126049                     -0.103513   \n",
              "\n",
              "   Manager_Status_Probation  Manager_Gender_M  \n",
              "0                  1.292622         -2.613095  \n",
              "1                  1.292622          0.382688  \n",
              "2                  1.292622          0.382688  "
            ]
          },
          "metadata": {
            "tags": []
          },
          "execution_count": 136
        }
      ]
    },
    {
      "cell_type": "markdown",
      "metadata": {
        "id": "c893afa2-af19-4654-a3cf-eedf1167d963"
      },
      "source": [
        "### Prediction with Logistic Regression"
      ],
      "id": "c893afa2-af19-4654-a3cf-eedf1167d963"
    },
    {
      "cell_type": "code",
      "metadata": {
        "id": "9b8afe5b-8f33-4e17-8211-feecccf12b03"
      },
      "source": [
        "y_pred_test=fitted_lr_model.predict(scaled_test)\n",
        "y_pred_probability_test=fitted_lr_model.predict_proba(scaled_test)"
      ],
      "id": "9b8afe5b-8f33-4e17-8211-feecccf12b03",
      "execution_count": 137,
      "outputs": []
    },
    {
      "cell_type": "code",
      "metadata": {
        "colab": {
          "base_uri": "https://localhost:8080/"
        },
        "id": "6aa78d91-4945-4971-a80b-5ccb714f3277",
        "outputId": "ac6c51e4-7578-4797-a9d1-621c1ff958c1"
      },
      "source": [
        "y_pred_test"
      ],
      "id": "6aa78d91-4945-4971-a80b-5ccb714f3277",
      "execution_count": 138,
      "outputs": [
        {
          "output_type": "execute_result",
          "data": {
            "text/plain": [
              "array([1, 1, 1, ..., 1, 0, 1])"
            ]
          },
          "metadata": {
            "tags": []
          },
          "execution_count": 138
        }
      ]
    },
    {
      "cell_type": "code",
      "metadata": {
        "colab": {
          "base_uri": "https://localhost:8080/"
        },
        "id": "3e3f2a2f-f758-4bd5-bfeb-d5c92b6ba768",
        "outputId": "d196eb7d-a00f-487c-d035-22d66494a51c"
      },
      "source": [
        "test.shape,y_pred_test.shape"
      ],
      "id": "3e3f2a2f-f758-4bd5-bfeb-d5c92b6ba768",
      "execution_count": 139,
      "outputs": [
        {
          "output_type": "execute_result",
          "data": {
            "text/plain": [
              "((5045, 34), (5045,))"
            ]
          },
          "metadata": {
            "tags": []
          },
          "execution_count": 139
        }
      ]
    },
    {
      "cell_type": "code",
      "metadata": {
        "colab": {
          "base_uri": "https://localhost:8080/",
          "height": 0
        },
        "id": "0dccacd6-3305-4379-9d2b-9bff1d092129",
        "outputId": "63e11346-47e3-42f8-e7cf-7a72e1f85bae"
      },
      "source": [
        "submit_solution=pd.DataFrame({'ID':test.index,'Business_Sourced':y_pred_test})\n",
        "submit_solution.head()"
      ],
      "id": "0dccacd6-3305-4379-9d2b-9bff1d092129",
      "execution_count": 140,
      "outputs": [
        {
          "output_type": "execute_result",
          "data": {
            "text/html": [
              "<div>\n",
              "<style scoped>\n",
              "    .dataframe tbody tr th:only-of-type {\n",
              "        vertical-align: middle;\n",
              "    }\n",
              "\n",
              "    .dataframe tbody tr th {\n",
              "        vertical-align: top;\n",
              "    }\n",
              "\n",
              "    .dataframe thead th {\n",
              "        text-align: right;\n",
              "    }\n",
              "</style>\n",
              "<table border=\"1\" class=\"dataframe\">\n",
              "  <thead>\n",
              "    <tr style=\"text-align: right;\">\n",
              "      <th></th>\n",
              "      <th>ID</th>\n",
              "      <th>Business_Sourced</th>\n",
              "    </tr>\n",
              "  </thead>\n",
              "  <tbody>\n",
              "    <tr>\n",
              "      <th>0</th>\n",
              "      <td>FIN1009528</td>\n",
              "      <td>1</td>\n",
              "    </tr>\n",
              "    <tr>\n",
              "      <th>1</th>\n",
              "      <td>FIN1009529</td>\n",
              "      <td>1</td>\n",
              "    </tr>\n",
              "    <tr>\n",
              "      <th>2</th>\n",
              "      <td>FIN1009530</td>\n",
              "      <td>1</td>\n",
              "    </tr>\n",
              "    <tr>\n",
              "      <th>3</th>\n",
              "      <td>FIN1009531</td>\n",
              "      <td>1</td>\n",
              "    </tr>\n",
              "    <tr>\n",
              "      <th>4</th>\n",
              "      <td>FIN1009532</td>\n",
              "      <td>1</td>\n",
              "    </tr>\n",
              "  </tbody>\n",
              "</table>\n",
              "</div>"
            ],
            "text/plain": [
              "           ID  Business_Sourced\n",
              "0  FIN1009528                 1\n",
              "1  FIN1009529                 1\n",
              "2  FIN1009530                 1\n",
              "3  FIN1009531                 1\n",
              "4  FIN1009532                 1"
            ]
          },
          "metadata": {
            "tags": []
          },
          "execution_count": 140
        }
      ]
    },
    {
      "cell_type": "code",
      "metadata": {
        "id": "fdff6e22-2594-4212-b6d9-eb290dd819e0"
      },
      "source": [
        "submit_solution.to_csv(\"solution_file.csv\",index=False)"
      ],
      "id": "fdff6e22-2594-4212-b6d9-eb290dd819e0",
      "execution_count": 141,
      "outputs": []
    },
    {
      "cell_type": "markdown",
      "metadata": {
        "id": "0d2af4b7-25c7-4ce6-a519-e650d73d21e4"
      },
      "source": [
        "### Predicting with Bagging Model using Decision Tree base estimator"
      ],
      "id": "0d2af4b7-25c7-4ce6-a519-e650d73d21e4"
    },
    {
      "cell_type": "code",
      "metadata": {
        "id": "545a4fff-2fb4-49a6-b4a3-c2ed0c5a0473"
      },
      "source": [
        "bag_y_pred_test=bag_classifier.predict(scaled_test)\n",
        "bag_y_pred_prob_test=bag_classifier.predict_proba(scaled_test)"
      ],
      "id": "545a4fff-2fb4-49a6-b4a3-c2ed0c5a0473",
      "execution_count": 142,
      "outputs": []
    },
    {
      "cell_type": "code",
      "metadata": {
        "colab": {
          "base_uri": "https://localhost:8080/"
        },
        "id": "0a284ac5-8c0f-440c-a4e9-6fc72bddcf7e",
        "outputId": "7384dede-743f-4155-ab44-8e798245f918"
      },
      "source": [
        "bag_y_pred_test"
      ],
      "id": "0a284ac5-8c0f-440c-a4e9-6fc72bddcf7e",
      "execution_count": 143,
      "outputs": [
        {
          "output_type": "execute_result",
          "data": {
            "text/plain": [
              "array([0, 0, 0, ..., 1, 0, 0])"
            ]
          },
          "metadata": {
            "tags": []
          },
          "execution_count": 143
        }
      ]
    },
    {
      "cell_type": "code",
      "metadata": {
        "colab": {
          "base_uri": "https://localhost:8080/"
        },
        "id": "548f9f90-3211-4579-bff5-d60fa504ca51",
        "outputId": "613d0172-b5a3-45b6-aef5-5f573e536dbd"
      },
      "source": [
        "test.shape,bag_y_pred_test.shape"
      ],
      "id": "548f9f90-3211-4579-bff5-d60fa504ca51",
      "execution_count": 144,
      "outputs": [
        {
          "output_type": "execute_result",
          "data": {
            "text/plain": [
              "((5045, 34), (5045,))"
            ]
          },
          "metadata": {
            "tags": []
          },
          "execution_count": 144
        }
      ]
    },
    {
      "cell_type": "code",
      "metadata": {
        "colab": {
          "base_uri": "https://localhost:8080/",
          "height": 0
        },
        "id": "b7005923-04c6-45d8-8817-625ed8721688",
        "outputId": "f5bcf9ce-47f3-4ff9-9b5f-8a8afa45dd7e"
      },
      "source": [
        "submit_solution=pd.DataFrame({'ID':test.index,'Business_Sourced':bag_y_pred_test})\n",
        "submit_solution.head()"
      ],
      "id": "b7005923-04c6-45d8-8817-625ed8721688",
      "execution_count": 145,
      "outputs": [
        {
          "output_type": "execute_result",
          "data": {
            "text/html": [
              "<div>\n",
              "<style scoped>\n",
              "    .dataframe tbody tr th:only-of-type {\n",
              "        vertical-align: middle;\n",
              "    }\n",
              "\n",
              "    .dataframe tbody tr th {\n",
              "        vertical-align: top;\n",
              "    }\n",
              "\n",
              "    .dataframe thead th {\n",
              "        text-align: right;\n",
              "    }\n",
              "</style>\n",
              "<table border=\"1\" class=\"dataframe\">\n",
              "  <thead>\n",
              "    <tr style=\"text-align: right;\">\n",
              "      <th></th>\n",
              "      <th>ID</th>\n",
              "      <th>Business_Sourced</th>\n",
              "    </tr>\n",
              "  </thead>\n",
              "  <tbody>\n",
              "    <tr>\n",
              "      <th>0</th>\n",
              "      <td>FIN1009528</td>\n",
              "      <td>0</td>\n",
              "    </tr>\n",
              "    <tr>\n",
              "      <th>1</th>\n",
              "      <td>FIN1009529</td>\n",
              "      <td>0</td>\n",
              "    </tr>\n",
              "    <tr>\n",
              "      <th>2</th>\n",
              "      <td>FIN1009530</td>\n",
              "      <td>0</td>\n",
              "    </tr>\n",
              "    <tr>\n",
              "      <th>3</th>\n",
              "      <td>FIN1009531</td>\n",
              "      <td>0</td>\n",
              "    </tr>\n",
              "    <tr>\n",
              "      <th>4</th>\n",
              "      <td>FIN1009532</td>\n",
              "      <td>0</td>\n",
              "    </tr>\n",
              "  </tbody>\n",
              "</table>\n",
              "</div>"
            ],
            "text/plain": [
              "           ID  Business_Sourced\n",
              "0  FIN1009528                 0\n",
              "1  FIN1009529                 0\n",
              "2  FIN1009530                 0\n",
              "3  FIN1009531                 0\n",
              "4  FIN1009532                 0"
            ]
          },
          "metadata": {
            "tags": []
          },
          "execution_count": 145
        }
      ]
    },
    {
      "cell_type": "code",
      "metadata": {
        "id": "8ba5aafd-a23a-4389-8ad0-9a639ddc24d2"
      },
      "source": [
        "submit_solution.to_csv(\"solution_file_bagging.csv\",index=False)"
      ],
      "id": "8ba5aafd-a23a-4389-8ad0-9a639ddc24d2",
      "execution_count": 146,
      "outputs": []
    },
    {
      "cell_type": "markdown",
      "metadata": {
        "id": "f0b4b411-165d-45e4-8d75-91a95b33e09e"
      },
      "source": [
        "### Predicting with Random Forest Classifier"
      ],
      "id": "f0b4b411-165d-45e4-8d75-91a95b33e09e"
    },
    {
      "cell_type": "code",
      "metadata": {
        "id": "c3178c07-9d31-43be-8acc-df3294ebe435"
      },
      "source": [
        "rfclf_y_pred_test=rf_clf.predict(scaled_test)\n",
        "rfclf_y_pred_prob_test=rf_clf.predict_proba(scaled_test)"
      ],
      "id": "c3178c07-9d31-43be-8acc-df3294ebe435",
      "execution_count": 150,
      "outputs": []
    },
    {
      "cell_type": "code",
      "metadata": {
        "id": "OLhLRL-7mL5Y"
      },
      "source": [
        ""
      ],
      "id": "OLhLRL-7mL5Y",
      "execution_count": null,
      "outputs": []
    },
    {
      "cell_type": "code",
      "metadata": {
        "id": "azYOM-1amL1o"
      },
      "source": [
        ""
      ],
      "id": "azYOM-1amL1o",
      "execution_count": null,
      "outputs": []
    },
    {
      "cell_type": "code",
      "metadata": {
        "id": "YBcgusrBmLxH"
      },
      "source": [
        ""
      ],
      "id": "YBcgusrBmLxH",
      "execution_count": null,
      "outputs": []
    },
    {
      "cell_type": "code",
      "metadata": {
        "colab": {
          "base_uri": "https://localhost:8080/"
        },
        "id": "45aeaa66-d6c4-4a74-82ed-8ea9eaaaf36d",
        "outputId": "8c381ad9-4c58-4ad6-fc9c-36f733e12cfa"
      },
      "source": [
        "rfclf_y_pred_test"
      ],
      "id": "45aeaa66-d6c4-4a74-82ed-8ea9eaaaf36d",
      "execution_count": 151,
      "outputs": [
        {
          "output_type": "execute_result",
          "data": {
            "text/plain": [
              "array([0, 0, 0, ..., 0, 0, 0])"
            ]
          },
          "metadata": {
            "tags": []
          },
          "execution_count": 151
        }
      ]
    },
    {
      "cell_type": "code",
      "metadata": {
        "colab": {
          "base_uri": "https://localhost:8080/"
        },
        "id": "d1685af2-ec12-4593-8929-efd7f9a10aad",
        "outputId": "6944100e-aa46-4743-f3ca-a1d45f4ee751"
      },
      "source": [
        "test.shape,rfclf_y_pred_test.shape"
      ],
      "id": "d1685af2-ec12-4593-8929-efd7f9a10aad",
      "execution_count": 152,
      "outputs": [
        {
          "output_type": "execute_result",
          "data": {
            "text/plain": [
              "((5045, 34), (5045,))"
            ]
          },
          "metadata": {
            "tags": []
          },
          "execution_count": 152
        }
      ]
    },
    {
      "cell_type": "code",
      "metadata": {
        "id": "9f8d7d3a-216e-4bbc-ba8e-bbb65c3badd7"
      },
      "source": [
        "submit_solution=pd.DataFrame({'ID':test.index,'Business_Sourced':rfclf_y_pred_test})\n",
        "submit_solution.head()"
      ],
      "id": "9f8d7d3a-216e-4bbc-ba8e-bbb65c3badd7",
      "execution_count": null,
      "outputs": []
    },
    {
      "cell_type": "code",
      "metadata": {
        "id": "df4fd963-c242-421d-8299-d8dfb57658d2"
      },
      "source": [
        "submit_solution.to_csv(\"solution_file_randomforest.csv\",index=False)"
      ],
      "id": "df4fd963-c242-421d-8299-d8dfb57658d2",
      "execution_count": null,
      "outputs": []
    },
    {
      "cell_type": "markdown",
      "metadata": {
        "id": "e7a76895-6009-4186-a7eb-9c1b77df98f0"
      },
      "source": [
        "#### Prediction with Random Forest classifier with unscaled data"
      ],
      "id": "e7a76895-6009-4186-a7eb-9c1b77df98f0"
    },
    {
      "cell_type": "code",
      "metadata": {
        "id": "b7abb9b9-507d-4823-a603-fe7d9841dc64"
      },
      "source": [
        "rfclf_y_pred_test=rf_clf.predict(test)\n",
        "rfclf_y_pred_prob_test=rf_clf.predict_proba(test)"
      ],
      "id": "b7abb9b9-507d-4823-a603-fe7d9841dc64",
      "execution_count": null,
      "outputs": []
    },
    {
      "cell_type": "code",
      "metadata": {
        "id": "f479f017-56d5-4f1d-9c16-40647522b37f"
      },
      "source": [
        "rfclf_y_pred_test"
      ],
      "id": "f479f017-56d5-4f1d-9c16-40647522b37f",
      "execution_count": null,
      "outputs": []
    },
    {
      "cell_type": "code",
      "metadata": {
        "id": "b303b008-1de2-478a-a11a-d367db3fe033"
      },
      "source": [
        "test.shape,rfclf_y_pred_test.shape"
      ],
      "id": "b303b008-1de2-478a-a11a-d367db3fe033",
      "execution_count": null,
      "outputs": []
    },
    {
      "cell_type": "code",
      "metadata": {
        "id": "1d81450e-dc40-4086-ba00-b1528a4cacf6"
      },
      "source": [
        "submit_solution=pd.DataFrame({'ID':test.index,'Business_Sourced':rfclf_y_pred_test})\n",
        "submit_solution.head()"
      ],
      "id": "1d81450e-dc40-4086-ba00-b1528a4cacf6",
      "execution_count": null,
      "outputs": []
    },
    {
      "cell_type": "code",
      "metadata": {
        "id": "07ecbf3c-ede6-4ee4-896b-2e16d1e470a4"
      },
      "source": [
        "submit_solution.to_csv(\"solution_file_randomforest_unscaled.csv\",index=False)"
      ],
      "id": "07ecbf3c-ede6-4ee4-896b-2e16d1e470a4",
      "execution_count": null,
      "outputs": []
    },
    {
      "cell_type": "markdown",
      "metadata": {
        "id": "8d92a46b-559f-4a34-816a-1b5d2c4fedab"
      },
      "source": [
        "#### Random Forest with entropy criterion"
      ],
      "id": "8d92a46b-559f-4a34-816a-1b5d2c4fedab"
    },
    {
      "cell_type": "code",
      "metadata": {
        "id": "5e96022b-dc0f-40bf-be21-71ea2a7af256"
      },
      "source": [
        "rfclf_y_test_uns_ent=rf_clf_ent.predict(test)\n",
        "rfclf_y_prob_test_uns_ent=rf_clf.predict_proba(test)"
      ],
      "id": "5e96022b-dc0f-40bf-be21-71ea2a7af256",
      "execution_count": null,
      "outputs": []
    },
    {
      "cell_type": "code",
      "metadata": {
        "id": "c9daec84-5884-4a83-999b-f87612c8a16f"
      },
      "source": [
        "submit_solution=pd.DataFrame({'ID':test.index,'Business_Sourced':rfclf_y_test_uns_ent})\n",
        "submit_solution.head()"
      ],
      "id": "c9daec84-5884-4a83-999b-f87612c8a16f",
      "execution_count": null,
      "outputs": []
    },
    {
      "cell_type": "code",
      "metadata": {
        "id": "6d574d64-b5e6-41ee-b8dc-5ce15b06fadf"
      },
      "source": [
        "submit_solution.to_csv(\"soln_file_RF_unscaled_entropy.csv\",index=False)"
      ],
      "id": "6d574d64-b5e6-41ee-b8dc-5ce15b06fadf",
      "execution_count": null,
      "outputs": []
    },
    {
      "cell_type": "code",
      "metadata": {
        "colab": {
          "base_uri": "https://localhost:8080/"
        },
        "id": "3c4d750e-9263-4d7f-9403-eae54dbfc0e1",
        "outputId": "84efbc06-2234-4909-a796-26bf13e188a6"
      },
      "source": [
        "submit_solution.value_counts('Business_Sourced')"
      ],
      "id": "3c4d750e-9263-4d7f-9403-eae54dbfc0e1",
      "execution_count": 262,
      "outputs": [
        {
          "output_type": "execute_result",
          "data": {
            "text/plain": [
              "Business_Sourced\n",
              "1    4017\n",
              "0    1028\n",
              "dtype: int64"
            ]
          },
          "metadata": {
            "tags": []
          },
          "execution_count": 262
        }
      ]
    },
    {
      "cell_type": "code",
      "metadata": {
        "id": "03dcc823-fffb-4fb5-8c66-bb3d0ae14bfb"
      },
      "source": [
        ""
      ],
      "id": "03dcc823-fffb-4fb5-8c66-bb3d0ae14bfb",
      "execution_count": null,
      "outputs": []
    },
    {
      "cell_type": "markdown",
      "metadata": {
        "id": "tzl6o996op69"
      },
      "source": [
        "prediction with Random Forest with optimized prediction probability of 0.4"
      ],
      "id": "tzl6o996op69"
    },
    {
      "cell_type": "code",
      "metadata": {
        "id": "aW7dG7QJopHb"
      },
      "source": [
        "y_pred_proba=rf_clf.predict_proba(scaled_test)"
      ],
      "id": "aW7dG7QJopHb",
      "execution_count": 250,
      "outputs": []
    },
    {
      "cell_type": "code",
      "metadata": {
        "id": "QV3V3D_8pG_b"
      },
      "source": [
        "cls_test1=y_pred_proba[:,1].tolist()"
      ],
      "id": "QV3V3D_8pG_b",
      "execution_count": 251,
      "outputs": []
    },
    {
      "cell_type": "code",
      "metadata": {
        "id": "YnuPjYm4rwU1"
      },
      "source": [
        "y_pred_test=[1 if val>0.45 else 0 for val in cls_test1]"
      ],
      "id": "YnuPjYm4rwU1",
      "execution_count": 267,
      "outputs": []
    },
    {
      "cell_type": "code",
      "metadata": {
        "colab": {
          "base_uri": "https://localhost:8080/",
          "height": 204
        },
        "id": "d4bP6pbhpiAY",
        "outputId": "d255dfd1-a2a4-4cbd-bfbb-d26d342b790e"
      },
      "source": [
        "submit_solution=pd.DataFrame({'ID':test.index,'Business_Sourced':y_pred_test})\n",
        "submit_solution.head()"
      ],
      "id": "d4bP6pbhpiAY",
      "execution_count": 268,
      "outputs": [
        {
          "output_type": "execute_result",
          "data": {
            "text/html": [
              "<div>\n",
              "<style scoped>\n",
              "    .dataframe tbody tr th:only-of-type {\n",
              "        vertical-align: middle;\n",
              "    }\n",
              "\n",
              "    .dataframe tbody tr th {\n",
              "        vertical-align: top;\n",
              "    }\n",
              "\n",
              "    .dataframe thead th {\n",
              "        text-align: right;\n",
              "    }\n",
              "</style>\n",
              "<table border=\"1\" class=\"dataframe\">\n",
              "  <thead>\n",
              "    <tr style=\"text-align: right;\">\n",
              "      <th></th>\n",
              "      <th>ID</th>\n",
              "      <th>Business_Sourced</th>\n",
              "    </tr>\n",
              "  </thead>\n",
              "  <tbody>\n",
              "    <tr>\n",
              "      <th>0</th>\n",
              "      <td>FIN1009528</td>\n",
              "      <td>1</td>\n",
              "    </tr>\n",
              "    <tr>\n",
              "      <th>1</th>\n",
              "      <td>FIN1009529</td>\n",
              "      <td>1</td>\n",
              "    </tr>\n",
              "    <tr>\n",
              "      <th>2</th>\n",
              "      <td>FIN1009530</td>\n",
              "      <td>1</td>\n",
              "    </tr>\n",
              "    <tr>\n",
              "      <th>3</th>\n",
              "      <td>FIN1009531</td>\n",
              "      <td>1</td>\n",
              "    </tr>\n",
              "    <tr>\n",
              "      <th>4</th>\n",
              "      <td>FIN1009532</td>\n",
              "      <td>1</td>\n",
              "    </tr>\n",
              "  </tbody>\n",
              "</table>\n",
              "</div>"
            ],
            "text/plain": [
              "           ID  Business_Sourced\n",
              "0  FIN1009528                 1\n",
              "1  FIN1009529                 1\n",
              "2  FIN1009530                 1\n",
              "3  FIN1009531                 1\n",
              "4  FIN1009532                 1"
            ]
          },
          "metadata": {
            "tags": []
          },
          "execution_count": 268
        }
      ]
    },
    {
      "cell_type": "code",
      "metadata": {
        "colab": {
          "base_uri": "https://localhost:8080/"
        },
        "id": "RSuoqYttxFlx",
        "outputId": "ae37a154-862b-478e-b12c-00b60877c190"
      },
      "source": [
        "submit_solution.value_counts('Business_Sourced')"
      ],
      "id": "RSuoqYttxFlx",
      "execution_count": 269,
      "outputs": [
        {
          "output_type": "execute_result",
          "data": {
            "text/plain": [
              "Business_Sourced\n",
              "1    4711\n",
              "0     334\n",
              "dtype: int64"
            ]
          },
          "metadata": {
            "tags": []
          },
          "execution_count": 269
        }
      ]
    },
    {
      "cell_type": "code",
      "metadata": {
        "id": "wI9ZkSDDxLVt"
      },
      "source": [
        "submit_solution.to_csv(\"soln_file_RF_prob.csv\",index=False)"
      ],
      "id": "wI9ZkSDDxLVt",
      "execution_count": 270,
      "outputs": []
    },
    {
      "cell_type": "code",
      "metadata": {
        "id": "cwS7ySf3xQ_I"
      },
      "source": [
        ""
      ],
      "id": "cwS7ySf3xQ_I",
      "execution_count": null,
      "outputs": []
    }
  ]
}